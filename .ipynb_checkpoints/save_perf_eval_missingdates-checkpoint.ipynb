{
 "cells": [
  {
   "cell_type": "code",
   "execution_count": 13,
   "id": "afb92ea0-6e1f-41ac-8582-b24fa357ee98",
   "metadata": {},
   "outputs": [],
   "source": [
    "import numpy as np\n",
    "import pandas as pd\n",
    "import os, time, warnings, random, requests, datetime, pytz, joblib\n",
    "import functools as ft\n",
    "from sklearn.compose import ColumnTransformer, make_column_transformer\n",
    "from sklearn.preprocessing import StandardScaler\n",
    "from sklearn.linear_model import ElasticNet\n",
    "from sklearn.metrics import r2_score, mean_squared_error\n",
    "from google.cloud import storage\n",
    "from io import BytesIO\n",
    "import pandas_gbq"
   ]
  },
  {
   "cell_type": "code",
   "execution_count": 14,
   "id": "319d8383-d776-4904-9c3e-d103d94c151e",
   "metadata": {},
   "outputs": [],
   "source": [
    "# !pip install pandas_gbq"
   ]
  },
  {
   "cell_type": "code",
   "execution_count": 15,
   "id": "aafd47bf-81b8-4afc-8d41-213dfd1c9f7d",
   "metadata": {},
   "outputs": [],
   "source": [
    "time0 = time.time()\n",
    "pull_time = datetime.datetime.now()\n",
    "pull_time = pull_time.astimezone(pytz.timezone('America/New_York'))\n",
    "pull_time = pull_time.replace(tzinfo=None)\n",
    "now_time = (str(pull_time.year) + '_' +\n",
    "str(pull_time.month) + '_' + \n",
    "str(pull_time.day) + '_' +\n",
    "str(pull_time.hour) + ':'  +\n",
    "str(pull_time.minute) + ':' +\n",
    "str(pull_time.second))"
   ]
  },
  {
   "cell_type": "code",
   "execution_count": 16,
   "id": "8c203b09-9e9e-4964-ae5e-ce4d3df1f65b",
   "metadata": {},
   "outputs": [
    {
     "data": {
      "text/plain": [
       "'time: 1.5147738456726074 sec'"
      ]
     },
     "execution_count": 16,
     "metadata": {},
     "output_type": "execute_result"
    }
   ],
   "source": [
    "time1 = time.time()\n",
    "# gsutil works on Vertex, but not in a Cloud Function...\n",
    "data_bucket_name = 'pmykola-streaming-projects'\n",
    "storage_client = storage.Client()\n",
    "bucket = storage_client.get_bucket(data_bucket_name)\n",
    "blobs_all = list(bucket.list_blobs())\n",
    "blobs_specific = list(bucket.list_blobs(prefix='spg-stocks/data'))\n",
    "temp_fnames = [blob.name for blob in blobs_specific]\n",
    "datafiles = ['gs://' + data_bucket_name + '/' + fname for fname in temp_fnames]\n",
    "\n",
    "# datafiles = !gsutil ls gs://pmykola-streaming-projects/spg-stocks/data\n",
    "datafiles = [x for x in datafiles if ('auto_data_last_' in x) & ('pull_time' in x)]\n",
    "f'time: {time.time()-time1} sec'"
   ]
  },
  {
   "cell_type": "code",
   "execution_count": 17,
   "id": "55bfac14-da43-4611-a5b6-cdbbdcb92747",
   "metadata": {},
   "outputs": [
    {
     "name": "stdout",
     "output_type": "stream",
     "text": [
      "time: 0.03754162788391113 sec\n"
     ]
    }
   ],
   "source": [
    "time2 = time.time()\n",
    "tempdf = pd.DataFrame(datafiles, columns=['filename'])\n",
    "tempdf['year'] = 0\n",
    "tempdf['month'] = 0\n",
    "tempdf['day'] = 0\n",
    "# display(tempdf.head())\n",
    "# display(tempdf.iloc[0,:])\n",
    "for i in range(tempdf.shape[0]):\n",
    "    tempdf.loc[i,'year'] = tempdf.loc[i,'filename'].split(\"auto_data_last_\",1)[1][:4]\n",
    "    tail = tempdf.loc[i,'filename'].split(\"pull_time_\",1)[1]\n",
    "    tempdf.loc[i,'month'] = tail.split(\"_\",1)[0]\n",
    "    tempdf.loc[i,'day'] = (tail.split(\"_\",1)[1]).split(\"_\",1)[0]\n",
    "    \n",
    "# display(tempdf.head())\n",
    "\n",
    "tempdf['date'] = pd.to_datetime(tempdf[['year', 'month', 'day']])\n",
    "tempdf.sort_values(by='date', inplace=True)\n",
    "# tempdf = tempdf.tail(4)\n",
    "dates = tempdf.date.copy()\n",
    "dates = [x for x in dates if x > datetime.date(2022, 12, 23)]\n",
    "tempdf0 = tempdf.copy()\n",
    "print(f'time: {time.time()-time2} sec')"
   ]
  },
  {
   "cell_type": "code",
   "execution_count": 18,
   "id": "873ced5d-63c6-4c4a-9147-816c900d46b6",
   "metadata": {},
   "outputs": [
    {
     "name": "stdout",
     "output_type": "stream",
     "text": [
      "[Timestamp('2022-12-27 00:00:00'), Timestamp('2022-12-28 00:00:00'), Timestamp('2022-12-29 00:00:00'), Timestamp('2022-12-30 00:00:00'), Timestamp('2023-01-03 00:00:00'), Timestamp('2023-01-04 00:00:00'), Timestamp('2023-01-05 00:00:00'), Timestamp('2023-01-06 00:00:00'), Timestamp('2023-01-09 00:00:00'), Timestamp('2023-01-10 00:00:00'), Timestamp('2023-01-11 00:00:00'), Timestamp('2023-01-12 00:00:00'), Timestamp('2023-01-13 00:00:00'), Timestamp('2023-01-17 00:00:00'), Timestamp('2023-01-18 00:00:00'), Timestamp('2023-01-19 00:00:00'), Timestamp('2023-01-20 00:00:00'), Timestamp('2023-01-23 00:00:00'), Timestamp('2023-01-24 00:00:00'), Timestamp('2023-01-25 00:00:00'), Timestamp('2023-01-26 00:00:00')]\n"
     ]
    },
    {
     "data": {
      "text/html": [
       "<div>\n",
       "<style scoped>\n",
       "    .dataframe tbody tr th:only-of-type {\n",
       "        vertical-align: middle;\n",
       "    }\n",
       "\n",
       "    .dataframe tbody tr th {\n",
       "        vertical-align: top;\n",
       "    }\n",
       "\n",
       "    .dataframe thead th {\n",
       "        text-align: right;\n",
       "    }\n",
       "</style>\n",
       "<table border=\"1\" class=\"dataframe\">\n",
       "  <thead>\n",
       "    <tr style=\"text-align: right;\">\n",
       "      <th></th>\n",
       "      <th>filename</th>\n",
       "      <th>year</th>\n",
       "      <th>month</th>\n",
       "      <th>day</th>\n",
       "      <th>date</th>\n",
       "    </tr>\n",
       "  </thead>\n",
       "  <tbody>\n",
       "    <tr>\n",
       "      <th>14</th>\n",
       "      <td>gs://pmykola-streaming-projects/spg-stocks/dat...</td>\n",
       "      <td>2022</td>\n",
       "      <td>12</td>\n",
       "      <td>6</td>\n",
       "      <td>2022-12-06</td>\n",
       "    </tr>\n",
       "    <tr>\n",
       "      <th>15</th>\n",
       "      <td>gs://pmykola-streaming-projects/spg-stocks/dat...</td>\n",
       "      <td>2022</td>\n",
       "      <td>12</td>\n",
       "      <td>7</td>\n",
       "      <td>2022-12-07</td>\n",
       "    </tr>\n",
       "    <tr>\n",
       "      <th>16</th>\n",
       "      <td>gs://pmykola-streaming-projects/spg-stocks/dat...</td>\n",
       "      <td>2022</td>\n",
       "      <td>12</td>\n",
       "      <td>8</td>\n",
       "      <td>2022-12-08</td>\n",
       "    </tr>\n",
       "    <tr>\n",
       "      <th>17</th>\n",
       "      <td>gs://pmykola-streaming-projects/spg-stocks/dat...</td>\n",
       "      <td>2022</td>\n",
       "      <td>12</td>\n",
       "      <td>9</td>\n",
       "      <td>2022-12-09</td>\n",
       "    </tr>\n",
       "    <tr>\n",
       "      <th>0</th>\n",
       "      <td>gs://pmykola-streaming-projects/spg-stocks/dat...</td>\n",
       "      <td>2022</td>\n",
       "      <td>12</td>\n",
       "      <td>12</td>\n",
       "      <td>2022-12-12</td>\n",
       "    </tr>\n",
       "    <tr>\n",
       "      <th>1</th>\n",
       "      <td>gs://pmykola-streaming-projects/spg-stocks/dat...</td>\n",
       "      <td>2022</td>\n",
       "      <td>12</td>\n",
       "      <td>13</td>\n",
       "      <td>2022-12-13</td>\n",
       "    </tr>\n",
       "    <tr>\n",
       "      <th>2</th>\n",
       "      <td>gs://pmykola-streaming-projects/spg-stocks/dat...</td>\n",
       "      <td>2022</td>\n",
       "      <td>12</td>\n",
       "      <td>14</td>\n",
       "      <td>2022-12-14</td>\n",
       "    </tr>\n",
       "    <tr>\n",
       "      <th>3</th>\n",
       "      <td>gs://pmykola-streaming-projects/spg-stocks/dat...</td>\n",
       "      <td>2022</td>\n",
       "      <td>12</td>\n",
       "      <td>15</td>\n",
       "      <td>2022-12-15</td>\n",
       "    </tr>\n",
       "    <tr>\n",
       "      <th>4</th>\n",
       "      <td>gs://pmykola-streaming-projects/spg-stocks/dat...</td>\n",
       "      <td>2022</td>\n",
       "      <td>12</td>\n",
       "      <td>16</td>\n",
       "      <td>2022-12-16</td>\n",
       "    </tr>\n",
       "    <tr>\n",
       "      <th>5</th>\n",
       "      <td>gs://pmykola-streaming-projects/spg-stocks/dat...</td>\n",
       "      <td>2022</td>\n",
       "      <td>12</td>\n",
       "      <td>19</td>\n",
       "      <td>2022-12-19</td>\n",
       "    </tr>\n",
       "    <tr>\n",
       "      <th>6</th>\n",
       "      <td>gs://pmykola-streaming-projects/spg-stocks/dat...</td>\n",
       "      <td>2022</td>\n",
       "      <td>12</td>\n",
       "      <td>20</td>\n",
       "      <td>2022-12-20</td>\n",
       "    </tr>\n",
       "    <tr>\n",
       "      <th>7</th>\n",
       "      <td>gs://pmykola-streaming-projects/spg-stocks/dat...</td>\n",
       "      <td>2022</td>\n",
       "      <td>12</td>\n",
       "      <td>21</td>\n",
       "      <td>2022-12-21</td>\n",
       "    </tr>\n",
       "    <tr>\n",
       "      <th>8</th>\n",
       "      <td>gs://pmykola-streaming-projects/spg-stocks/dat...</td>\n",
       "      <td>2022</td>\n",
       "      <td>12</td>\n",
       "      <td>22</td>\n",
       "      <td>2022-12-22</td>\n",
       "    </tr>\n",
       "    <tr>\n",
       "      <th>9</th>\n",
       "      <td>gs://pmykola-streaming-projects/spg-stocks/dat...</td>\n",
       "      <td>2022</td>\n",
       "      <td>12</td>\n",
       "      <td>23</td>\n",
       "      <td>2022-12-23</td>\n",
       "    </tr>\n",
       "    <tr>\n",
       "      <th>10</th>\n",
       "      <td>gs://pmykola-streaming-projects/spg-stocks/dat...</td>\n",
       "      <td>2022</td>\n",
       "      <td>12</td>\n",
       "      <td>27</td>\n",
       "      <td>2022-12-27</td>\n",
       "    </tr>\n",
       "    <tr>\n",
       "      <th>11</th>\n",
       "      <td>gs://pmykola-streaming-projects/spg-stocks/dat...</td>\n",
       "      <td>2022</td>\n",
       "      <td>12</td>\n",
       "      <td>28</td>\n",
       "      <td>2022-12-28</td>\n",
       "    </tr>\n",
       "    <tr>\n",
       "      <th>12</th>\n",
       "      <td>gs://pmykola-streaming-projects/spg-stocks/dat...</td>\n",
       "      <td>2022</td>\n",
       "      <td>12</td>\n",
       "      <td>29</td>\n",
       "      <td>2022-12-29</td>\n",
       "    </tr>\n",
       "    <tr>\n",
       "      <th>13</th>\n",
       "      <td>gs://pmykola-streaming-projects/spg-stocks/dat...</td>\n",
       "      <td>2022</td>\n",
       "      <td>12</td>\n",
       "      <td>30</td>\n",
       "      <td>2022-12-30</td>\n",
       "    </tr>\n",
       "    <tr>\n",
       "      <th>30</th>\n",
       "      <td>gs://pmykola-streaming-projects/spg-stocks/dat...</td>\n",
       "      <td>2023</td>\n",
       "      <td>1</td>\n",
       "      <td>3</td>\n",
       "      <td>2023-01-03</td>\n",
       "    </tr>\n",
       "    <tr>\n",
       "      <th>31</th>\n",
       "      <td>gs://pmykola-streaming-projects/spg-stocks/dat...</td>\n",
       "      <td>2023</td>\n",
       "      <td>1</td>\n",
       "      <td>4</td>\n",
       "      <td>2023-01-04</td>\n",
       "    </tr>\n",
       "    <tr>\n",
       "      <th>32</th>\n",
       "      <td>gs://pmykola-streaming-projects/spg-stocks/dat...</td>\n",
       "      <td>2023</td>\n",
       "      <td>1</td>\n",
       "      <td>5</td>\n",
       "      <td>2023-01-05</td>\n",
       "    </tr>\n",
       "    <tr>\n",
       "      <th>33</th>\n",
       "      <td>gs://pmykola-streaming-projects/spg-stocks/dat...</td>\n",
       "      <td>2023</td>\n",
       "      <td>1</td>\n",
       "      <td>6</td>\n",
       "      <td>2023-01-06</td>\n",
       "    </tr>\n",
       "    <tr>\n",
       "      <th>34</th>\n",
       "      <td>gs://pmykola-streaming-projects/spg-stocks/dat...</td>\n",
       "      <td>2023</td>\n",
       "      <td>1</td>\n",
       "      <td>9</td>\n",
       "      <td>2023-01-09</td>\n",
       "    </tr>\n",
       "    <tr>\n",
       "      <th>18</th>\n",
       "      <td>gs://pmykola-streaming-projects/spg-stocks/dat...</td>\n",
       "      <td>2023</td>\n",
       "      <td>1</td>\n",
       "      <td>10</td>\n",
       "      <td>2023-01-10</td>\n",
       "    </tr>\n",
       "    <tr>\n",
       "      <th>19</th>\n",
       "      <td>gs://pmykola-streaming-projects/spg-stocks/dat...</td>\n",
       "      <td>2023</td>\n",
       "      <td>1</td>\n",
       "      <td>11</td>\n",
       "      <td>2023-01-11</td>\n",
       "    </tr>\n",
       "    <tr>\n",
       "      <th>20</th>\n",
       "      <td>gs://pmykola-streaming-projects/spg-stocks/dat...</td>\n",
       "      <td>2023</td>\n",
       "      <td>1</td>\n",
       "      <td>12</td>\n",
       "      <td>2023-01-12</td>\n",
       "    </tr>\n",
       "    <tr>\n",
       "      <th>21</th>\n",
       "      <td>gs://pmykola-streaming-projects/spg-stocks/dat...</td>\n",
       "      <td>2023</td>\n",
       "      <td>1</td>\n",
       "      <td>13</td>\n",
       "      <td>2023-01-13</td>\n",
       "    </tr>\n",
       "    <tr>\n",
       "      <th>22</th>\n",
       "      <td>gs://pmykola-streaming-projects/spg-stocks/dat...</td>\n",
       "      <td>2023</td>\n",
       "      <td>1</td>\n",
       "      <td>17</td>\n",
       "      <td>2023-01-17</td>\n",
       "    </tr>\n",
       "    <tr>\n",
       "      <th>23</th>\n",
       "      <td>gs://pmykola-streaming-projects/spg-stocks/dat...</td>\n",
       "      <td>2023</td>\n",
       "      <td>1</td>\n",
       "      <td>18</td>\n",
       "      <td>2023-01-18</td>\n",
       "    </tr>\n",
       "    <tr>\n",
       "      <th>24</th>\n",
       "      <td>gs://pmykola-streaming-projects/spg-stocks/dat...</td>\n",
       "      <td>2023</td>\n",
       "      <td>1</td>\n",
       "      <td>19</td>\n",
       "      <td>2023-01-19</td>\n",
       "    </tr>\n",
       "    <tr>\n",
       "      <th>25</th>\n",
       "      <td>gs://pmykola-streaming-projects/spg-stocks/dat...</td>\n",
       "      <td>2023</td>\n",
       "      <td>1</td>\n",
       "      <td>20</td>\n",
       "      <td>2023-01-20</td>\n",
       "    </tr>\n",
       "    <tr>\n",
       "      <th>26</th>\n",
       "      <td>gs://pmykola-streaming-projects/spg-stocks/dat...</td>\n",
       "      <td>2023</td>\n",
       "      <td>1</td>\n",
       "      <td>23</td>\n",
       "      <td>2023-01-23</td>\n",
       "    </tr>\n",
       "    <tr>\n",
       "      <th>27</th>\n",
       "      <td>gs://pmykola-streaming-projects/spg-stocks/dat...</td>\n",
       "      <td>2023</td>\n",
       "      <td>1</td>\n",
       "      <td>24</td>\n",
       "      <td>2023-01-24</td>\n",
       "    </tr>\n",
       "    <tr>\n",
       "      <th>28</th>\n",
       "      <td>gs://pmykola-streaming-projects/spg-stocks/dat...</td>\n",
       "      <td>2023</td>\n",
       "      <td>1</td>\n",
       "      <td>25</td>\n",
       "      <td>2023-01-25</td>\n",
       "    </tr>\n",
       "    <tr>\n",
       "      <th>29</th>\n",
       "      <td>gs://pmykola-streaming-projects/spg-stocks/dat...</td>\n",
       "      <td>2023</td>\n",
       "      <td>1</td>\n",
       "      <td>26</td>\n",
       "      <td>2023-01-26</td>\n",
       "    </tr>\n",
       "  </tbody>\n",
       "</table>\n",
       "</div>"
      ],
      "text/plain": [
       "                                             filename  year month day  \\\n",
       "14  gs://pmykola-streaming-projects/spg-stocks/dat...  2022    12   6   \n",
       "15  gs://pmykola-streaming-projects/spg-stocks/dat...  2022    12   7   \n",
       "16  gs://pmykola-streaming-projects/spg-stocks/dat...  2022    12   8   \n",
       "17  gs://pmykola-streaming-projects/spg-stocks/dat...  2022    12   9   \n",
       "0   gs://pmykola-streaming-projects/spg-stocks/dat...  2022    12  12   \n",
       "1   gs://pmykola-streaming-projects/spg-stocks/dat...  2022    12  13   \n",
       "2   gs://pmykola-streaming-projects/spg-stocks/dat...  2022    12  14   \n",
       "3   gs://pmykola-streaming-projects/spg-stocks/dat...  2022    12  15   \n",
       "4   gs://pmykola-streaming-projects/spg-stocks/dat...  2022    12  16   \n",
       "5   gs://pmykola-streaming-projects/spg-stocks/dat...  2022    12  19   \n",
       "6   gs://pmykola-streaming-projects/spg-stocks/dat...  2022    12  20   \n",
       "7   gs://pmykola-streaming-projects/spg-stocks/dat...  2022    12  21   \n",
       "8   gs://pmykola-streaming-projects/spg-stocks/dat...  2022    12  22   \n",
       "9   gs://pmykola-streaming-projects/spg-stocks/dat...  2022    12  23   \n",
       "10  gs://pmykola-streaming-projects/spg-stocks/dat...  2022    12  27   \n",
       "11  gs://pmykola-streaming-projects/spg-stocks/dat...  2022    12  28   \n",
       "12  gs://pmykola-streaming-projects/spg-stocks/dat...  2022    12  29   \n",
       "13  gs://pmykola-streaming-projects/spg-stocks/dat...  2022    12  30   \n",
       "30  gs://pmykola-streaming-projects/spg-stocks/dat...  2023     1   3   \n",
       "31  gs://pmykola-streaming-projects/spg-stocks/dat...  2023     1   4   \n",
       "32  gs://pmykola-streaming-projects/spg-stocks/dat...  2023     1   5   \n",
       "33  gs://pmykola-streaming-projects/spg-stocks/dat...  2023     1   6   \n",
       "34  gs://pmykola-streaming-projects/spg-stocks/dat...  2023     1   9   \n",
       "18  gs://pmykola-streaming-projects/spg-stocks/dat...  2023     1  10   \n",
       "19  gs://pmykola-streaming-projects/spg-stocks/dat...  2023     1  11   \n",
       "20  gs://pmykola-streaming-projects/spg-stocks/dat...  2023     1  12   \n",
       "21  gs://pmykola-streaming-projects/spg-stocks/dat...  2023     1  13   \n",
       "22  gs://pmykola-streaming-projects/spg-stocks/dat...  2023     1  17   \n",
       "23  gs://pmykola-streaming-projects/spg-stocks/dat...  2023     1  18   \n",
       "24  gs://pmykola-streaming-projects/spg-stocks/dat...  2023     1  19   \n",
       "25  gs://pmykola-streaming-projects/spg-stocks/dat...  2023     1  20   \n",
       "26  gs://pmykola-streaming-projects/spg-stocks/dat...  2023     1  23   \n",
       "27  gs://pmykola-streaming-projects/spg-stocks/dat...  2023     1  24   \n",
       "28  gs://pmykola-streaming-projects/spg-stocks/dat...  2023     1  25   \n",
       "29  gs://pmykola-streaming-projects/spg-stocks/dat...  2023     1  26   \n",
       "\n",
       "         date  \n",
       "14 2022-12-06  \n",
       "15 2022-12-07  \n",
       "16 2022-12-08  \n",
       "17 2022-12-09  \n",
       "0  2022-12-12  \n",
       "1  2022-12-13  \n",
       "2  2022-12-14  \n",
       "3  2022-12-15  \n",
       "4  2022-12-16  \n",
       "5  2022-12-19  \n",
       "6  2022-12-20  \n",
       "7  2022-12-21  \n",
       "8  2022-12-22  \n",
       "9  2022-12-23  \n",
       "10 2022-12-27  \n",
       "11 2022-12-28  \n",
       "12 2022-12-29  \n",
       "13 2022-12-30  \n",
       "30 2023-01-03  \n",
       "31 2023-01-04  \n",
       "32 2023-01-05  \n",
       "33 2023-01-06  \n",
       "34 2023-01-09  \n",
       "18 2023-01-10  \n",
       "19 2023-01-11  \n",
       "20 2023-01-12  \n",
       "21 2023-01-13  \n",
       "22 2023-01-17  \n",
       "23 2023-01-18  \n",
       "24 2023-01-19  \n",
       "25 2023-01-20  \n",
       "26 2023-01-23  \n",
       "27 2023-01-24  \n",
       "28 2023-01-25  \n",
       "29 2023-01-26  "
      ]
     },
     "metadata": {},
     "output_type": "display_data"
    }
   ],
   "source": [
    "print(dates)\n",
    "display(tempdf)"
   ]
  },
  {
   "cell_type": "code",
   "execution_count": 19,
   "id": "5972e008-3bba-4c4f-a5d0-83013b56a47e",
   "metadata": {},
   "outputs": [
    {
     "name": "stdout",
     "output_type": "stream",
     "text": [
      "[Timestamp('2022-12-27 00:00:00'), Timestamp('2022-12-28 00:00:00'), Timestamp('2022-12-29 00:00:00'), Timestamp('2022-12-30 00:00:00'), Timestamp('2023-01-03 00:00:00'), Timestamp('2023-01-04 00:00:00'), Timestamp('2023-01-05 00:00:00'), Timestamp('2023-01-06 00:00:00'), Timestamp('2023-01-09 00:00:00'), Timestamp('2023-01-10 00:00:00'), Timestamp('2023-01-11 00:00:00'), Timestamp('2023-01-12 00:00:00'), Timestamp('2023-01-13 00:00:00'), Timestamp('2023-01-17 00:00:00'), Timestamp('2023-01-18 00:00:00'), Timestamp('2023-01-19 00:00:00'), Timestamp('2023-01-20 00:00:00'), Timestamp('2023-01-23 00:00:00'), Timestamp('2023-01-24 00:00:00'), Timestamp('2023-01-25 00:00:00'), Timestamp('2023-01-26 00:00:00')]\n",
      "Last day is 2022-12-27 00:00:00\n"
     ]
    },
    {
     "data": {
      "text/html": [
       "<div>\n",
       "<style scoped>\n",
       "    .dataframe tbody tr th:only-of-type {\n",
       "        vertical-align: middle;\n",
       "    }\n",
       "\n",
       "    .dataframe tbody tr th {\n",
       "        vertical-align: top;\n",
       "    }\n",
       "\n",
       "    .dataframe thead th {\n",
       "        text-align: right;\n",
       "    }\n",
       "</style>\n",
       "<table border=\"1\" class=\"dataframe\">\n",
       "  <thead>\n",
       "    <tr style=\"text-align: right;\">\n",
       "      <th></th>\n",
       "      <th>filename</th>\n",
       "      <th>year</th>\n",
       "      <th>month</th>\n",
       "      <th>day</th>\n",
       "      <th>date</th>\n",
       "    </tr>\n",
       "  </thead>\n",
       "  <tbody>\n",
       "    <tr>\n",
       "      <th>7</th>\n",
       "      <td>gs://pmykola-streaming-projects/spg-stocks/dat...</td>\n",
       "      <td>2022</td>\n",
       "      <td>12</td>\n",
       "      <td>21</td>\n",
       "      <td>2022-12-21</td>\n",
       "    </tr>\n",
       "    <tr>\n",
       "      <th>8</th>\n",
       "      <td>gs://pmykola-streaming-projects/spg-stocks/dat...</td>\n",
       "      <td>2022</td>\n",
       "      <td>12</td>\n",
       "      <td>22</td>\n",
       "      <td>2022-12-22</td>\n",
       "    </tr>\n",
       "    <tr>\n",
       "      <th>9</th>\n",
       "      <td>gs://pmykola-streaming-projects/spg-stocks/dat...</td>\n",
       "      <td>2022</td>\n",
       "      <td>12</td>\n",
       "      <td>23</td>\n",
       "      <td>2022-12-23</td>\n",
       "    </tr>\n",
       "    <tr>\n",
       "      <th>10</th>\n",
       "      <td>gs://pmykola-streaming-projects/spg-stocks/dat...</td>\n",
       "      <td>2022</td>\n",
       "      <td>12</td>\n",
       "      <td>27</td>\n",
       "      <td>2022-12-27</td>\n",
       "    </tr>\n",
       "  </tbody>\n",
       "</table>\n",
       "</div>"
      ],
      "text/plain": [
       "                                             filename  year month day  \\\n",
       "7   gs://pmykola-streaming-projects/spg-stocks/dat...  2022    12  21   \n",
       "8   gs://pmykola-streaming-projects/spg-stocks/dat...  2022    12  22   \n",
       "9   gs://pmykola-streaming-projects/spg-stocks/dat...  2022    12  23   \n",
       "10  gs://pmykola-streaming-projects/spg-stocks/dat...  2022    12  27   \n",
       "\n",
       "         date  \n",
       "7  2022-12-21  \n",
       "8  2022-12-22  \n",
       "9  2022-12-23  \n",
       "10 2022-12-27  "
      ]
     },
     "metadata": {},
     "output_type": "display_data"
    },
    {
     "name": "stdout",
     "output_type": "stream",
     "text": [
      "['gs://pmykola-streaming-projects/spg-stocks/data/auto_data_last_20221221_pull_time_12_21_16:10:4.csv', 'gs://pmykola-streaming-projects/spg-stocks/data/auto_data_last_20221222_pull_time_12_22_16:10:5.csv', 'gs://pmykola-streaming-projects/spg-stocks/data/auto_data_last_20221223_pull_time_12_23_16:10:5.csv', 'gs://pmykola-streaming-projects/spg-stocks/data/auto_data_last_20221227_pull_time_12_27_16:10:8.csv']\n",
      "time: 1.190131425857544 sec\n",
      "time: 4.944441318511963 sec\n",
      "time: 4.948533535003662 sec\n",
      "time: 4.955952167510986 sec\n",
      "time: 5.10336971282959 sec\n"
     ]
    },
    {
     "name": "stderr",
     "output_type": "stream",
     "text": [
      "/opt/conda/lib/python3.7/site-packages/pandas/core/frame.py:5047: SettingWithCopyWarning: \n",
      "A value is trying to be set on a copy of a slice from a DataFrame\n",
      "\n",
      "See the caveats in the documentation: https://pandas.pydata.org/pandas-docs/stable/user_guide/indexing.html#returning-a-view-versus-a-copy\n",
      "  errors=errors,\n"
     ]
    },
    {
     "name": "stdout",
     "output_type": "stream",
     "text": [
      "196 observations this day\n",
      "time: 6.265880823135376 sec\n",
      "Upload to Cloud Storage complete.\n"
     ]
    },
    {
     "name": "stderr",
     "output_type": "stream",
     "text": [
      "100%|██████████| 1/1 [00:00<00:00, 7767.23it/s]"
     ]
    },
    {
     "name": "stdout",
     "output_type": "stream",
     "text": [
      "response Success: spg-stocks/artifacts/performance-data/m1_performance_20221227_pull_time_1_27_10:4:13.csv upload complete. Total time: 16.065sec\n",
      "time: 14.51610779762268 sec\n",
      "Last day is 2022-12-28 00:00:00\n"
     ]
    },
    {
     "name": "stderr",
     "output_type": "stream",
     "text": [
      "\n"
     ]
    },
    {
     "data": {
      "text/html": [
       "<div>\n",
       "<style scoped>\n",
       "    .dataframe tbody tr th:only-of-type {\n",
       "        vertical-align: middle;\n",
       "    }\n",
       "\n",
       "    .dataframe tbody tr th {\n",
       "        vertical-align: top;\n",
       "    }\n",
       "\n",
       "    .dataframe thead th {\n",
       "        text-align: right;\n",
       "    }\n",
       "</style>\n",
       "<table border=\"1\" class=\"dataframe\">\n",
       "  <thead>\n",
       "    <tr style=\"text-align: right;\">\n",
       "      <th></th>\n",
       "      <th>filename</th>\n",
       "      <th>year</th>\n",
       "      <th>month</th>\n",
       "      <th>day</th>\n",
       "      <th>date</th>\n",
       "    </tr>\n",
       "  </thead>\n",
       "  <tbody>\n",
       "    <tr>\n",
       "      <th>8</th>\n",
       "      <td>gs://pmykola-streaming-projects/spg-stocks/dat...</td>\n",
       "      <td>2022</td>\n",
       "      <td>12</td>\n",
       "      <td>22</td>\n",
       "      <td>2022-12-22</td>\n",
       "    </tr>\n",
       "    <tr>\n",
       "      <th>9</th>\n",
       "      <td>gs://pmykola-streaming-projects/spg-stocks/dat...</td>\n",
       "      <td>2022</td>\n",
       "      <td>12</td>\n",
       "      <td>23</td>\n",
       "      <td>2022-12-23</td>\n",
       "    </tr>\n",
       "    <tr>\n",
       "      <th>10</th>\n",
       "      <td>gs://pmykola-streaming-projects/spg-stocks/dat...</td>\n",
       "      <td>2022</td>\n",
       "      <td>12</td>\n",
       "      <td>27</td>\n",
       "      <td>2022-12-27</td>\n",
       "    </tr>\n",
       "    <tr>\n",
       "      <th>11</th>\n",
       "      <td>gs://pmykola-streaming-projects/spg-stocks/dat...</td>\n",
       "      <td>2022</td>\n",
       "      <td>12</td>\n",
       "      <td>28</td>\n",
       "      <td>2022-12-28</td>\n",
       "    </tr>\n",
       "  </tbody>\n",
       "</table>\n",
       "</div>"
      ],
      "text/plain": [
       "                                             filename  year month day  \\\n",
       "8   gs://pmykola-streaming-projects/spg-stocks/dat...  2022    12  22   \n",
       "9   gs://pmykola-streaming-projects/spg-stocks/dat...  2022    12  23   \n",
       "10  gs://pmykola-streaming-projects/spg-stocks/dat...  2022    12  27   \n",
       "11  gs://pmykola-streaming-projects/spg-stocks/dat...  2022    12  28   \n",
       "\n",
       "         date  \n",
       "8  2022-12-22  \n",
       "9  2022-12-23  \n",
       "10 2022-12-27  \n",
       "11 2022-12-28  "
      ]
     },
     "metadata": {},
     "output_type": "display_data"
    },
    {
     "name": "stdout",
     "output_type": "stream",
     "text": [
      "['gs://pmykola-streaming-projects/spg-stocks/data/auto_data_last_20221222_pull_time_12_22_16:10:5.csv', 'gs://pmykola-streaming-projects/spg-stocks/data/auto_data_last_20221223_pull_time_12_23_16:10:5.csv', 'gs://pmykola-streaming-projects/spg-stocks/data/auto_data_last_20221227_pull_time_12_27_16:10:8.csv', 'gs://pmykola-streaming-projects/spg-stocks/data/auto_data_last_20221228_pull_time_12_28_16:10:5.csv']\n",
      "time: 15.60492992401123 sec\n",
      "time: 20.003867387771606 sec\n",
      "time: 20.00817561149597 sec\n",
      "time: 20.017876148223877 sec\n",
      "time: 20.164231300354004 sec\n"
     ]
    },
    {
     "name": "stderr",
     "output_type": "stream",
     "text": [
      "/opt/conda/lib/python3.7/site-packages/pandas/core/frame.py:5047: SettingWithCopyWarning: \n",
      "A value is trying to be set on a copy of a slice from a DataFrame\n",
      "\n",
      "See the caveats in the documentation: https://pandas.pydata.org/pandas-docs/stable/user_guide/indexing.html#returning-a-view-versus-a-copy\n",
      "  errors=errors,\n"
     ]
    },
    {
     "name": "stdout",
     "output_type": "stream",
     "text": [
      "196 observations this day\n",
      "time: 21.281941652297974 sec\n",
      "Upload to Cloud Storage complete.\n"
     ]
    },
    {
     "name": "stderr",
     "output_type": "stream",
     "text": [
      "100%|██████████| 1/1 [00:00<00:00, 10866.07it/s]"
     ]
    },
    {
     "name": "stdout",
     "output_type": "stream",
     "text": [
      "response Success: spg-stocks/artifacts/performance-data/m1_performance_20221228_pull_time_1_27_10:4:13.csv upload complete. Total time: 28.462sec\n",
      "time: 26.91330909729004 sec\n",
      "Last day is 2022-12-29 00:00:00\n"
     ]
    },
    {
     "name": "stderr",
     "output_type": "stream",
     "text": [
      "\n"
     ]
    },
    {
     "data": {
      "text/html": [
       "<div>\n",
       "<style scoped>\n",
       "    .dataframe tbody tr th:only-of-type {\n",
       "        vertical-align: middle;\n",
       "    }\n",
       "\n",
       "    .dataframe tbody tr th {\n",
       "        vertical-align: top;\n",
       "    }\n",
       "\n",
       "    .dataframe thead th {\n",
       "        text-align: right;\n",
       "    }\n",
       "</style>\n",
       "<table border=\"1\" class=\"dataframe\">\n",
       "  <thead>\n",
       "    <tr style=\"text-align: right;\">\n",
       "      <th></th>\n",
       "      <th>filename</th>\n",
       "      <th>year</th>\n",
       "      <th>month</th>\n",
       "      <th>day</th>\n",
       "      <th>date</th>\n",
       "    </tr>\n",
       "  </thead>\n",
       "  <tbody>\n",
       "    <tr>\n",
       "      <th>9</th>\n",
       "      <td>gs://pmykola-streaming-projects/spg-stocks/dat...</td>\n",
       "      <td>2022</td>\n",
       "      <td>12</td>\n",
       "      <td>23</td>\n",
       "      <td>2022-12-23</td>\n",
       "    </tr>\n",
       "    <tr>\n",
       "      <th>10</th>\n",
       "      <td>gs://pmykola-streaming-projects/spg-stocks/dat...</td>\n",
       "      <td>2022</td>\n",
       "      <td>12</td>\n",
       "      <td>27</td>\n",
       "      <td>2022-12-27</td>\n",
       "    </tr>\n",
       "    <tr>\n",
       "      <th>11</th>\n",
       "      <td>gs://pmykola-streaming-projects/spg-stocks/dat...</td>\n",
       "      <td>2022</td>\n",
       "      <td>12</td>\n",
       "      <td>28</td>\n",
       "      <td>2022-12-28</td>\n",
       "    </tr>\n",
       "    <tr>\n",
       "      <th>12</th>\n",
       "      <td>gs://pmykola-streaming-projects/spg-stocks/dat...</td>\n",
       "      <td>2022</td>\n",
       "      <td>12</td>\n",
       "      <td>29</td>\n",
       "      <td>2022-12-29</td>\n",
       "    </tr>\n",
       "  </tbody>\n",
       "</table>\n",
       "</div>"
      ],
      "text/plain": [
       "                                             filename  year month day  \\\n",
       "9   gs://pmykola-streaming-projects/spg-stocks/dat...  2022    12  23   \n",
       "10  gs://pmykola-streaming-projects/spg-stocks/dat...  2022    12  27   \n",
       "11  gs://pmykola-streaming-projects/spg-stocks/dat...  2022    12  28   \n",
       "12  gs://pmykola-streaming-projects/spg-stocks/dat...  2022    12  29   \n",
       "\n",
       "         date  \n",
       "9  2022-12-23  \n",
       "10 2022-12-27  \n",
       "11 2022-12-28  \n",
       "12 2022-12-29  "
      ]
     },
     "metadata": {},
     "output_type": "display_data"
    },
    {
     "name": "stdout",
     "output_type": "stream",
     "text": [
      "['gs://pmykola-streaming-projects/spg-stocks/data/auto_data_last_20221223_pull_time_12_23_16:10:5.csv', 'gs://pmykola-streaming-projects/spg-stocks/data/auto_data_last_20221227_pull_time_12_27_16:10:8.csv', 'gs://pmykola-streaming-projects/spg-stocks/data/auto_data_last_20221228_pull_time_12_28_16:10:5.csv', 'gs://pmykola-streaming-projects/spg-stocks/data/auto_data_last_20221229_pull_time_12_29_16:10:5.csv']\n",
      "time: 27.96833634376526 sec\n",
      "time: 31.726171016693115 sec\n",
      "time: 31.730705738067627 sec\n",
      "time: 31.738375663757324 sec\n",
      "time: 31.886585474014282 sec\n"
     ]
    },
    {
     "name": "stderr",
     "output_type": "stream",
     "text": [
      "/opt/conda/lib/python3.7/site-packages/pandas/core/frame.py:5047: SettingWithCopyWarning: \n",
      "A value is trying to be set on a copy of a slice from a DataFrame\n",
      "\n",
      "See the caveats in the documentation: https://pandas.pydata.org/pandas-docs/stable/user_guide/indexing.html#returning-a-view-versus-a-copy\n",
      "  errors=errors,\n"
     ]
    },
    {
     "name": "stdout",
     "output_type": "stream",
     "text": [
      "196 observations this day\n",
      "time: 32.147454500198364 sec\n",
      "Upload to Cloud Storage complete.\n"
     ]
    },
    {
     "name": "stderr",
     "output_type": "stream",
     "text": [
      "100%|██████████| 1/1 [00:00<00:00, 13231.24it/s]"
     ]
    },
    {
     "name": "stdout",
     "output_type": "stream",
     "text": [
      "response Success: spg-stocks/artifacts/performance-data/m1_performance_20221229_pull_time_1_27_10:4:13.csv upload complete. Total time: 42.665sec\n",
      "time: 41.11623024940491 sec\n",
      "Last day is 2022-12-30 00:00:00\n"
     ]
    },
    {
     "name": "stderr",
     "output_type": "stream",
     "text": [
      "\n"
     ]
    },
    {
     "data": {
      "text/html": [
       "<div>\n",
       "<style scoped>\n",
       "    .dataframe tbody tr th:only-of-type {\n",
       "        vertical-align: middle;\n",
       "    }\n",
       "\n",
       "    .dataframe tbody tr th {\n",
       "        vertical-align: top;\n",
       "    }\n",
       "\n",
       "    .dataframe thead th {\n",
       "        text-align: right;\n",
       "    }\n",
       "</style>\n",
       "<table border=\"1\" class=\"dataframe\">\n",
       "  <thead>\n",
       "    <tr style=\"text-align: right;\">\n",
       "      <th></th>\n",
       "      <th>filename</th>\n",
       "      <th>year</th>\n",
       "      <th>month</th>\n",
       "      <th>day</th>\n",
       "      <th>date</th>\n",
       "    </tr>\n",
       "  </thead>\n",
       "  <tbody>\n",
       "    <tr>\n",
       "      <th>10</th>\n",
       "      <td>gs://pmykola-streaming-projects/spg-stocks/dat...</td>\n",
       "      <td>2022</td>\n",
       "      <td>12</td>\n",
       "      <td>27</td>\n",
       "      <td>2022-12-27</td>\n",
       "    </tr>\n",
       "    <tr>\n",
       "      <th>11</th>\n",
       "      <td>gs://pmykola-streaming-projects/spg-stocks/dat...</td>\n",
       "      <td>2022</td>\n",
       "      <td>12</td>\n",
       "      <td>28</td>\n",
       "      <td>2022-12-28</td>\n",
       "    </tr>\n",
       "    <tr>\n",
       "      <th>12</th>\n",
       "      <td>gs://pmykola-streaming-projects/spg-stocks/dat...</td>\n",
       "      <td>2022</td>\n",
       "      <td>12</td>\n",
       "      <td>29</td>\n",
       "      <td>2022-12-29</td>\n",
       "    </tr>\n",
       "    <tr>\n",
       "      <th>13</th>\n",
       "      <td>gs://pmykola-streaming-projects/spg-stocks/dat...</td>\n",
       "      <td>2022</td>\n",
       "      <td>12</td>\n",
       "      <td>30</td>\n",
       "      <td>2022-12-30</td>\n",
       "    </tr>\n",
       "  </tbody>\n",
       "</table>\n",
       "</div>"
      ],
      "text/plain": [
       "                                             filename  year month day  \\\n",
       "10  gs://pmykola-streaming-projects/spg-stocks/dat...  2022    12  27   \n",
       "11  gs://pmykola-streaming-projects/spg-stocks/dat...  2022    12  28   \n",
       "12  gs://pmykola-streaming-projects/spg-stocks/dat...  2022    12  29   \n",
       "13  gs://pmykola-streaming-projects/spg-stocks/dat...  2022    12  30   \n",
       "\n",
       "         date  \n",
       "10 2022-12-27  \n",
       "11 2022-12-28  \n",
       "12 2022-12-29  \n",
       "13 2022-12-30  "
      ]
     },
     "metadata": {},
     "output_type": "display_data"
    },
    {
     "name": "stdout",
     "output_type": "stream",
     "text": [
      "['gs://pmykola-streaming-projects/spg-stocks/data/auto_data_last_20221227_pull_time_12_27_16:10:8.csv', 'gs://pmykola-streaming-projects/spg-stocks/data/auto_data_last_20221228_pull_time_12_28_16:10:5.csv', 'gs://pmykola-streaming-projects/spg-stocks/data/auto_data_last_20221229_pull_time_12_29_16:10:5.csv', 'gs://pmykola-streaming-projects/spg-stocks/data/auto_data_last_20221230_pull_time_12_30_16:10:5.csv']\n",
      "time: 41.536211013793945 sec\n",
      "time: 43.22816181182861 sec\n",
      "time: 43.232160568237305 sec\n",
      "time: 43.23980760574341 sec\n",
      "time: 43.38998579978943 sec\n"
     ]
    },
    {
     "name": "stderr",
     "output_type": "stream",
     "text": [
      "/opt/conda/lib/python3.7/site-packages/pandas/core/frame.py:5047: SettingWithCopyWarning: \n",
      "A value is trying to be set on a copy of a slice from a DataFrame\n",
      "\n",
      "See the caveats in the documentation: https://pandas.pydata.org/pandas-docs/stable/user_guide/indexing.html#returning-a-view-versus-a-copy\n",
      "  errors=errors,\n"
     ]
    },
    {
     "name": "stdout",
     "output_type": "stream",
     "text": [
      "196 observations this day\n",
      "time: 44.57781958580017 sec\n",
      "Upload to Cloud Storage complete.\n"
     ]
    },
    {
     "name": "stderr",
     "output_type": "stream",
     "text": [
      "100%|██████████| 1/1 [00:00<00:00, 9238.56it/s]"
     ]
    },
    {
     "name": "stdout",
     "output_type": "stream",
     "text": [
      "response Success: spg-stocks/artifacts/performance-data/m1_performance_20221230_pull_time_1_27_10:4:13.csv upload complete. Total time: 51.611sec\n",
      "time: 50.061938524246216 sec\n",
      "Last day is 2023-01-03 00:00:00\n"
     ]
    },
    {
     "name": "stderr",
     "output_type": "stream",
     "text": [
      "\n"
     ]
    },
    {
     "data": {
      "text/html": [
       "<div>\n",
       "<style scoped>\n",
       "    .dataframe tbody tr th:only-of-type {\n",
       "        vertical-align: middle;\n",
       "    }\n",
       "\n",
       "    .dataframe tbody tr th {\n",
       "        vertical-align: top;\n",
       "    }\n",
       "\n",
       "    .dataframe thead th {\n",
       "        text-align: right;\n",
       "    }\n",
       "</style>\n",
       "<table border=\"1\" class=\"dataframe\">\n",
       "  <thead>\n",
       "    <tr style=\"text-align: right;\">\n",
       "      <th></th>\n",
       "      <th>filename</th>\n",
       "      <th>year</th>\n",
       "      <th>month</th>\n",
       "      <th>day</th>\n",
       "      <th>date</th>\n",
       "    </tr>\n",
       "  </thead>\n",
       "  <tbody>\n",
       "    <tr>\n",
       "      <th>11</th>\n",
       "      <td>gs://pmykola-streaming-projects/spg-stocks/dat...</td>\n",
       "      <td>2022</td>\n",
       "      <td>12</td>\n",
       "      <td>28</td>\n",
       "      <td>2022-12-28</td>\n",
       "    </tr>\n",
       "    <tr>\n",
       "      <th>12</th>\n",
       "      <td>gs://pmykola-streaming-projects/spg-stocks/dat...</td>\n",
       "      <td>2022</td>\n",
       "      <td>12</td>\n",
       "      <td>29</td>\n",
       "      <td>2022-12-29</td>\n",
       "    </tr>\n",
       "    <tr>\n",
       "      <th>13</th>\n",
       "      <td>gs://pmykola-streaming-projects/spg-stocks/dat...</td>\n",
       "      <td>2022</td>\n",
       "      <td>12</td>\n",
       "      <td>30</td>\n",
       "      <td>2022-12-30</td>\n",
       "    </tr>\n",
       "    <tr>\n",
       "      <th>30</th>\n",
       "      <td>gs://pmykola-streaming-projects/spg-stocks/dat...</td>\n",
       "      <td>2023</td>\n",
       "      <td>1</td>\n",
       "      <td>3</td>\n",
       "      <td>2023-01-03</td>\n",
       "    </tr>\n",
       "  </tbody>\n",
       "</table>\n",
       "</div>"
      ],
      "text/plain": [
       "                                             filename  year month day  \\\n",
       "11  gs://pmykola-streaming-projects/spg-stocks/dat...  2022    12  28   \n",
       "12  gs://pmykola-streaming-projects/spg-stocks/dat...  2022    12  29   \n",
       "13  gs://pmykola-streaming-projects/spg-stocks/dat...  2022    12  30   \n",
       "30  gs://pmykola-streaming-projects/spg-stocks/dat...  2023     1   3   \n",
       "\n",
       "         date  \n",
       "11 2022-12-28  \n",
       "12 2022-12-29  \n",
       "13 2022-12-30  \n",
       "30 2023-01-03  "
      ]
     },
     "metadata": {},
     "output_type": "display_data"
    },
    {
     "name": "stdout",
     "output_type": "stream",
     "text": [
      "['gs://pmykola-streaming-projects/spg-stocks/data/auto_data_last_20221228_pull_time_12_28_16:10:5.csv', 'gs://pmykola-streaming-projects/spg-stocks/data/auto_data_last_20221229_pull_time_12_29_16:10:5.csv', 'gs://pmykola-streaming-projects/spg-stocks/data/auto_data_last_20221230_pull_time_12_30_16:10:5.csv', 'gs://pmykola-streaming-projects/spg-stocks/data/auto_data_last_202313_pull_time_1_3_16:10:7.csv']\n",
      "time: 50.75550055503845 sec\n",
      "time: 52.433056354522705 sec\n",
      "time: 52.439316749572754 sec\n",
      "time: 52.451438426971436 sec\n",
      "time: 52.62491822242737 sec\n"
     ]
    },
    {
     "name": "stderr",
     "output_type": "stream",
     "text": [
      "/opt/conda/lib/python3.7/site-packages/pandas/core/frame.py:5047: SettingWithCopyWarning: \n",
      "A value is trying to be set on a copy of a slice from a DataFrame\n",
      "\n",
      "See the caveats in the documentation: https://pandas.pydata.org/pandas-docs/stable/user_guide/indexing.html#returning-a-view-versus-a-copy\n",
      "  errors=errors,\n"
     ]
    },
    {
     "name": "stdout",
     "output_type": "stream",
     "text": [
      "196 observations this day\n",
      "time: 53.73512649536133 sec\n",
      "Upload to Cloud Storage complete.\n"
     ]
    },
    {
     "name": "stderr",
     "output_type": "stream",
     "text": [
      "100%|██████████| 1/1 [00:00<00:00, 11366.68it/s]"
     ]
    },
    {
     "name": "stdout",
     "output_type": "stream",
     "text": [
      "response Success: spg-stocks/artifacts/performance-data/m1_performance_202313_pull_time_1_27_10:4:13.csv upload complete. Total time: 60.349sec\n",
      "time: 58.79956650733948 sec\n",
      "Last day is 2023-01-04 00:00:00\n"
     ]
    },
    {
     "name": "stderr",
     "output_type": "stream",
     "text": [
      "\n"
     ]
    },
    {
     "data": {
      "text/html": [
       "<div>\n",
       "<style scoped>\n",
       "    .dataframe tbody tr th:only-of-type {\n",
       "        vertical-align: middle;\n",
       "    }\n",
       "\n",
       "    .dataframe tbody tr th {\n",
       "        vertical-align: top;\n",
       "    }\n",
       "\n",
       "    .dataframe thead th {\n",
       "        text-align: right;\n",
       "    }\n",
       "</style>\n",
       "<table border=\"1\" class=\"dataframe\">\n",
       "  <thead>\n",
       "    <tr style=\"text-align: right;\">\n",
       "      <th></th>\n",
       "      <th>filename</th>\n",
       "      <th>year</th>\n",
       "      <th>month</th>\n",
       "      <th>day</th>\n",
       "      <th>date</th>\n",
       "    </tr>\n",
       "  </thead>\n",
       "  <tbody>\n",
       "    <tr>\n",
       "      <th>12</th>\n",
       "      <td>gs://pmykola-streaming-projects/spg-stocks/dat...</td>\n",
       "      <td>2022</td>\n",
       "      <td>12</td>\n",
       "      <td>29</td>\n",
       "      <td>2022-12-29</td>\n",
       "    </tr>\n",
       "    <tr>\n",
       "      <th>13</th>\n",
       "      <td>gs://pmykola-streaming-projects/spg-stocks/dat...</td>\n",
       "      <td>2022</td>\n",
       "      <td>12</td>\n",
       "      <td>30</td>\n",
       "      <td>2022-12-30</td>\n",
       "    </tr>\n",
       "    <tr>\n",
       "      <th>30</th>\n",
       "      <td>gs://pmykola-streaming-projects/spg-stocks/dat...</td>\n",
       "      <td>2023</td>\n",
       "      <td>1</td>\n",
       "      <td>3</td>\n",
       "      <td>2023-01-03</td>\n",
       "    </tr>\n",
       "    <tr>\n",
       "      <th>31</th>\n",
       "      <td>gs://pmykola-streaming-projects/spg-stocks/dat...</td>\n",
       "      <td>2023</td>\n",
       "      <td>1</td>\n",
       "      <td>4</td>\n",
       "      <td>2023-01-04</td>\n",
       "    </tr>\n",
       "  </tbody>\n",
       "</table>\n",
       "</div>"
      ],
      "text/plain": [
       "                                             filename  year month day  \\\n",
       "12  gs://pmykola-streaming-projects/spg-stocks/dat...  2022    12  29   \n",
       "13  gs://pmykola-streaming-projects/spg-stocks/dat...  2022    12  30   \n",
       "30  gs://pmykola-streaming-projects/spg-stocks/dat...  2023     1   3   \n",
       "31  gs://pmykola-streaming-projects/spg-stocks/dat...  2023     1   4   \n",
       "\n",
       "         date  \n",
       "12 2022-12-29  \n",
       "13 2022-12-30  \n",
       "30 2023-01-03  \n",
       "31 2023-01-04  "
      ]
     },
     "metadata": {},
     "output_type": "display_data"
    },
    {
     "name": "stdout",
     "output_type": "stream",
     "text": [
      "['gs://pmykola-streaming-projects/spg-stocks/data/auto_data_last_20221229_pull_time_12_29_16:10:5.csv', 'gs://pmykola-streaming-projects/spg-stocks/data/auto_data_last_20221230_pull_time_12_30_16:10:5.csv', 'gs://pmykola-streaming-projects/spg-stocks/data/auto_data_last_202313_pull_time_1_3_16:10:7.csv', 'gs://pmykola-streaming-projects/spg-stocks/data/auto_data_last_202314_pull_time_1_4_16:10:5.csv']\n",
      "time: 59.213672399520874 sec\n",
      "time: 60.94955801963806 sec\n",
      "time: 60.95377564430237 sec\n",
      "time: 60.96190619468689 sec\n",
      "time: 61.11627745628357 sec\n"
     ]
    },
    {
     "name": "stderr",
     "output_type": "stream",
     "text": [
      "/opt/conda/lib/python3.7/site-packages/pandas/core/frame.py:5047: SettingWithCopyWarning: \n",
      "A value is trying to be set on a copy of a slice from a DataFrame\n",
      "\n",
      "See the caveats in the documentation: https://pandas.pydata.org/pandas-docs/stable/user_guide/indexing.html#returning-a-view-versus-a-copy\n",
      "  errors=errors,\n"
     ]
    },
    {
     "name": "stdout",
     "output_type": "stream",
     "text": [
      "196 observations this day\n",
      "time: 61.382915019989014 sec\n",
      "Upload to Cloud Storage complete.\n"
     ]
    },
    {
     "name": "stderr",
     "output_type": "stream",
     "text": [
      "100%|██████████| 1/1 [00:00<00:00, 9489.38it/s]"
     ]
    },
    {
     "name": "stdout",
     "output_type": "stream",
     "text": [
      "response Success: spg-stocks/artifacts/performance-data/m1_performance_202314_pull_time_1_27_10:4:13.csv upload complete. Total time: 68.596sec\n",
      "time: 67.04744553565979 sec\n",
      "Last day is 2023-01-05 00:00:00\n"
     ]
    },
    {
     "name": "stderr",
     "output_type": "stream",
     "text": [
      "\n"
     ]
    },
    {
     "data": {
      "text/html": [
       "<div>\n",
       "<style scoped>\n",
       "    .dataframe tbody tr th:only-of-type {\n",
       "        vertical-align: middle;\n",
       "    }\n",
       "\n",
       "    .dataframe tbody tr th {\n",
       "        vertical-align: top;\n",
       "    }\n",
       "\n",
       "    .dataframe thead th {\n",
       "        text-align: right;\n",
       "    }\n",
       "</style>\n",
       "<table border=\"1\" class=\"dataframe\">\n",
       "  <thead>\n",
       "    <tr style=\"text-align: right;\">\n",
       "      <th></th>\n",
       "      <th>filename</th>\n",
       "      <th>year</th>\n",
       "      <th>month</th>\n",
       "      <th>day</th>\n",
       "      <th>date</th>\n",
       "    </tr>\n",
       "  </thead>\n",
       "  <tbody>\n",
       "    <tr>\n",
       "      <th>13</th>\n",
       "      <td>gs://pmykola-streaming-projects/spg-stocks/dat...</td>\n",
       "      <td>2022</td>\n",
       "      <td>12</td>\n",
       "      <td>30</td>\n",
       "      <td>2022-12-30</td>\n",
       "    </tr>\n",
       "    <tr>\n",
       "      <th>30</th>\n",
       "      <td>gs://pmykola-streaming-projects/spg-stocks/dat...</td>\n",
       "      <td>2023</td>\n",
       "      <td>1</td>\n",
       "      <td>3</td>\n",
       "      <td>2023-01-03</td>\n",
       "    </tr>\n",
       "    <tr>\n",
       "      <th>31</th>\n",
       "      <td>gs://pmykola-streaming-projects/spg-stocks/dat...</td>\n",
       "      <td>2023</td>\n",
       "      <td>1</td>\n",
       "      <td>4</td>\n",
       "      <td>2023-01-04</td>\n",
       "    </tr>\n",
       "    <tr>\n",
       "      <th>32</th>\n",
       "      <td>gs://pmykola-streaming-projects/spg-stocks/dat...</td>\n",
       "      <td>2023</td>\n",
       "      <td>1</td>\n",
       "      <td>5</td>\n",
       "      <td>2023-01-05</td>\n",
       "    </tr>\n",
       "  </tbody>\n",
       "</table>\n",
       "</div>"
      ],
      "text/plain": [
       "                                             filename  year month day  \\\n",
       "13  gs://pmykola-streaming-projects/spg-stocks/dat...  2022    12  30   \n",
       "30  gs://pmykola-streaming-projects/spg-stocks/dat...  2023     1   3   \n",
       "31  gs://pmykola-streaming-projects/spg-stocks/dat...  2023     1   4   \n",
       "32  gs://pmykola-streaming-projects/spg-stocks/dat...  2023     1   5   \n",
       "\n",
       "         date  \n",
       "13 2022-12-30  \n",
       "30 2023-01-03  \n",
       "31 2023-01-04  \n",
       "32 2023-01-05  "
      ]
     },
     "metadata": {},
     "output_type": "display_data"
    },
    {
     "name": "stdout",
     "output_type": "stream",
     "text": [
      "['gs://pmykola-streaming-projects/spg-stocks/data/auto_data_last_20221230_pull_time_12_30_16:10:5.csv', 'gs://pmykola-streaming-projects/spg-stocks/data/auto_data_last_202313_pull_time_1_3_16:10:7.csv', 'gs://pmykola-streaming-projects/spg-stocks/data/auto_data_last_202314_pull_time_1_4_16:10:5.csv', 'gs://pmykola-streaming-projects/spg-stocks/data/auto_data_last_202315_pull_time_1_5_16:10:5.csv']\n",
      "time: 67.47674560546875 sec\n",
      "time: 69.21180438995361 sec\n",
      "time: 69.21610713005066 sec\n",
      "time: 69.22352051734924 sec\n",
      "time: 69.37031197547913 sec\n"
     ]
    },
    {
     "name": "stderr",
     "output_type": "stream",
     "text": [
      "/opt/conda/lib/python3.7/site-packages/pandas/core/frame.py:5047: SettingWithCopyWarning: \n",
      "A value is trying to be set on a copy of a slice from a DataFrame\n",
      "\n",
      "See the caveats in the documentation: https://pandas.pydata.org/pandas-docs/stable/user_guide/indexing.html#returning-a-view-versus-a-copy\n",
      "  errors=errors,\n"
     ]
    },
    {
     "name": "stdout",
     "output_type": "stream",
     "text": [
      "196 observations this day\n",
      "time: 69.83596229553223 sec\n",
      "Upload to Cloud Storage complete.\n"
     ]
    },
    {
     "name": "stderr",
     "output_type": "stream",
     "text": [
      "100%|██████████| 1/1 [00:00<00:00, 10205.12it/s]"
     ]
    },
    {
     "name": "stdout",
     "output_type": "stream",
     "text": [
      "response Success: spg-stocks/artifacts/performance-data/m1_performance_202315_pull_time_1_27_10:4:13.csv upload complete. Total time: 79.471sec\n",
      "time: 77.92211627960205 sec\n",
      "Last day is 2023-01-06 00:00:00\n"
     ]
    },
    {
     "name": "stderr",
     "output_type": "stream",
     "text": [
      "\n"
     ]
    },
    {
     "data": {
      "text/html": [
       "<div>\n",
       "<style scoped>\n",
       "    .dataframe tbody tr th:only-of-type {\n",
       "        vertical-align: middle;\n",
       "    }\n",
       "\n",
       "    .dataframe tbody tr th {\n",
       "        vertical-align: top;\n",
       "    }\n",
       "\n",
       "    .dataframe thead th {\n",
       "        text-align: right;\n",
       "    }\n",
       "</style>\n",
       "<table border=\"1\" class=\"dataframe\">\n",
       "  <thead>\n",
       "    <tr style=\"text-align: right;\">\n",
       "      <th></th>\n",
       "      <th>filename</th>\n",
       "      <th>year</th>\n",
       "      <th>month</th>\n",
       "      <th>day</th>\n",
       "      <th>date</th>\n",
       "    </tr>\n",
       "  </thead>\n",
       "  <tbody>\n",
       "    <tr>\n",
       "      <th>30</th>\n",
       "      <td>gs://pmykola-streaming-projects/spg-stocks/dat...</td>\n",
       "      <td>2023</td>\n",
       "      <td>1</td>\n",
       "      <td>3</td>\n",
       "      <td>2023-01-03</td>\n",
       "    </tr>\n",
       "    <tr>\n",
       "      <th>31</th>\n",
       "      <td>gs://pmykola-streaming-projects/spg-stocks/dat...</td>\n",
       "      <td>2023</td>\n",
       "      <td>1</td>\n",
       "      <td>4</td>\n",
       "      <td>2023-01-04</td>\n",
       "    </tr>\n",
       "    <tr>\n",
       "      <th>32</th>\n",
       "      <td>gs://pmykola-streaming-projects/spg-stocks/dat...</td>\n",
       "      <td>2023</td>\n",
       "      <td>1</td>\n",
       "      <td>5</td>\n",
       "      <td>2023-01-05</td>\n",
       "    </tr>\n",
       "    <tr>\n",
       "      <th>33</th>\n",
       "      <td>gs://pmykola-streaming-projects/spg-stocks/dat...</td>\n",
       "      <td>2023</td>\n",
       "      <td>1</td>\n",
       "      <td>6</td>\n",
       "      <td>2023-01-06</td>\n",
       "    </tr>\n",
       "  </tbody>\n",
       "</table>\n",
       "</div>"
      ],
      "text/plain": [
       "                                             filename  year month day  \\\n",
       "30  gs://pmykola-streaming-projects/spg-stocks/dat...  2023     1   3   \n",
       "31  gs://pmykola-streaming-projects/spg-stocks/dat...  2023     1   4   \n",
       "32  gs://pmykola-streaming-projects/spg-stocks/dat...  2023     1   5   \n",
       "33  gs://pmykola-streaming-projects/spg-stocks/dat...  2023     1   6   \n",
       "\n",
       "         date  \n",
       "30 2023-01-03  \n",
       "31 2023-01-04  \n",
       "32 2023-01-05  \n",
       "33 2023-01-06  "
      ]
     },
     "metadata": {},
     "output_type": "display_data"
    },
    {
     "name": "stdout",
     "output_type": "stream",
     "text": [
      "['gs://pmykola-streaming-projects/spg-stocks/data/auto_data_last_202313_pull_time_1_3_16:10:7.csv', 'gs://pmykola-streaming-projects/spg-stocks/data/auto_data_last_202314_pull_time_1_4_16:10:5.csv', 'gs://pmykola-streaming-projects/spg-stocks/data/auto_data_last_202315_pull_time_1_5_16:10:5.csv', 'gs://pmykola-streaming-projects/spg-stocks/data/auto_data_last_202316_pull_time_1_6_16:10:5.csv']\n",
      "time: 78.35268473625183 sec\n",
      "time: 80.05545949935913 sec\n",
      "time: 80.05991649627686 sec\n",
      "time: 80.09014511108398 sec\n",
      "time: 80.2469835281372 sec\n"
     ]
    },
    {
     "name": "stderr",
     "output_type": "stream",
     "text": [
      "/opt/conda/lib/python3.7/site-packages/pandas/core/frame.py:5047: SettingWithCopyWarning: \n",
      "A value is trying to be set on a copy of a slice from a DataFrame\n",
      "\n",
      "See the caveats in the documentation: https://pandas.pydata.org/pandas-docs/stable/user_guide/indexing.html#returning-a-view-versus-a-copy\n",
      "  errors=errors,\n"
     ]
    },
    {
     "name": "stdout",
     "output_type": "stream",
     "text": [
      "196 observations this day\n",
      "time: 81.43629574775696 sec\n",
      "Upload to Cloud Storage complete.\n"
     ]
    },
    {
     "name": "stderr",
     "output_type": "stream",
     "text": [
      "100%|██████████| 1/1 [00:00<00:00, 10922.67it/s]"
     ]
    },
    {
     "name": "stdout",
     "output_type": "stream",
     "text": [
      "response Success: spg-stocks/artifacts/performance-data/m1_performance_202316_pull_time_1_27_10:4:13.csv upload complete. Total time: 89.272sec\n",
      "time: 87.72291731834412 sec\n",
      "Last day is 2023-01-09 00:00:00\n"
     ]
    },
    {
     "name": "stderr",
     "output_type": "stream",
     "text": [
      "\n"
     ]
    },
    {
     "data": {
      "text/html": [
       "<div>\n",
       "<style scoped>\n",
       "    .dataframe tbody tr th:only-of-type {\n",
       "        vertical-align: middle;\n",
       "    }\n",
       "\n",
       "    .dataframe tbody tr th {\n",
       "        vertical-align: top;\n",
       "    }\n",
       "\n",
       "    .dataframe thead th {\n",
       "        text-align: right;\n",
       "    }\n",
       "</style>\n",
       "<table border=\"1\" class=\"dataframe\">\n",
       "  <thead>\n",
       "    <tr style=\"text-align: right;\">\n",
       "      <th></th>\n",
       "      <th>filename</th>\n",
       "      <th>year</th>\n",
       "      <th>month</th>\n",
       "      <th>day</th>\n",
       "      <th>date</th>\n",
       "    </tr>\n",
       "  </thead>\n",
       "  <tbody>\n",
       "    <tr>\n",
       "      <th>31</th>\n",
       "      <td>gs://pmykola-streaming-projects/spg-stocks/dat...</td>\n",
       "      <td>2023</td>\n",
       "      <td>1</td>\n",
       "      <td>4</td>\n",
       "      <td>2023-01-04</td>\n",
       "    </tr>\n",
       "    <tr>\n",
       "      <th>32</th>\n",
       "      <td>gs://pmykola-streaming-projects/spg-stocks/dat...</td>\n",
       "      <td>2023</td>\n",
       "      <td>1</td>\n",
       "      <td>5</td>\n",
       "      <td>2023-01-05</td>\n",
       "    </tr>\n",
       "    <tr>\n",
       "      <th>33</th>\n",
       "      <td>gs://pmykola-streaming-projects/spg-stocks/dat...</td>\n",
       "      <td>2023</td>\n",
       "      <td>1</td>\n",
       "      <td>6</td>\n",
       "      <td>2023-01-06</td>\n",
       "    </tr>\n",
       "    <tr>\n",
       "      <th>34</th>\n",
       "      <td>gs://pmykola-streaming-projects/spg-stocks/dat...</td>\n",
       "      <td>2023</td>\n",
       "      <td>1</td>\n",
       "      <td>9</td>\n",
       "      <td>2023-01-09</td>\n",
       "    </tr>\n",
       "  </tbody>\n",
       "</table>\n",
       "</div>"
      ],
      "text/plain": [
       "                                             filename  year month day  \\\n",
       "31  gs://pmykola-streaming-projects/spg-stocks/dat...  2023     1   4   \n",
       "32  gs://pmykola-streaming-projects/spg-stocks/dat...  2023     1   5   \n",
       "33  gs://pmykola-streaming-projects/spg-stocks/dat...  2023     1   6   \n",
       "34  gs://pmykola-streaming-projects/spg-stocks/dat...  2023     1   9   \n",
       "\n",
       "         date  \n",
       "31 2023-01-04  \n",
       "32 2023-01-05  \n",
       "33 2023-01-06  \n",
       "34 2023-01-09  "
      ]
     },
     "metadata": {},
     "output_type": "display_data"
    },
    {
     "name": "stdout",
     "output_type": "stream",
     "text": [
      "['gs://pmykola-streaming-projects/spg-stocks/data/auto_data_last_202314_pull_time_1_4_16:10:5.csv', 'gs://pmykola-streaming-projects/spg-stocks/data/auto_data_last_202315_pull_time_1_5_16:10:5.csv', 'gs://pmykola-streaming-projects/spg-stocks/data/auto_data_last_202316_pull_time_1_6_16:10:5.csv', 'gs://pmykola-streaming-projects/spg-stocks/data/auto_data_last_202319_pull_time_1_9_16:10:7.csv']\n",
      "time: 88.14493536949158 sec\n",
      "time: 89.88148021697998 sec\n",
      "time: 89.88571619987488 sec\n",
      "time: 89.89322400093079 sec\n",
      "time: 90.04404544830322 sec\n"
     ]
    },
    {
     "name": "stderr",
     "output_type": "stream",
     "text": [
      "/opt/conda/lib/python3.7/site-packages/pandas/core/frame.py:5047: SettingWithCopyWarning: \n",
      "A value is trying to be set on a copy of a slice from a DataFrame\n",
      "\n",
      "See the caveats in the documentation: https://pandas.pydata.org/pandas-docs/stable/user_guide/indexing.html#returning-a-view-versus-a-copy\n",
      "  errors=errors,\n"
     ]
    },
    {
     "name": "stdout",
     "output_type": "stream",
     "text": [
      "196 observations this day\n",
      "time: 91.21074676513672 sec\n",
      "Upload to Cloud Storage complete.\n"
     ]
    },
    {
     "name": "stderr",
     "output_type": "stream",
     "text": [
      "100%|██████████| 1/1 [00:00<00:00, 8719.97it/s]"
     ]
    },
    {
     "name": "stdout",
     "output_type": "stream",
     "text": [
      "response Success: spg-stocks/artifacts/performance-data/m1_performance_202319_pull_time_1_27_10:4:13.csv upload complete. Total time: 98.480sec\n",
      "time: 96.93065571784973 sec\n",
      "Last day is 2023-01-10 00:00:00\n"
     ]
    },
    {
     "name": "stderr",
     "output_type": "stream",
     "text": [
      "\n"
     ]
    },
    {
     "data": {
      "text/html": [
       "<div>\n",
       "<style scoped>\n",
       "    .dataframe tbody tr th:only-of-type {\n",
       "        vertical-align: middle;\n",
       "    }\n",
       "\n",
       "    .dataframe tbody tr th {\n",
       "        vertical-align: top;\n",
       "    }\n",
       "\n",
       "    .dataframe thead th {\n",
       "        text-align: right;\n",
       "    }\n",
       "</style>\n",
       "<table border=\"1\" class=\"dataframe\">\n",
       "  <thead>\n",
       "    <tr style=\"text-align: right;\">\n",
       "      <th></th>\n",
       "      <th>filename</th>\n",
       "      <th>year</th>\n",
       "      <th>month</th>\n",
       "      <th>day</th>\n",
       "      <th>date</th>\n",
       "    </tr>\n",
       "  </thead>\n",
       "  <tbody>\n",
       "    <tr>\n",
       "      <th>32</th>\n",
       "      <td>gs://pmykola-streaming-projects/spg-stocks/dat...</td>\n",
       "      <td>2023</td>\n",
       "      <td>1</td>\n",
       "      <td>5</td>\n",
       "      <td>2023-01-05</td>\n",
       "    </tr>\n",
       "    <tr>\n",
       "      <th>33</th>\n",
       "      <td>gs://pmykola-streaming-projects/spg-stocks/dat...</td>\n",
       "      <td>2023</td>\n",
       "      <td>1</td>\n",
       "      <td>6</td>\n",
       "      <td>2023-01-06</td>\n",
       "    </tr>\n",
       "    <tr>\n",
       "      <th>34</th>\n",
       "      <td>gs://pmykola-streaming-projects/spg-stocks/dat...</td>\n",
       "      <td>2023</td>\n",
       "      <td>1</td>\n",
       "      <td>9</td>\n",
       "      <td>2023-01-09</td>\n",
       "    </tr>\n",
       "    <tr>\n",
       "      <th>18</th>\n",
       "      <td>gs://pmykola-streaming-projects/spg-stocks/dat...</td>\n",
       "      <td>2023</td>\n",
       "      <td>1</td>\n",
       "      <td>10</td>\n",
       "      <td>2023-01-10</td>\n",
       "    </tr>\n",
       "  </tbody>\n",
       "</table>\n",
       "</div>"
      ],
      "text/plain": [
       "                                             filename  year month day  \\\n",
       "32  gs://pmykola-streaming-projects/spg-stocks/dat...  2023     1   5   \n",
       "33  gs://pmykola-streaming-projects/spg-stocks/dat...  2023     1   6   \n",
       "34  gs://pmykola-streaming-projects/spg-stocks/dat...  2023     1   9   \n",
       "18  gs://pmykola-streaming-projects/spg-stocks/dat...  2023     1  10   \n",
       "\n",
       "         date  \n",
       "32 2023-01-05  \n",
       "33 2023-01-06  \n",
       "34 2023-01-09  \n",
       "18 2023-01-10  "
      ]
     },
     "metadata": {},
     "output_type": "display_data"
    },
    {
     "name": "stdout",
     "output_type": "stream",
     "text": [
      "['gs://pmykola-streaming-projects/spg-stocks/data/auto_data_last_202315_pull_time_1_5_16:10:5.csv', 'gs://pmykola-streaming-projects/spg-stocks/data/auto_data_last_202316_pull_time_1_6_16:10:5.csv', 'gs://pmykola-streaming-projects/spg-stocks/data/auto_data_last_202319_pull_time_1_9_16:10:7.csv', 'gs://pmykola-streaming-projects/spg-stocks/data/auto_data_last_2023110_pull_time_1_10_16:10:7.csv']\n",
      "time: 97.34666109085083 sec\n",
      "time: 99.07392621040344 sec\n",
      "time: 99.07818126678467 sec\n",
      "time: 99.0860960483551 sec\n",
      "time: 99.23916745185852 sec\n"
     ]
    },
    {
     "name": "stderr",
     "output_type": "stream",
     "text": [
      "/opt/conda/lib/python3.7/site-packages/pandas/core/frame.py:5047: SettingWithCopyWarning: \n",
      "A value is trying to be set on a copy of a slice from a DataFrame\n",
      "\n",
      "See the caveats in the documentation: https://pandas.pydata.org/pandas-docs/stable/user_guide/indexing.html#returning-a-view-versus-a-copy\n",
      "  errors=errors,\n"
     ]
    },
    {
     "name": "stdout",
     "output_type": "stream",
     "text": [
      "196 observations this day\n",
      "time: 99.50233292579651 sec\n",
      "Upload to Cloud Storage complete.\n"
     ]
    },
    {
     "name": "stderr",
     "output_type": "stream",
     "text": [
      "100%|██████████| 1/1 [00:00<00:00, 7598.38it/s]"
     ]
    },
    {
     "name": "stdout",
     "output_type": "stream",
     "text": [
      "response Success: spg-stocks/artifacts/performance-data/m1_performance_2023110_pull_time_1_27_10:4:13.csv upload complete. Total time: 108.21sec\n",
      "time: 106.66291069984436 sec\n",
      "Last day is 2023-01-11 00:00:00\n"
     ]
    },
    {
     "name": "stderr",
     "output_type": "stream",
     "text": [
      "\n"
     ]
    },
    {
     "data": {
      "text/html": [
       "<div>\n",
       "<style scoped>\n",
       "    .dataframe tbody tr th:only-of-type {\n",
       "        vertical-align: middle;\n",
       "    }\n",
       "\n",
       "    .dataframe tbody tr th {\n",
       "        vertical-align: top;\n",
       "    }\n",
       "\n",
       "    .dataframe thead th {\n",
       "        text-align: right;\n",
       "    }\n",
       "</style>\n",
       "<table border=\"1\" class=\"dataframe\">\n",
       "  <thead>\n",
       "    <tr style=\"text-align: right;\">\n",
       "      <th></th>\n",
       "      <th>filename</th>\n",
       "      <th>year</th>\n",
       "      <th>month</th>\n",
       "      <th>day</th>\n",
       "      <th>date</th>\n",
       "    </tr>\n",
       "  </thead>\n",
       "  <tbody>\n",
       "    <tr>\n",
       "      <th>33</th>\n",
       "      <td>gs://pmykola-streaming-projects/spg-stocks/dat...</td>\n",
       "      <td>2023</td>\n",
       "      <td>1</td>\n",
       "      <td>6</td>\n",
       "      <td>2023-01-06</td>\n",
       "    </tr>\n",
       "    <tr>\n",
       "      <th>34</th>\n",
       "      <td>gs://pmykola-streaming-projects/spg-stocks/dat...</td>\n",
       "      <td>2023</td>\n",
       "      <td>1</td>\n",
       "      <td>9</td>\n",
       "      <td>2023-01-09</td>\n",
       "    </tr>\n",
       "    <tr>\n",
       "      <th>18</th>\n",
       "      <td>gs://pmykola-streaming-projects/spg-stocks/dat...</td>\n",
       "      <td>2023</td>\n",
       "      <td>1</td>\n",
       "      <td>10</td>\n",
       "      <td>2023-01-10</td>\n",
       "    </tr>\n",
       "    <tr>\n",
       "      <th>19</th>\n",
       "      <td>gs://pmykola-streaming-projects/spg-stocks/dat...</td>\n",
       "      <td>2023</td>\n",
       "      <td>1</td>\n",
       "      <td>11</td>\n",
       "      <td>2023-01-11</td>\n",
       "    </tr>\n",
       "  </tbody>\n",
       "</table>\n",
       "</div>"
      ],
      "text/plain": [
       "                                             filename  year month day  \\\n",
       "33  gs://pmykola-streaming-projects/spg-stocks/dat...  2023     1   6   \n",
       "34  gs://pmykola-streaming-projects/spg-stocks/dat...  2023     1   9   \n",
       "18  gs://pmykola-streaming-projects/spg-stocks/dat...  2023     1  10   \n",
       "19  gs://pmykola-streaming-projects/spg-stocks/dat...  2023     1  11   \n",
       "\n",
       "         date  \n",
       "33 2023-01-06  \n",
       "34 2023-01-09  \n",
       "18 2023-01-10  \n",
       "19 2023-01-11  "
      ]
     },
     "metadata": {},
     "output_type": "display_data"
    },
    {
     "name": "stdout",
     "output_type": "stream",
     "text": [
      "['gs://pmykola-streaming-projects/spg-stocks/data/auto_data_last_202316_pull_time_1_6_16:10:5.csv', 'gs://pmykola-streaming-projects/spg-stocks/data/auto_data_last_202319_pull_time_1_9_16:10:7.csv', 'gs://pmykola-streaming-projects/spg-stocks/data/auto_data_last_2023110_pull_time_1_10_16:10:7.csv', 'gs://pmykola-streaming-projects/spg-stocks/data/auto_data_last_2023111_pull_time_1_11_16:10:5.csv']\n",
      "time: 107.08971428871155 sec\n",
      "time: 108.80396032333374 sec\n",
      "time: 108.81009435653687 sec\n",
      "time: 108.82245683670044 sec\n"
     ]
    },
    {
     "name": "stderr",
     "output_type": "stream",
     "text": [
      "/opt/conda/lib/python3.7/site-packages/pandas/core/frame.py:5047: SettingWithCopyWarning: \n",
      "A value is trying to be set on a copy of a slice from a DataFrame\n",
      "\n",
      "See the caveats in the documentation: https://pandas.pydata.org/pandas-docs/stable/user_guide/indexing.html#returning-a-view-versus-a-copy\n",
      "  errors=errors,\n"
     ]
    },
    {
     "name": "stdout",
     "output_type": "stream",
     "text": [
      "time: 109.04131007194519 sec\n",
      "196 observations this day\n",
      "time: 109.3137571811676 sec\n",
      "Upload to Cloud Storage complete.\n"
     ]
    },
    {
     "name": "stderr",
     "output_type": "stream",
     "text": [
      "100%|██████████| 1/1 [00:00<00:00, 8035.07it/s]"
     ]
    },
    {
     "name": "stdout",
     "output_type": "stream",
     "text": [
      "response Success: spg-stocks/artifacts/performance-data/m1_performance_2023111_pull_time_1_27_10:4:13.csv upload complete. Total time: 117.70sec\n",
      "time: 116.15247440338135 sec\n",
      "Last day is 2023-01-12 00:00:00\n"
     ]
    },
    {
     "name": "stderr",
     "output_type": "stream",
     "text": [
      "\n"
     ]
    },
    {
     "data": {
      "text/html": [
       "<div>\n",
       "<style scoped>\n",
       "    .dataframe tbody tr th:only-of-type {\n",
       "        vertical-align: middle;\n",
       "    }\n",
       "\n",
       "    .dataframe tbody tr th {\n",
       "        vertical-align: top;\n",
       "    }\n",
       "\n",
       "    .dataframe thead th {\n",
       "        text-align: right;\n",
       "    }\n",
       "</style>\n",
       "<table border=\"1\" class=\"dataframe\">\n",
       "  <thead>\n",
       "    <tr style=\"text-align: right;\">\n",
       "      <th></th>\n",
       "      <th>filename</th>\n",
       "      <th>year</th>\n",
       "      <th>month</th>\n",
       "      <th>day</th>\n",
       "      <th>date</th>\n",
       "    </tr>\n",
       "  </thead>\n",
       "  <tbody>\n",
       "    <tr>\n",
       "      <th>34</th>\n",
       "      <td>gs://pmykola-streaming-projects/spg-stocks/dat...</td>\n",
       "      <td>2023</td>\n",
       "      <td>1</td>\n",
       "      <td>9</td>\n",
       "      <td>2023-01-09</td>\n",
       "    </tr>\n",
       "    <tr>\n",
       "      <th>18</th>\n",
       "      <td>gs://pmykola-streaming-projects/spg-stocks/dat...</td>\n",
       "      <td>2023</td>\n",
       "      <td>1</td>\n",
       "      <td>10</td>\n",
       "      <td>2023-01-10</td>\n",
       "    </tr>\n",
       "    <tr>\n",
       "      <th>19</th>\n",
       "      <td>gs://pmykola-streaming-projects/spg-stocks/dat...</td>\n",
       "      <td>2023</td>\n",
       "      <td>1</td>\n",
       "      <td>11</td>\n",
       "      <td>2023-01-11</td>\n",
       "    </tr>\n",
       "    <tr>\n",
       "      <th>20</th>\n",
       "      <td>gs://pmykola-streaming-projects/spg-stocks/dat...</td>\n",
       "      <td>2023</td>\n",
       "      <td>1</td>\n",
       "      <td>12</td>\n",
       "      <td>2023-01-12</td>\n",
       "    </tr>\n",
       "  </tbody>\n",
       "</table>\n",
       "</div>"
      ],
      "text/plain": [
       "                                             filename  year month day  \\\n",
       "34  gs://pmykola-streaming-projects/spg-stocks/dat...  2023     1   9   \n",
       "18  gs://pmykola-streaming-projects/spg-stocks/dat...  2023     1  10   \n",
       "19  gs://pmykola-streaming-projects/spg-stocks/dat...  2023     1  11   \n",
       "20  gs://pmykola-streaming-projects/spg-stocks/dat...  2023     1  12   \n",
       "\n",
       "         date  \n",
       "34 2023-01-09  \n",
       "18 2023-01-10  \n",
       "19 2023-01-11  \n",
       "20 2023-01-12  "
      ]
     },
     "metadata": {},
     "output_type": "display_data"
    },
    {
     "name": "stdout",
     "output_type": "stream",
     "text": [
      "['gs://pmykola-streaming-projects/spg-stocks/data/auto_data_last_202319_pull_time_1_9_16:10:7.csv', 'gs://pmykola-streaming-projects/spg-stocks/data/auto_data_last_2023110_pull_time_1_10_16:10:7.csv', 'gs://pmykola-streaming-projects/spg-stocks/data/auto_data_last_2023111_pull_time_1_11_16:10:5.csv', 'gs://pmykola-streaming-projects/spg-stocks/data/auto_data_last_2023112_pull_time_1_12_16:10:5.csv']\n",
      "time: 116.59262251853943 sec\n",
      "time: 118.35229444503784 sec\n",
      "time: 118.35630917549133 sec\n",
      "time: 118.36402773857117 sec\n",
      "time: 118.51446008682251 sec\n"
     ]
    },
    {
     "name": "stderr",
     "output_type": "stream",
     "text": [
      "/opt/conda/lib/python3.7/site-packages/pandas/core/frame.py:5047: SettingWithCopyWarning: \n",
      "A value is trying to be set on a copy of a slice from a DataFrame\n",
      "\n",
      "See the caveats in the documentation: https://pandas.pydata.org/pandas-docs/stable/user_guide/indexing.html#returning-a-view-versus-a-copy\n",
      "  errors=errors,\n"
     ]
    },
    {
     "name": "stdout",
     "output_type": "stream",
     "text": [
      "196 observations this day\n",
      "time: 118.78086400032043 sec\n",
      "Upload to Cloud Storage complete.\n"
     ]
    },
    {
     "name": "stderr",
     "output_type": "stream",
     "text": [
      "100%|██████████| 1/1 [00:00<00:00, 12446.01it/s]"
     ]
    },
    {
     "name": "stdout",
     "output_type": "stream",
     "text": [
      "response Success: spg-stocks/artifacts/performance-data/m1_performance_2023112_pull_time_1_27_10:4:13.csv upload complete. Total time: 126.34sec\n",
      "time: 124.79912662506104 sec\n",
      "Last day is 2023-01-13 00:00:00\n"
     ]
    },
    {
     "name": "stderr",
     "output_type": "stream",
     "text": [
      "\n"
     ]
    },
    {
     "data": {
      "text/html": [
       "<div>\n",
       "<style scoped>\n",
       "    .dataframe tbody tr th:only-of-type {\n",
       "        vertical-align: middle;\n",
       "    }\n",
       "\n",
       "    .dataframe tbody tr th {\n",
       "        vertical-align: top;\n",
       "    }\n",
       "\n",
       "    .dataframe thead th {\n",
       "        text-align: right;\n",
       "    }\n",
       "</style>\n",
       "<table border=\"1\" class=\"dataframe\">\n",
       "  <thead>\n",
       "    <tr style=\"text-align: right;\">\n",
       "      <th></th>\n",
       "      <th>filename</th>\n",
       "      <th>year</th>\n",
       "      <th>month</th>\n",
       "      <th>day</th>\n",
       "      <th>date</th>\n",
       "    </tr>\n",
       "  </thead>\n",
       "  <tbody>\n",
       "    <tr>\n",
       "      <th>18</th>\n",
       "      <td>gs://pmykola-streaming-projects/spg-stocks/dat...</td>\n",
       "      <td>2023</td>\n",
       "      <td>1</td>\n",
       "      <td>10</td>\n",
       "      <td>2023-01-10</td>\n",
       "    </tr>\n",
       "    <tr>\n",
       "      <th>19</th>\n",
       "      <td>gs://pmykola-streaming-projects/spg-stocks/dat...</td>\n",
       "      <td>2023</td>\n",
       "      <td>1</td>\n",
       "      <td>11</td>\n",
       "      <td>2023-01-11</td>\n",
       "    </tr>\n",
       "    <tr>\n",
       "      <th>20</th>\n",
       "      <td>gs://pmykola-streaming-projects/spg-stocks/dat...</td>\n",
       "      <td>2023</td>\n",
       "      <td>1</td>\n",
       "      <td>12</td>\n",
       "      <td>2023-01-12</td>\n",
       "    </tr>\n",
       "    <tr>\n",
       "      <th>21</th>\n",
       "      <td>gs://pmykola-streaming-projects/spg-stocks/dat...</td>\n",
       "      <td>2023</td>\n",
       "      <td>1</td>\n",
       "      <td>13</td>\n",
       "      <td>2023-01-13</td>\n",
       "    </tr>\n",
       "  </tbody>\n",
       "</table>\n",
       "</div>"
      ],
      "text/plain": [
       "                                             filename  year month day  \\\n",
       "18  gs://pmykola-streaming-projects/spg-stocks/dat...  2023     1  10   \n",
       "19  gs://pmykola-streaming-projects/spg-stocks/dat...  2023     1  11   \n",
       "20  gs://pmykola-streaming-projects/spg-stocks/dat...  2023     1  12   \n",
       "21  gs://pmykola-streaming-projects/spg-stocks/dat...  2023     1  13   \n",
       "\n",
       "         date  \n",
       "18 2023-01-10  \n",
       "19 2023-01-11  \n",
       "20 2023-01-12  \n",
       "21 2023-01-13  "
      ]
     },
     "metadata": {},
     "output_type": "display_data"
    },
    {
     "name": "stdout",
     "output_type": "stream",
     "text": [
      "['gs://pmykola-streaming-projects/spg-stocks/data/auto_data_last_2023110_pull_time_1_10_16:10:7.csv', 'gs://pmykola-streaming-projects/spg-stocks/data/auto_data_last_2023111_pull_time_1_11_16:10:5.csv', 'gs://pmykola-streaming-projects/spg-stocks/data/auto_data_last_2023112_pull_time_1_12_16:10:5.csv', 'gs://pmykola-streaming-projects/spg-stocks/data/auto_data_last_2023113_pull_time_1_13_16:10:5.csv']\n",
      "time: 125.22282361984253 sec\n",
      "time: 126.98690533638 sec\n",
      "time: 126.99103331565857 sec\n",
      "time: 126.99854135513306 sec\n",
      "time: 127.1471574306488 sec\n"
     ]
    },
    {
     "name": "stderr",
     "output_type": "stream",
     "text": [
      "/opt/conda/lib/python3.7/site-packages/pandas/core/frame.py:5047: SettingWithCopyWarning: \n",
      "A value is trying to be set on a copy of a slice from a DataFrame\n",
      "\n",
      "See the caveats in the documentation: https://pandas.pydata.org/pandas-docs/stable/user_guide/indexing.html#returning-a-view-versus-a-copy\n",
      "  errors=errors,\n"
     ]
    },
    {
     "name": "stdout",
     "output_type": "stream",
     "text": [
      "196 observations this day\n",
      "time: 127.40976548194885 sec\n",
      "Upload to Cloud Storage complete.\n"
     ]
    },
    {
     "name": "stderr",
     "output_type": "stream",
     "text": [
      "100%|██████████| 1/1 [00:00<00:00, 9776.93it/s]"
     ]
    },
    {
     "name": "stdout",
     "output_type": "stream",
     "text": [
      "response Success: spg-stocks/artifacts/performance-data/m1_performance_2023113_pull_time_1_27_10:4:13.csv upload complete. Total time: 134.51sec\n",
      "time: 132.96436429023743 sec\n",
      "Last day is 2023-01-17 00:00:00\n"
     ]
    },
    {
     "name": "stderr",
     "output_type": "stream",
     "text": [
      "\n"
     ]
    },
    {
     "data": {
      "text/html": [
       "<div>\n",
       "<style scoped>\n",
       "    .dataframe tbody tr th:only-of-type {\n",
       "        vertical-align: middle;\n",
       "    }\n",
       "\n",
       "    .dataframe tbody tr th {\n",
       "        vertical-align: top;\n",
       "    }\n",
       "\n",
       "    .dataframe thead th {\n",
       "        text-align: right;\n",
       "    }\n",
       "</style>\n",
       "<table border=\"1\" class=\"dataframe\">\n",
       "  <thead>\n",
       "    <tr style=\"text-align: right;\">\n",
       "      <th></th>\n",
       "      <th>filename</th>\n",
       "      <th>year</th>\n",
       "      <th>month</th>\n",
       "      <th>day</th>\n",
       "      <th>date</th>\n",
       "    </tr>\n",
       "  </thead>\n",
       "  <tbody>\n",
       "    <tr>\n",
       "      <th>19</th>\n",
       "      <td>gs://pmykola-streaming-projects/spg-stocks/dat...</td>\n",
       "      <td>2023</td>\n",
       "      <td>1</td>\n",
       "      <td>11</td>\n",
       "      <td>2023-01-11</td>\n",
       "    </tr>\n",
       "    <tr>\n",
       "      <th>20</th>\n",
       "      <td>gs://pmykola-streaming-projects/spg-stocks/dat...</td>\n",
       "      <td>2023</td>\n",
       "      <td>1</td>\n",
       "      <td>12</td>\n",
       "      <td>2023-01-12</td>\n",
       "    </tr>\n",
       "    <tr>\n",
       "      <th>21</th>\n",
       "      <td>gs://pmykola-streaming-projects/spg-stocks/dat...</td>\n",
       "      <td>2023</td>\n",
       "      <td>1</td>\n",
       "      <td>13</td>\n",
       "      <td>2023-01-13</td>\n",
       "    </tr>\n",
       "    <tr>\n",
       "      <th>22</th>\n",
       "      <td>gs://pmykola-streaming-projects/spg-stocks/dat...</td>\n",
       "      <td>2023</td>\n",
       "      <td>1</td>\n",
       "      <td>17</td>\n",
       "      <td>2023-01-17</td>\n",
       "    </tr>\n",
       "  </tbody>\n",
       "</table>\n",
       "</div>"
      ],
      "text/plain": [
       "                                             filename  year month day  \\\n",
       "19  gs://pmykola-streaming-projects/spg-stocks/dat...  2023     1  11   \n",
       "20  gs://pmykola-streaming-projects/spg-stocks/dat...  2023     1  12   \n",
       "21  gs://pmykola-streaming-projects/spg-stocks/dat...  2023     1  13   \n",
       "22  gs://pmykola-streaming-projects/spg-stocks/dat...  2023     1  17   \n",
       "\n",
       "         date  \n",
       "19 2023-01-11  \n",
       "20 2023-01-12  \n",
       "21 2023-01-13  \n",
       "22 2023-01-17  "
      ]
     },
     "metadata": {},
     "output_type": "display_data"
    },
    {
     "name": "stdout",
     "output_type": "stream",
     "text": [
      "['gs://pmykola-streaming-projects/spg-stocks/data/auto_data_last_2023111_pull_time_1_11_16:10:5.csv', 'gs://pmykola-streaming-projects/spg-stocks/data/auto_data_last_2023112_pull_time_1_12_16:10:5.csv', 'gs://pmykola-streaming-projects/spg-stocks/data/auto_data_last_2023113_pull_time_1_13_16:10:5.csv', 'gs://pmykola-streaming-projects/spg-stocks/data/auto_data_last_2023117_pull_time_1_17_16:10:6.csv']\n",
      "time: 133.38873505592346 sec\n",
      "time: 135.1230993270874 sec\n",
      "time: 135.12725114822388 sec\n",
      "time: 135.15756177902222 sec\n",
      "time: 135.30741357803345 sec\n"
     ]
    },
    {
     "name": "stderr",
     "output_type": "stream",
     "text": [
      "/opt/conda/lib/python3.7/site-packages/pandas/core/frame.py:5047: SettingWithCopyWarning: \n",
      "A value is trying to be set on a copy of a slice from a DataFrame\n",
      "\n",
      "See the caveats in the documentation: https://pandas.pydata.org/pandas-docs/stable/user_guide/indexing.html#returning-a-view-versus-a-copy\n",
      "  errors=errors,\n"
     ]
    },
    {
     "name": "stdout",
     "output_type": "stream",
     "text": [
      "196 observations this day\n",
      "time: 136.4337887763977 sec\n",
      "Upload to Cloud Storage complete.\n"
     ]
    },
    {
     "name": "stderr",
     "output_type": "stream",
     "text": [
      "100%|██████████| 1/1 [00:00<00:00, 10459.61it/s]"
     ]
    },
    {
     "name": "stdout",
     "output_type": "stream",
     "text": [
      "response Success: spg-stocks/artifacts/performance-data/m1_performance_2023117_pull_time_1_27_10:4:13.csv upload complete. Total time: 144.90sec\n",
      "time: 143.35556554794312 sec\n",
      "Last day is 2023-01-18 00:00:00\n"
     ]
    },
    {
     "name": "stderr",
     "output_type": "stream",
     "text": [
      "\n"
     ]
    },
    {
     "data": {
      "text/html": [
       "<div>\n",
       "<style scoped>\n",
       "    .dataframe tbody tr th:only-of-type {\n",
       "        vertical-align: middle;\n",
       "    }\n",
       "\n",
       "    .dataframe tbody tr th {\n",
       "        vertical-align: top;\n",
       "    }\n",
       "\n",
       "    .dataframe thead th {\n",
       "        text-align: right;\n",
       "    }\n",
       "</style>\n",
       "<table border=\"1\" class=\"dataframe\">\n",
       "  <thead>\n",
       "    <tr style=\"text-align: right;\">\n",
       "      <th></th>\n",
       "      <th>filename</th>\n",
       "      <th>year</th>\n",
       "      <th>month</th>\n",
       "      <th>day</th>\n",
       "      <th>date</th>\n",
       "    </tr>\n",
       "  </thead>\n",
       "  <tbody>\n",
       "    <tr>\n",
       "      <th>20</th>\n",
       "      <td>gs://pmykola-streaming-projects/spg-stocks/dat...</td>\n",
       "      <td>2023</td>\n",
       "      <td>1</td>\n",
       "      <td>12</td>\n",
       "      <td>2023-01-12</td>\n",
       "    </tr>\n",
       "    <tr>\n",
       "      <th>21</th>\n",
       "      <td>gs://pmykola-streaming-projects/spg-stocks/dat...</td>\n",
       "      <td>2023</td>\n",
       "      <td>1</td>\n",
       "      <td>13</td>\n",
       "      <td>2023-01-13</td>\n",
       "    </tr>\n",
       "    <tr>\n",
       "      <th>22</th>\n",
       "      <td>gs://pmykola-streaming-projects/spg-stocks/dat...</td>\n",
       "      <td>2023</td>\n",
       "      <td>1</td>\n",
       "      <td>17</td>\n",
       "      <td>2023-01-17</td>\n",
       "    </tr>\n",
       "    <tr>\n",
       "      <th>23</th>\n",
       "      <td>gs://pmykola-streaming-projects/spg-stocks/dat...</td>\n",
       "      <td>2023</td>\n",
       "      <td>1</td>\n",
       "      <td>18</td>\n",
       "      <td>2023-01-18</td>\n",
       "    </tr>\n",
       "  </tbody>\n",
       "</table>\n",
       "</div>"
      ],
      "text/plain": [
       "                                             filename  year month day  \\\n",
       "20  gs://pmykola-streaming-projects/spg-stocks/dat...  2023     1  12   \n",
       "21  gs://pmykola-streaming-projects/spg-stocks/dat...  2023     1  13   \n",
       "22  gs://pmykola-streaming-projects/spg-stocks/dat...  2023     1  17   \n",
       "23  gs://pmykola-streaming-projects/spg-stocks/dat...  2023     1  18   \n",
       "\n",
       "         date  \n",
       "20 2023-01-12  \n",
       "21 2023-01-13  \n",
       "22 2023-01-17  \n",
       "23 2023-01-18  "
      ]
     },
     "metadata": {},
     "output_type": "display_data"
    },
    {
     "name": "stdout",
     "output_type": "stream",
     "text": [
      "['gs://pmykola-streaming-projects/spg-stocks/data/auto_data_last_2023112_pull_time_1_12_16:10:5.csv', 'gs://pmykola-streaming-projects/spg-stocks/data/auto_data_last_2023113_pull_time_1_13_16:10:5.csv', 'gs://pmykola-streaming-projects/spg-stocks/data/auto_data_last_2023117_pull_time_1_17_16:10:6.csv', 'gs://pmykola-streaming-projects/spg-stocks/data/auto_data_last_2023118_pull_time_1_18_16:10:4.csv']\n",
      "time: 143.7732412815094 sec\n",
      "time: 145.46550679206848 sec\n",
      "time: 145.46975684165955 sec\n",
      "time: 145.47731280326843 sec\n",
      "time: 145.6239767074585 sec\n"
     ]
    },
    {
     "name": "stderr",
     "output_type": "stream",
     "text": [
      "/opt/conda/lib/python3.7/site-packages/pandas/core/frame.py:5047: SettingWithCopyWarning: \n",
      "A value is trying to be set on a copy of a slice from a DataFrame\n",
      "\n",
      "See the caveats in the documentation: https://pandas.pydata.org/pandas-docs/stable/user_guide/indexing.html#returning-a-view-versus-a-copy\n",
      "  errors=errors,\n"
     ]
    },
    {
     "name": "stdout",
     "output_type": "stream",
     "text": [
      "196 observations this day\n",
      "time: 145.8892822265625 sec\n",
      "Upload to Cloud Storage complete.\n"
     ]
    },
    {
     "name": "stderr",
     "output_type": "stream",
     "text": [
      "100%|██████████| 1/1 [00:00<00:00, 9425.40it/s]"
     ]
    },
    {
     "name": "stdout",
     "output_type": "stream",
     "text": [
      "response Success: spg-stocks/artifacts/performance-data/m1_performance_2023118_pull_time_1_27_10:4:13.csv upload complete. Total time: 153.45sec\n",
      "time: 151.9065763950348 sec\n",
      "Last day is 2023-01-19 00:00:00\n"
     ]
    },
    {
     "name": "stderr",
     "output_type": "stream",
     "text": [
      "\n"
     ]
    },
    {
     "data": {
      "text/html": [
       "<div>\n",
       "<style scoped>\n",
       "    .dataframe tbody tr th:only-of-type {\n",
       "        vertical-align: middle;\n",
       "    }\n",
       "\n",
       "    .dataframe tbody tr th {\n",
       "        vertical-align: top;\n",
       "    }\n",
       "\n",
       "    .dataframe thead th {\n",
       "        text-align: right;\n",
       "    }\n",
       "</style>\n",
       "<table border=\"1\" class=\"dataframe\">\n",
       "  <thead>\n",
       "    <tr style=\"text-align: right;\">\n",
       "      <th></th>\n",
       "      <th>filename</th>\n",
       "      <th>year</th>\n",
       "      <th>month</th>\n",
       "      <th>day</th>\n",
       "      <th>date</th>\n",
       "    </tr>\n",
       "  </thead>\n",
       "  <tbody>\n",
       "    <tr>\n",
       "      <th>21</th>\n",
       "      <td>gs://pmykola-streaming-projects/spg-stocks/dat...</td>\n",
       "      <td>2023</td>\n",
       "      <td>1</td>\n",
       "      <td>13</td>\n",
       "      <td>2023-01-13</td>\n",
       "    </tr>\n",
       "    <tr>\n",
       "      <th>22</th>\n",
       "      <td>gs://pmykola-streaming-projects/spg-stocks/dat...</td>\n",
       "      <td>2023</td>\n",
       "      <td>1</td>\n",
       "      <td>17</td>\n",
       "      <td>2023-01-17</td>\n",
       "    </tr>\n",
       "    <tr>\n",
       "      <th>23</th>\n",
       "      <td>gs://pmykola-streaming-projects/spg-stocks/dat...</td>\n",
       "      <td>2023</td>\n",
       "      <td>1</td>\n",
       "      <td>18</td>\n",
       "      <td>2023-01-18</td>\n",
       "    </tr>\n",
       "    <tr>\n",
       "      <th>24</th>\n",
       "      <td>gs://pmykola-streaming-projects/spg-stocks/dat...</td>\n",
       "      <td>2023</td>\n",
       "      <td>1</td>\n",
       "      <td>19</td>\n",
       "      <td>2023-01-19</td>\n",
       "    </tr>\n",
       "  </tbody>\n",
       "</table>\n",
       "</div>"
      ],
      "text/plain": [
       "                                             filename  year month day  \\\n",
       "21  gs://pmykola-streaming-projects/spg-stocks/dat...  2023     1  13   \n",
       "22  gs://pmykola-streaming-projects/spg-stocks/dat...  2023     1  17   \n",
       "23  gs://pmykola-streaming-projects/spg-stocks/dat...  2023     1  18   \n",
       "24  gs://pmykola-streaming-projects/spg-stocks/dat...  2023     1  19   \n",
       "\n",
       "         date  \n",
       "21 2023-01-13  \n",
       "22 2023-01-17  \n",
       "23 2023-01-18  \n",
       "24 2023-01-19  "
      ]
     },
     "metadata": {},
     "output_type": "display_data"
    },
    {
     "name": "stdout",
     "output_type": "stream",
     "text": [
      "['gs://pmykola-streaming-projects/spg-stocks/data/auto_data_last_2023113_pull_time_1_13_16:10:5.csv', 'gs://pmykola-streaming-projects/spg-stocks/data/auto_data_last_2023117_pull_time_1_17_16:10:6.csv', 'gs://pmykola-streaming-projects/spg-stocks/data/auto_data_last_2023118_pull_time_1_18_16:10:4.csv', 'gs://pmykola-streaming-projects/spg-stocks/data/auto_data_last_2023119_pull_time_1_19_16:10:11.csv']\n",
      "time: 152.32637524604797 sec\n",
      "time: 154.06496119499207 sec\n",
      "time: 154.06914067268372 sec\n",
      "time: 154.07664465904236 sec\n",
      "time: 154.224604845047 sec\n"
     ]
    },
    {
     "name": "stderr",
     "output_type": "stream",
     "text": [
      "/opt/conda/lib/python3.7/site-packages/pandas/core/frame.py:5047: SettingWithCopyWarning: \n",
      "A value is trying to be set on a copy of a slice from a DataFrame\n",
      "\n",
      "See the caveats in the documentation: https://pandas.pydata.org/pandas-docs/stable/user_guide/indexing.html#returning-a-view-versus-a-copy\n",
      "  errors=errors,\n"
     ]
    },
    {
     "name": "stdout",
     "output_type": "stream",
     "text": [
      "196 observations this day\n",
      "time: 154.49126529693604 sec\n",
      "Upload to Cloud Storage complete.\n"
     ]
    },
    {
     "name": "stderr",
     "output_type": "stream",
     "text": [
      "100%|██████████| 1/1 [00:00<00:00, 10106.76it/s]"
     ]
    },
    {
     "name": "stdout",
     "output_type": "stream",
     "text": [
      "response Success: spg-stocks/artifacts/performance-data/m1_performance_2023119_pull_time_1_27_10:4:13.csv upload complete. Total time: 161.87sec\n",
      "time: 160.32413411140442 sec\n",
      "Last day is 2023-01-20 00:00:00\n"
     ]
    },
    {
     "name": "stderr",
     "output_type": "stream",
     "text": [
      "\n"
     ]
    },
    {
     "data": {
      "text/html": [
       "<div>\n",
       "<style scoped>\n",
       "    .dataframe tbody tr th:only-of-type {\n",
       "        vertical-align: middle;\n",
       "    }\n",
       "\n",
       "    .dataframe tbody tr th {\n",
       "        vertical-align: top;\n",
       "    }\n",
       "\n",
       "    .dataframe thead th {\n",
       "        text-align: right;\n",
       "    }\n",
       "</style>\n",
       "<table border=\"1\" class=\"dataframe\">\n",
       "  <thead>\n",
       "    <tr style=\"text-align: right;\">\n",
       "      <th></th>\n",
       "      <th>filename</th>\n",
       "      <th>year</th>\n",
       "      <th>month</th>\n",
       "      <th>day</th>\n",
       "      <th>date</th>\n",
       "    </tr>\n",
       "  </thead>\n",
       "  <tbody>\n",
       "    <tr>\n",
       "      <th>22</th>\n",
       "      <td>gs://pmykola-streaming-projects/spg-stocks/dat...</td>\n",
       "      <td>2023</td>\n",
       "      <td>1</td>\n",
       "      <td>17</td>\n",
       "      <td>2023-01-17</td>\n",
       "    </tr>\n",
       "    <tr>\n",
       "      <th>23</th>\n",
       "      <td>gs://pmykola-streaming-projects/spg-stocks/dat...</td>\n",
       "      <td>2023</td>\n",
       "      <td>1</td>\n",
       "      <td>18</td>\n",
       "      <td>2023-01-18</td>\n",
       "    </tr>\n",
       "    <tr>\n",
       "      <th>24</th>\n",
       "      <td>gs://pmykola-streaming-projects/spg-stocks/dat...</td>\n",
       "      <td>2023</td>\n",
       "      <td>1</td>\n",
       "      <td>19</td>\n",
       "      <td>2023-01-19</td>\n",
       "    </tr>\n",
       "    <tr>\n",
       "      <th>25</th>\n",
       "      <td>gs://pmykola-streaming-projects/spg-stocks/dat...</td>\n",
       "      <td>2023</td>\n",
       "      <td>1</td>\n",
       "      <td>20</td>\n",
       "      <td>2023-01-20</td>\n",
       "    </tr>\n",
       "  </tbody>\n",
       "</table>\n",
       "</div>"
      ],
      "text/plain": [
       "                                             filename  year month day  \\\n",
       "22  gs://pmykola-streaming-projects/spg-stocks/dat...  2023     1  17   \n",
       "23  gs://pmykola-streaming-projects/spg-stocks/dat...  2023     1  18   \n",
       "24  gs://pmykola-streaming-projects/spg-stocks/dat...  2023     1  19   \n",
       "25  gs://pmykola-streaming-projects/spg-stocks/dat...  2023     1  20   \n",
       "\n",
       "         date  \n",
       "22 2023-01-17  \n",
       "23 2023-01-18  \n",
       "24 2023-01-19  \n",
       "25 2023-01-20  "
      ]
     },
     "metadata": {},
     "output_type": "display_data"
    },
    {
     "name": "stdout",
     "output_type": "stream",
     "text": [
      "['gs://pmykola-streaming-projects/spg-stocks/data/auto_data_last_2023117_pull_time_1_17_16:10:6.csv', 'gs://pmykola-streaming-projects/spg-stocks/data/auto_data_last_2023118_pull_time_1_18_16:10:4.csv', 'gs://pmykola-streaming-projects/spg-stocks/data/auto_data_last_2023119_pull_time_1_19_16:10:11.csv', 'gs://pmykola-streaming-projects/spg-stocks/data/auto_data_last_2023120_pull_time_1_20_16:10:6.csv']\n",
      "time: 160.74115586280823 sec\n",
      "time: 162.46906518936157 sec\n",
      "time: 162.47320699691772 sec\n",
      "time: 162.4805612564087 sec\n",
      "time: 162.6296329498291 sec\n"
     ]
    },
    {
     "name": "stderr",
     "output_type": "stream",
     "text": [
      "/opt/conda/lib/python3.7/site-packages/pandas/core/frame.py:5047: SettingWithCopyWarning: \n",
      "A value is trying to be set on a copy of a slice from a DataFrame\n",
      "\n",
      "See the caveats in the documentation: https://pandas.pydata.org/pandas-docs/stable/user_guide/indexing.html#returning-a-view-versus-a-copy\n",
      "  errors=errors,\n"
     ]
    },
    {
     "name": "stdout",
     "output_type": "stream",
     "text": [
      "196 observations this day\n",
      "time: 163.76393699645996 sec\n",
      "Upload to Cloud Storage complete.\n"
     ]
    },
    {
     "name": "stderr",
     "output_type": "stream",
     "text": [
      "100%|██████████| 1/1 [00:00<00:00, 8338.58it/s]"
     ]
    },
    {
     "name": "stdout",
     "output_type": "stream",
     "text": [
      "response Success: spg-stocks/artifacts/performance-data/m1_performance_2023120_pull_time_1_27_10:4:13.csv upload complete. Total time: 171.01sec\n",
      "time: 169.4652614593506 sec\n",
      "Last day is 2023-01-23 00:00:00\n"
     ]
    },
    {
     "name": "stderr",
     "output_type": "stream",
     "text": [
      "\n"
     ]
    },
    {
     "data": {
      "text/html": [
       "<div>\n",
       "<style scoped>\n",
       "    .dataframe tbody tr th:only-of-type {\n",
       "        vertical-align: middle;\n",
       "    }\n",
       "\n",
       "    .dataframe tbody tr th {\n",
       "        vertical-align: top;\n",
       "    }\n",
       "\n",
       "    .dataframe thead th {\n",
       "        text-align: right;\n",
       "    }\n",
       "</style>\n",
       "<table border=\"1\" class=\"dataframe\">\n",
       "  <thead>\n",
       "    <tr style=\"text-align: right;\">\n",
       "      <th></th>\n",
       "      <th>filename</th>\n",
       "      <th>year</th>\n",
       "      <th>month</th>\n",
       "      <th>day</th>\n",
       "      <th>date</th>\n",
       "    </tr>\n",
       "  </thead>\n",
       "  <tbody>\n",
       "    <tr>\n",
       "      <th>23</th>\n",
       "      <td>gs://pmykola-streaming-projects/spg-stocks/dat...</td>\n",
       "      <td>2023</td>\n",
       "      <td>1</td>\n",
       "      <td>18</td>\n",
       "      <td>2023-01-18</td>\n",
       "    </tr>\n",
       "    <tr>\n",
       "      <th>24</th>\n",
       "      <td>gs://pmykola-streaming-projects/spg-stocks/dat...</td>\n",
       "      <td>2023</td>\n",
       "      <td>1</td>\n",
       "      <td>19</td>\n",
       "      <td>2023-01-19</td>\n",
       "    </tr>\n",
       "    <tr>\n",
       "      <th>25</th>\n",
       "      <td>gs://pmykola-streaming-projects/spg-stocks/dat...</td>\n",
       "      <td>2023</td>\n",
       "      <td>1</td>\n",
       "      <td>20</td>\n",
       "      <td>2023-01-20</td>\n",
       "    </tr>\n",
       "    <tr>\n",
       "      <th>26</th>\n",
       "      <td>gs://pmykola-streaming-projects/spg-stocks/dat...</td>\n",
       "      <td>2023</td>\n",
       "      <td>1</td>\n",
       "      <td>23</td>\n",
       "      <td>2023-01-23</td>\n",
       "    </tr>\n",
       "  </tbody>\n",
       "</table>\n",
       "</div>"
      ],
      "text/plain": [
       "                                             filename  year month day  \\\n",
       "23  gs://pmykola-streaming-projects/spg-stocks/dat...  2023     1  18   \n",
       "24  gs://pmykola-streaming-projects/spg-stocks/dat...  2023     1  19   \n",
       "25  gs://pmykola-streaming-projects/spg-stocks/dat...  2023     1  20   \n",
       "26  gs://pmykola-streaming-projects/spg-stocks/dat...  2023     1  23   \n",
       "\n",
       "         date  \n",
       "23 2023-01-18  \n",
       "24 2023-01-19  \n",
       "25 2023-01-20  \n",
       "26 2023-01-23  "
      ]
     },
     "metadata": {},
     "output_type": "display_data"
    },
    {
     "name": "stdout",
     "output_type": "stream",
     "text": [
      "['gs://pmykola-streaming-projects/spg-stocks/data/auto_data_last_2023118_pull_time_1_18_16:10:4.csv', 'gs://pmykola-streaming-projects/spg-stocks/data/auto_data_last_2023119_pull_time_1_19_16:10:11.csv', 'gs://pmykola-streaming-projects/spg-stocks/data/auto_data_last_2023120_pull_time_1_20_16:10:6.csv', 'gs://pmykola-streaming-projects/spg-stocks/data/auto_data_last_2023123_pull_time_1_23_16:10:6.csv']\n",
      "time: 169.89306592941284 sec\n",
      "time: 171.62879967689514 sec\n",
      "time: 171.63282871246338 sec\n",
      "time: 171.64026308059692 sec\n",
      "time: 171.78672003746033 sec\n"
     ]
    },
    {
     "name": "stderr",
     "output_type": "stream",
     "text": [
      "/opt/conda/lib/python3.7/site-packages/pandas/core/frame.py:5047: SettingWithCopyWarning: \n",
      "A value is trying to be set on a copy of a slice from a DataFrame\n",
      "\n",
      "See the caveats in the documentation: https://pandas.pydata.org/pandas-docs/stable/user_guide/indexing.html#returning-a-view-versus-a-copy\n",
      "  errors=errors,\n"
     ]
    },
    {
     "name": "stdout",
     "output_type": "stream",
     "text": [
      "196 observations this day\n",
      "time: 172.04971575737 sec\n",
      "Upload to Cloud Storage complete.\n"
     ]
    },
    {
     "name": "stderr",
     "output_type": "stream",
     "text": [
      "100%|██████████| 1/1 [00:00<00:00, 9218.25it/s]"
     ]
    },
    {
     "name": "stdout",
     "output_type": "stream",
     "text": [
      "response Success: spg-stocks/artifacts/performance-data/m1_performance_2023123_pull_time_1_27_10:4:13.csv upload complete. Total time: 179.47sec\n",
      "time: 177.92695713043213 sec\n",
      "Last day is 2023-01-24 00:00:00\n"
     ]
    },
    {
     "name": "stderr",
     "output_type": "stream",
     "text": [
      "\n"
     ]
    },
    {
     "data": {
      "text/html": [
       "<div>\n",
       "<style scoped>\n",
       "    .dataframe tbody tr th:only-of-type {\n",
       "        vertical-align: middle;\n",
       "    }\n",
       "\n",
       "    .dataframe tbody tr th {\n",
       "        vertical-align: top;\n",
       "    }\n",
       "\n",
       "    .dataframe thead th {\n",
       "        text-align: right;\n",
       "    }\n",
       "</style>\n",
       "<table border=\"1\" class=\"dataframe\">\n",
       "  <thead>\n",
       "    <tr style=\"text-align: right;\">\n",
       "      <th></th>\n",
       "      <th>filename</th>\n",
       "      <th>year</th>\n",
       "      <th>month</th>\n",
       "      <th>day</th>\n",
       "      <th>date</th>\n",
       "    </tr>\n",
       "  </thead>\n",
       "  <tbody>\n",
       "    <tr>\n",
       "      <th>24</th>\n",
       "      <td>gs://pmykola-streaming-projects/spg-stocks/dat...</td>\n",
       "      <td>2023</td>\n",
       "      <td>1</td>\n",
       "      <td>19</td>\n",
       "      <td>2023-01-19</td>\n",
       "    </tr>\n",
       "    <tr>\n",
       "      <th>25</th>\n",
       "      <td>gs://pmykola-streaming-projects/spg-stocks/dat...</td>\n",
       "      <td>2023</td>\n",
       "      <td>1</td>\n",
       "      <td>20</td>\n",
       "      <td>2023-01-20</td>\n",
       "    </tr>\n",
       "    <tr>\n",
       "      <th>26</th>\n",
       "      <td>gs://pmykola-streaming-projects/spg-stocks/dat...</td>\n",
       "      <td>2023</td>\n",
       "      <td>1</td>\n",
       "      <td>23</td>\n",
       "      <td>2023-01-23</td>\n",
       "    </tr>\n",
       "    <tr>\n",
       "      <th>27</th>\n",
       "      <td>gs://pmykola-streaming-projects/spg-stocks/dat...</td>\n",
       "      <td>2023</td>\n",
       "      <td>1</td>\n",
       "      <td>24</td>\n",
       "      <td>2023-01-24</td>\n",
       "    </tr>\n",
       "  </tbody>\n",
       "</table>\n",
       "</div>"
      ],
      "text/plain": [
       "                                             filename  year month day  \\\n",
       "24  gs://pmykola-streaming-projects/spg-stocks/dat...  2023     1  19   \n",
       "25  gs://pmykola-streaming-projects/spg-stocks/dat...  2023     1  20   \n",
       "26  gs://pmykola-streaming-projects/spg-stocks/dat...  2023     1  23   \n",
       "27  gs://pmykola-streaming-projects/spg-stocks/dat...  2023     1  24   \n",
       "\n",
       "         date  \n",
       "24 2023-01-19  \n",
       "25 2023-01-20  \n",
       "26 2023-01-23  \n",
       "27 2023-01-24  "
      ]
     },
     "metadata": {},
     "output_type": "display_data"
    },
    {
     "name": "stdout",
     "output_type": "stream",
     "text": [
      "['gs://pmykola-streaming-projects/spg-stocks/data/auto_data_last_2023119_pull_time_1_19_16:10:11.csv', 'gs://pmykola-streaming-projects/spg-stocks/data/auto_data_last_2023120_pull_time_1_20_16:10:6.csv', 'gs://pmykola-streaming-projects/spg-stocks/data/auto_data_last_2023123_pull_time_1_23_16:10:6.csv', 'gs://pmykola-streaming-projects/spg-stocks/data/auto_data_last_2023124_pull_time_1_24_16:10:6.csv']\n",
      "time: 178.35340356826782 sec\n",
      "time: 180.04480719566345 sec\n",
      "time: 180.0490906238556 sec\n",
      "time: 180.05676078796387 sec\n",
      "time: 180.205384016037 sec\n"
     ]
    },
    {
     "name": "stderr",
     "output_type": "stream",
     "text": [
      "/opt/conda/lib/python3.7/site-packages/pandas/core/frame.py:5047: SettingWithCopyWarning: \n",
      "A value is trying to be set on a copy of a slice from a DataFrame\n",
      "\n",
      "See the caveats in the documentation: https://pandas.pydata.org/pandas-docs/stable/user_guide/indexing.html#returning-a-view-versus-a-copy\n",
      "  errors=errors,\n"
     ]
    },
    {
     "name": "stdout",
     "output_type": "stream",
     "text": [
      "196 observations this day\n",
      "time: 180.46959352493286 sec\n",
      "Upload to Cloud Storage complete.\n"
     ]
    },
    {
     "name": "stderr",
     "output_type": "stream",
     "text": [
      "100%|██████████| 1/1 [00:00<00:00, 9776.93it/s]"
     ]
    },
    {
     "name": "stdout",
     "output_type": "stream",
     "text": [
      "response Success: spg-stocks/artifacts/performance-data/m1_performance_2023124_pull_time_1_27_10:4:13.csv upload complete. Total time: 187.66sec\n",
      "time: 186.11661529541016 sec\n",
      "Last day is 2023-01-25 00:00:00\n"
     ]
    },
    {
     "name": "stderr",
     "output_type": "stream",
     "text": [
      "\n"
     ]
    },
    {
     "data": {
      "text/html": [
       "<div>\n",
       "<style scoped>\n",
       "    .dataframe tbody tr th:only-of-type {\n",
       "        vertical-align: middle;\n",
       "    }\n",
       "\n",
       "    .dataframe tbody tr th {\n",
       "        vertical-align: top;\n",
       "    }\n",
       "\n",
       "    .dataframe thead th {\n",
       "        text-align: right;\n",
       "    }\n",
       "</style>\n",
       "<table border=\"1\" class=\"dataframe\">\n",
       "  <thead>\n",
       "    <tr style=\"text-align: right;\">\n",
       "      <th></th>\n",
       "      <th>filename</th>\n",
       "      <th>year</th>\n",
       "      <th>month</th>\n",
       "      <th>day</th>\n",
       "      <th>date</th>\n",
       "    </tr>\n",
       "  </thead>\n",
       "  <tbody>\n",
       "    <tr>\n",
       "      <th>25</th>\n",
       "      <td>gs://pmykola-streaming-projects/spg-stocks/dat...</td>\n",
       "      <td>2023</td>\n",
       "      <td>1</td>\n",
       "      <td>20</td>\n",
       "      <td>2023-01-20</td>\n",
       "    </tr>\n",
       "    <tr>\n",
       "      <th>26</th>\n",
       "      <td>gs://pmykola-streaming-projects/spg-stocks/dat...</td>\n",
       "      <td>2023</td>\n",
       "      <td>1</td>\n",
       "      <td>23</td>\n",
       "      <td>2023-01-23</td>\n",
       "    </tr>\n",
       "    <tr>\n",
       "      <th>27</th>\n",
       "      <td>gs://pmykola-streaming-projects/spg-stocks/dat...</td>\n",
       "      <td>2023</td>\n",
       "      <td>1</td>\n",
       "      <td>24</td>\n",
       "      <td>2023-01-24</td>\n",
       "    </tr>\n",
       "    <tr>\n",
       "      <th>28</th>\n",
       "      <td>gs://pmykola-streaming-projects/spg-stocks/dat...</td>\n",
       "      <td>2023</td>\n",
       "      <td>1</td>\n",
       "      <td>25</td>\n",
       "      <td>2023-01-25</td>\n",
       "    </tr>\n",
       "  </tbody>\n",
       "</table>\n",
       "</div>"
      ],
      "text/plain": [
       "                                             filename  year month day  \\\n",
       "25  gs://pmykola-streaming-projects/spg-stocks/dat...  2023     1  20   \n",
       "26  gs://pmykola-streaming-projects/spg-stocks/dat...  2023     1  23   \n",
       "27  gs://pmykola-streaming-projects/spg-stocks/dat...  2023     1  24   \n",
       "28  gs://pmykola-streaming-projects/spg-stocks/dat...  2023     1  25   \n",
       "\n",
       "         date  \n",
       "25 2023-01-20  \n",
       "26 2023-01-23  \n",
       "27 2023-01-24  \n",
       "28 2023-01-25  "
      ]
     },
     "metadata": {},
     "output_type": "display_data"
    },
    {
     "name": "stdout",
     "output_type": "stream",
     "text": [
      "['gs://pmykola-streaming-projects/spg-stocks/data/auto_data_last_2023120_pull_time_1_20_16:10:6.csv', 'gs://pmykola-streaming-projects/spg-stocks/data/auto_data_last_2023123_pull_time_1_23_16:10:6.csv', 'gs://pmykola-streaming-projects/spg-stocks/data/auto_data_last_2023124_pull_time_1_24_16:10:6.csv', 'gs://pmykola-streaming-projects/spg-stocks/data/auto_data_last_2023125_pull_time_1_25_16:10:6.csv']\n",
      "time: 186.5450348854065 sec\n",
      "time: 188.23184442520142 sec\n",
      "time: 188.23612594604492 sec\n",
      "time: 188.26621103286743 sec\n",
      "time: 188.41459107398987 sec\n"
     ]
    },
    {
     "name": "stderr",
     "output_type": "stream",
     "text": [
      "/opt/conda/lib/python3.7/site-packages/pandas/core/frame.py:5047: SettingWithCopyWarning: \n",
      "A value is trying to be set on a copy of a slice from a DataFrame\n",
      "\n",
      "See the caveats in the documentation: https://pandas.pydata.org/pandas-docs/stable/user_guide/indexing.html#returning-a-view-versus-a-copy\n",
      "  errors=errors,\n"
     ]
    },
    {
     "name": "stdout",
     "output_type": "stream",
     "text": [
      "196 observations this day\n",
      "time: 188.67428302764893 sec\n",
      "Upload to Cloud Storage complete.\n"
     ]
    },
    {
     "name": "stderr",
     "output_type": "stream",
     "text": [
      "100%|██████████| 1/1 [00:00<00:00, 7269.16it/s]"
     ]
    },
    {
     "name": "stdout",
     "output_type": "stream",
     "text": [
      "response Success: spg-stocks/artifacts/performance-data/m1_performance_2023125_pull_time_1_27_10:4:13.csv upload complete. Total time: 196.69sec\n",
      "time: 195.14477252960205 sec\n",
      "Last day is 2023-01-26 00:00:00\n"
     ]
    },
    {
     "name": "stderr",
     "output_type": "stream",
     "text": [
      "\n"
     ]
    },
    {
     "data": {
      "text/html": [
       "<div>\n",
       "<style scoped>\n",
       "    .dataframe tbody tr th:only-of-type {\n",
       "        vertical-align: middle;\n",
       "    }\n",
       "\n",
       "    .dataframe tbody tr th {\n",
       "        vertical-align: top;\n",
       "    }\n",
       "\n",
       "    .dataframe thead th {\n",
       "        text-align: right;\n",
       "    }\n",
       "</style>\n",
       "<table border=\"1\" class=\"dataframe\">\n",
       "  <thead>\n",
       "    <tr style=\"text-align: right;\">\n",
       "      <th></th>\n",
       "      <th>filename</th>\n",
       "      <th>year</th>\n",
       "      <th>month</th>\n",
       "      <th>day</th>\n",
       "      <th>date</th>\n",
       "    </tr>\n",
       "  </thead>\n",
       "  <tbody>\n",
       "    <tr>\n",
       "      <th>26</th>\n",
       "      <td>gs://pmykola-streaming-projects/spg-stocks/dat...</td>\n",
       "      <td>2023</td>\n",
       "      <td>1</td>\n",
       "      <td>23</td>\n",
       "      <td>2023-01-23</td>\n",
       "    </tr>\n",
       "    <tr>\n",
       "      <th>27</th>\n",
       "      <td>gs://pmykola-streaming-projects/spg-stocks/dat...</td>\n",
       "      <td>2023</td>\n",
       "      <td>1</td>\n",
       "      <td>24</td>\n",
       "      <td>2023-01-24</td>\n",
       "    </tr>\n",
       "    <tr>\n",
       "      <th>28</th>\n",
       "      <td>gs://pmykola-streaming-projects/spg-stocks/dat...</td>\n",
       "      <td>2023</td>\n",
       "      <td>1</td>\n",
       "      <td>25</td>\n",
       "      <td>2023-01-25</td>\n",
       "    </tr>\n",
       "    <tr>\n",
       "      <th>29</th>\n",
       "      <td>gs://pmykola-streaming-projects/spg-stocks/dat...</td>\n",
       "      <td>2023</td>\n",
       "      <td>1</td>\n",
       "      <td>26</td>\n",
       "      <td>2023-01-26</td>\n",
       "    </tr>\n",
       "  </tbody>\n",
       "</table>\n",
       "</div>"
      ],
      "text/plain": [
       "                                             filename  year month day  \\\n",
       "26  gs://pmykola-streaming-projects/spg-stocks/dat...  2023     1  23   \n",
       "27  gs://pmykola-streaming-projects/spg-stocks/dat...  2023     1  24   \n",
       "28  gs://pmykola-streaming-projects/spg-stocks/dat...  2023     1  25   \n",
       "29  gs://pmykola-streaming-projects/spg-stocks/dat...  2023     1  26   \n",
       "\n",
       "         date  \n",
       "26 2023-01-23  \n",
       "27 2023-01-24  \n",
       "28 2023-01-25  \n",
       "29 2023-01-26  "
      ]
     },
     "metadata": {},
     "output_type": "display_data"
    },
    {
     "name": "stdout",
     "output_type": "stream",
     "text": [
      "['gs://pmykola-streaming-projects/spg-stocks/data/auto_data_last_2023123_pull_time_1_23_16:10:6.csv', 'gs://pmykola-streaming-projects/spg-stocks/data/auto_data_last_2023124_pull_time_1_24_16:10:6.csv', 'gs://pmykola-streaming-projects/spg-stocks/data/auto_data_last_2023125_pull_time_1_25_16:10:6.csv', 'gs://pmykola-streaming-projects/spg-stocks/data/auto_data_last_2023126_pull_time_1_26_16:10:5.csv']\n",
      "time: 195.56451845169067 sec\n",
      "time: 197.28751969337463 sec\n",
      "time: 197.29165244102478 sec\n",
      "time: 197.29930067062378 sec\n",
      "time: 197.4456832408905 sec\n"
     ]
    },
    {
     "name": "stderr",
     "output_type": "stream",
     "text": [
      "/opt/conda/lib/python3.7/site-packages/pandas/core/frame.py:5047: SettingWithCopyWarning: \n",
      "A value is trying to be set on a copy of a slice from a DataFrame\n",
      "\n",
      "See the caveats in the documentation: https://pandas.pydata.org/pandas-docs/stable/user_guide/indexing.html#returning-a-view-versus-a-copy\n",
      "  errors=errors,\n"
     ]
    },
    {
     "name": "stdout",
     "output_type": "stream",
     "text": [
      "196 observations this day\n",
      "time: 197.71008849143982 sec\n",
      "Upload to Cloud Storage complete.\n"
     ]
    },
    {
     "name": "stderr",
     "output_type": "stream",
     "text": [
      "100%|██████████| 1/1 [00:00<00:00, 9039.45it/s]"
     ]
    },
    {
     "name": "stdout",
     "output_type": "stream",
     "text": [
      "response Success: spg-stocks/artifacts/performance-data/m1_performance_2023126_pull_time_1_27_10:4:13.csv upload complete. Total time: 205.04sec\n",
      "time: 203.49264121055603 sec\n"
     ]
    },
    {
     "name": "stderr",
     "output_type": "stream",
     "text": [
      "\n"
     ]
    }
   ],
   "source": [
    "# this part implements for loop to do perfeval for each date in range\n",
    "print(dates)\n",
    "\n",
    "for last_day in dates:\n",
    "    \n",
    "    print(f'Last day is {last_day}')\n",
    "    tempdf = tempdf0.copy()\n",
    "    \n",
    "    # last_day = dates[1]\n",
    "\n",
    "    mask = [x <= last_day for x in list(tempdf.date)]\n",
    "    tempdf = tempdf[mask]\n",
    "    tempdf = tempdf.tail(4)\n",
    "    display(tempdf)\n",
    "\n",
    "    datafiles = list(tempdf.filename)\n",
    "    print(datafiles)\n",
    "    df = pd.read_csv(datafiles[0])\n",
    "    print(f'time: {time.time()-time2} sec')\n",
    "\n",
    "    df_new = pd.DataFrame(columns = df.columns)\n",
    "    for file in datafiles:\n",
    "        temp_df = pd.read_csv(file)\n",
    "        df_new = pd.concat([df_new, temp_df], axis=0)\n",
    "    print(f'time: {time.time()-time2} sec')\n",
    "\n",
    "    # remove duplicates\n",
    "    df_new.reset_index(inplace=True, drop=True)\n",
    "    df_new.drop_duplicates(inplace=True)\n",
    "    df_new.Datetime = pd.to_datetime(df_new.Datetime)\n",
    "    df_new.sort_values(by='Datetime')\n",
    "    print(f'time: {time.time()-time2} sec')\n",
    "\n",
    "    df = df_new\n",
    "    df.Datetime = pd.to_datetime(df.Datetime)\n",
    "    df.drop_duplicates(inplace=True)\n",
    "    df.sort_values(by='Datetime')\n",
    "\n",
    "    df['time'] = df.Datetime.dt.time\n",
    "    df['date'] = df.Datetime.dt.date\n",
    "\n",
    "    df = df.fillna(method='ffill')\n",
    "    dayclose = df[df.time==datetime.time(15, 58, 0)]\n",
    "    dayopen = df[df.time==datetime.time(9, 30, 0)]\n",
    "    dayopen.reset_index(drop=True, inplace=True)\n",
    "    dayclose.reset_index(drop=True, inplace=True)\n",
    "    dayclose.sort_values(by='date')\n",
    "    print(f'time: {time.time()-time2} sec')\n",
    "\n",
    "    ### now i wanna do feature engineering for all assets \n",
    "\n",
    "    asset_list = ['Spx', 'Nasdaq', 'Russel', 'EMXC', 'EEMA', 'EEM', 'VTHR']\n",
    "\n",
    "    for asset in asset_list:\n",
    "\n",
    "        df[asset + '_ret'] = 100*(df[asset]/df[asset].shift(1)-1)\n",
    "        df['s_' + asset + '_ret_1prd'] = (100*(df[asset]/df[asset].shift(1)-1)).shift(1)\n",
    "        df['s_' + asset + '_ret_2prd'] = (100*(df[asset]/df[asset].shift(2)-1)).shift(1)\n",
    "        df['s_' + asset + '_ret_4prd'] = (100*(df[asset]/df[asset].shift(4)-1)).shift(1)\n",
    "        # display(df.shape, df.head(5))\n",
    "\n",
    "        df.loc[df.time < datetime.time(9, 32, 0), 's_' + asset + '_1prd'] = np.nan\n",
    "        df.loc[df.time < datetime.time(9, 33, 0), 's_' + asset + '_2prd'] = np.nan\n",
    "        df.loc[df.time < datetime.time(9, 35, 0), 's_' + asset + '_4prd'] = np.nan\n",
    "\n",
    "        dayopen.rename(columns={asset:asset+'_open'}, inplace=True)\n",
    "        # dayopen.head()\n",
    "        dayclose.rename(columns={asset:asset+'_close'}, inplace=True)\n",
    "        dayclose_l1 = dayclose.copy()\n",
    "        dayclose_l2 = dayclose.copy()\n",
    "        dayclose_l1[asset+'_close_l1'] = dayclose_l1[asset+'_close'].shift(1)\n",
    "        dayclose_l2[asset+'_close_l2'] = dayclose_l2[asset+'_close'].shift(2)\n",
    "\n",
    "        df = pd.merge(df, dayopen[['date', asset + '_open']], on=['date'], how='left')\n",
    "        df = pd.merge(df, dayclose_l1[['date', asset + '_close_l1']], on=['date'], how='left')\n",
    "        df = pd.merge(df, dayclose_l2[['date', asset + '_close_l2']], on=['date'], how='left')\n",
    "\n",
    "        df['s_' + asset + '_ret_open'] = (100*(df[asset]/df[asset + '_open']-1)).shift(1)\n",
    "        df['s_' + asset + '_ret_close1'] = (100*(df[asset]/df[asset + '_close_l1']-1)).shift(1)\n",
    "        df['s_' + asset + '_ret_close2'] = (100*(df[asset]/df[asset + '_close_l2']-1)).shift(1)\n",
    "\n",
    "        cols_todrop = [x for x in list(df.columns) if asset in x and 'ret' not in x]\n",
    "        df.drop(columns = cols_todrop, inplace=True)\n",
    "    print(f'time: {time.time()-time2} sec')\n",
    "\n",
    "    ### do prediction ###\n",
    "\n",
    "    storage_client = storage.Client()\n",
    "    bucket_name='pmykola-streaming-projects'\n",
    "    model_path='spg-stocks/artifacts/en_model.pkl'\n",
    "\n",
    "    bucket = storage_client.get_bucket(bucket_name)\n",
    "    blob = bucket.blob(model_path)\n",
    "    model_file = BytesIO()\n",
    "    blob.download_to_file(model_file)\n",
    "    trained_model=joblib.load(model_file)\n",
    "\n",
    "    # df.date.max()\n",
    "    this_day = df.loc[df.date == df.date.max()]\n",
    "    print(f'{this_day.shape[0]} observations this day')\n",
    "    X = this_day.copy()\n",
    "    X.drop(columns = ['Datetime',\n",
    "                  'time', \n",
    "                  'date', \n",
    "                  'Spx_ret', \n",
    "                  'Nasdaq_ret', \n",
    "                  'Russel_ret', \n",
    "                  'EEMA_ret', \n",
    "                  'EEM_ret', \n",
    "                  'EMXC_ret', \n",
    "                  'VXUS_ret', \n",
    "                  'VTHR_ret'], \n",
    "                  inplace=True,\n",
    "                  errors = 'ignore')\n",
    "\n",
    "    if(X.count().sum() < X.shape[1]):\n",
    "        print(f'''There are {X.shape[1] - X.count().sum()} missing values. \n",
    "              There will be an error''')\n",
    "\n",
    "    y = this_day.VTHR_ret\n",
    "    y_hat = trained_model.predict(X)\n",
    "\n",
    "    model_rmse = mean_squared_error(y, y_hat)\n",
    "    constant_rmse = mean_squared_error(y, np.zeros(len(y)))\n",
    "\n",
    "    performance = pd.DataFrame([[100*(r2_score(y, y_hat)), model_rmse, constant_rmse, 100*(1-model_rmse/constant_rmse)]], \n",
    "                          columns = ['R2', 'model_rmse', 'constant_rmse', 'rmse_improvement'])\n",
    "    performance['date'] = df.date.max()\n",
    "    print(f'time: {time.time()-time2} sec')\n",
    "\n",
    "    file_name = 'spg-stocks/artifacts/performance-data/' + \\\n",
    "    'm1_performance_' + \\\n",
    "    str(df.date.max().year) + \\\n",
    "    str(df.date.max().month) + \\\n",
    "    str(df.date.max().day) + \\\n",
    "    '_pull_time_' + \\\n",
    "    now_time + \\\n",
    "    '.csv'\n",
    "\n",
    "    storage_client = storage.Client()\n",
    "    bucket_name = 'pmykola-streaming-projects'\n",
    "    BUCKET = storage_client.get_bucket(bucket_name)\n",
    "\n",
    "    blob = BUCKET.blob(file_name)\n",
    "    blob.upload_from_string(performance.to_csv(), 'text/csv')\n",
    "    print('Upload to Cloud Storage complete.')\n",
    "\n",
    "    project_id = 'valid-heuristic-369117'\n",
    "    bucket_path = 'gs://pmykola-streaming-projects/spg-stocks/artifacts/performance-data/'\n",
    "    table_id = 'spg_stocks.daily_performance'\n",
    "\n",
    "    performance.rename(columns={'date':'ddate'}, inplace=True)\n",
    "    pandas_gbq.to_gbq(performance, table_id, project_id=project_id, if_exists='append')\n",
    "\n",
    "    result = ('Success: ' + file_name + ' upload complete. ' + \n",
    "    'Total time: ' + str(time.time()-time0)[:6] + 'sec')\n",
    "    print('response', result)\n",
    "    print(f'time: {time.time()-time2} sec')\n",
    "    \n",
    "    "
   ]
  },
  {
   "cell_type": "code",
   "execution_count": null,
   "id": "18348b99-c4b8-4bb0-935d-2aca0003aa16",
   "metadata": {},
   "outputs": [],
   "source": []
  }
 ],
 "metadata": {
  "environment": {
   "kernel": "python3",
   "name": "common-cu110.m103",
   "type": "gcloud",
   "uri": "gcr.io/deeplearning-platform-release/base-cu110:m103"
  },
  "kernelspec": {
   "display_name": "Python 3",
   "language": "python",
   "name": "python3"
  },
  "language_info": {
   "codemirror_mode": {
    "name": "ipython",
    "version": 3
   },
   "file_extension": ".py",
   "mimetype": "text/x-python",
   "name": "python",
   "nbconvert_exporter": "python",
   "pygments_lexer": "ipython3",
   "version": "3.7.12"
  }
 },
 "nbformat": 4,
 "nbformat_minor": 5
}
