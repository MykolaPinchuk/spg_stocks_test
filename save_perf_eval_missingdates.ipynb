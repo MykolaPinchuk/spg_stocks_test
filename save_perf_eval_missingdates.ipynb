{
 "cells": [
  {
   "cell_type": "code",
   "execution_count": 150,
   "id": "afb92ea0-6e1f-41ac-8582-b24fa357ee98",
   "metadata": {},
   "outputs": [],
   "source": [
    "import numpy as np\n",
    "import pandas as pd\n",
    "import os, time, warnings, random, requests, datetime, pytz, joblib\n",
    "import functools as ft\n",
    "from sklearn.compose import ColumnTransformer, make_column_transformer\n",
    "from sklearn.preprocessing import StandardScaler\n",
    "from sklearn.linear_model import ElasticNet\n",
    "from sklearn.metrics import r2_score, mean_squared_error\n",
    "from google.cloud import storage\n",
    "from io import BytesIO\n",
    "import pandas_gbq"
   ]
  },
  {
   "cell_type": "code",
   "execution_count": 151,
   "id": "319d8383-d776-4904-9c3e-d103d94c151e",
   "metadata": {},
   "outputs": [],
   "source": [
    "# !pip install pandas_gbq"
   ]
  },
  {
   "cell_type": "code",
   "execution_count": 152,
   "id": "aafd47bf-81b8-4afc-8d41-213dfd1c9f7d",
   "metadata": {},
   "outputs": [],
   "source": [
    "time0 = time.time()\n",
    "pull_time = datetime.datetime.now()\n",
    "pull_time = pull_time.astimezone(pytz.timezone('America/New_York'))\n",
    "pull_time = pull_time.replace(tzinfo=None)\n",
    "now_time = (str(pull_time.month) + '_' + \n",
    "str(pull_time.day) + '_' +\n",
    "str(pull_time.hour) + ':'  +\n",
    "str(pull_time.minute) + ':' +\n",
    "str(pull_time.second))"
   ]
  },
  {
   "cell_type": "code",
   "execution_count": 153,
   "id": "8c203b09-9e9e-4964-ae5e-ce4d3df1f65b",
   "metadata": {},
   "outputs": [
    {
     "data": {
      "text/plain": [
       "'time: 1.6738181114196777 sec'"
      ]
     },
     "execution_count": 153,
     "metadata": {},
     "output_type": "execute_result"
    }
   ],
   "source": [
    "time1 = time.time()\n",
    "# gsutil works on Vertex, but not in a Cloud Function...\n",
    "data_bucket_name = 'pmykola-streaming-projects'\n",
    "storage_client = storage.Client()\n",
    "bucket = storage_client.get_bucket(data_bucket_name)\n",
    "blobs_all = list(bucket.list_blobs())\n",
    "blobs_specific = list(bucket.list_blobs(prefix='spg-stocks/data'))\n",
    "temp_fnames = [blob.name for blob in blobs_specific]\n",
    "datafiles = ['gs://' + data_bucket_name + '/' + fname for fname in temp_fnames]\n",
    "\n",
    "# datafiles = !gsutil ls gs://pmykola-streaming-projects/spg-stocks/data\n",
    "datafiles = [x for x in datafiles if ('auto_data_last_' in x) & ('pull_time' in x)]\n",
    "f'time: {time.time()-time1} sec'"
   ]
  },
  {
   "cell_type": "code",
   "execution_count": 154,
   "id": "55bfac14-da43-4611-a5b6-cdbbdcb92747",
   "metadata": {},
   "outputs": [
    {
     "name": "stdout",
     "output_type": "stream",
     "text": [
      "time: 0.0360105037689209 sec\n"
     ]
    }
   ],
   "source": [
    "time2 = time.time()\n",
    "tempdf = pd.DataFrame(datafiles, columns=['filename'])\n",
    "tempdf['year'] = 0\n",
    "tempdf['month'] = 0\n",
    "tempdf['day'] = 0\n",
    "# display(tempdf.head())\n",
    "# display(tempdf.iloc[0,:])\n",
    "for i in range(tempdf.shape[0]):\n",
    "    tempdf.loc[i,'year'] = tempdf.loc[i,'filename'].split(\"auto_data_last_\",1)[1][:4]\n",
    "    tail = tempdf.loc[i,'filename'].split(\"pull_time_\",1)[1]\n",
    "    tempdf.loc[i,'month'] = tail.split(\"_\",1)[0]\n",
    "    tempdf.loc[i,'day'] = (tail.split(\"_\",1)[1]).split(\"_\",1)[0]\n",
    "    \n",
    "# display(tempdf.head())\n",
    "\n",
    "tempdf['date'] = pd.to_datetime(tempdf[['year', 'month', 'day']])\n",
    "tempdf.sort_values(by='date', inplace=True)\n",
    "# tempdf = tempdf.tail(4)\n",
    "dates = tempdf.date.copy()\n",
    "dates = [x for x in dates if x > datetime.date(2022, 12, 23)]\n",
    "print(f'time: {time.time()-time2} sec')"
   ]
  },
  {
   "cell_type": "code",
   "execution_count": 155,
   "id": "5972e008-3bba-4c4f-a5d0-83013b56a47e",
   "metadata": {},
   "outputs": [
    {
     "name": "stdout",
     "output_type": "stream",
     "text": [
      "[Timestamp('2022-12-27 00:00:00'), Timestamp('2022-12-28 00:00:00'), Timestamp('2022-12-29 00:00:00'), Timestamp('2022-12-30 00:00:00'), Timestamp('2023-01-03 00:00:00'), Timestamp('2023-01-04 00:00:00'), Timestamp('2023-01-05 00:00:00'), Timestamp('2023-01-06 00:00:00'), Timestamp('2023-01-09 00:00:00'), Timestamp('2023-01-10 00:00:00'), Timestamp('2023-01-11 00:00:00'), Timestamp('2023-01-12 00:00:00'), Timestamp('2023-01-13 00:00:00'), Timestamp('2023-01-17 00:00:00'), Timestamp('2023-01-18 00:00:00'), Timestamp('2023-01-19 00:00:00'), Timestamp('2023-01-20 00:00:00'), Timestamp('2023-01-23 00:00:00'), Timestamp('2023-01-24 00:00:00'), Timestamp('2023-01-25 00:00:00'), Timestamp('2023-01-26 00:00:00')]\n"
     ]
    },
    {
     "data": {
      "text/html": [
       "<div>\n",
       "<style scoped>\n",
       "    .dataframe tbody tr th:only-of-type {\n",
       "        vertical-align: middle;\n",
       "    }\n",
       "\n",
       "    .dataframe tbody tr th {\n",
       "        vertical-align: top;\n",
       "    }\n",
       "\n",
       "    .dataframe thead th {\n",
       "        text-align: right;\n",
       "    }\n",
       "</style>\n",
       "<table border=\"1\" class=\"dataframe\">\n",
       "  <thead>\n",
       "    <tr style=\"text-align: right;\">\n",
       "      <th></th>\n",
       "      <th>filename</th>\n",
       "      <th>year</th>\n",
       "      <th>month</th>\n",
       "      <th>day</th>\n",
       "      <th>date</th>\n",
       "    </tr>\n",
       "  </thead>\n",
       "  <tbody>\n",
       "    <tr>\n",
       "      <th>9</th>\n",
       "      <td>gs://pmykola-streaming-projects/spg-stocks/dat...</td>\n",
       "      <td>2022</td>\n",
       "      <td>12</td>\n",
       "      <td>23</td>\n",
       "      <td>2022-12-23</td>\n",
       "    </tr>\n",
       "    <tr>\n",
       "      <th>10</th>\n",
       "      <td>gs://pmykola-streaming-projects/spg-stocks/dat...</td>\n",
       "      <td>2022</td>\n",
       "      <td>12</td>\n",
       "      <td>27</td>\n",
       "      <td>2022-12-27</td>\n",
       "    </tr>\n",
       "    <tr>\n",
       "      <th>11</th>\n",
       "      <td>gs://pmykola-streaming-projects/spg-stocks/dat...</td>\n",
       "      <td>2022</td>\n",
       "      <td>12</td>\n",
       "      <td>28</td>\n",
       "      <td>2022-12-28</td>\n",
       "    </tr>\n",
       "    <tr>\n",
       "      <th>12</th>\n",
       "      <td>gs://pmykola-streaming-projects/spg-stocks/dat...</td>\n",
       "      <td>2022</td>\n",
       "      <td>12</td>\n",
       "      <td>29</td>\n",
       "      <td>2022-12-29</td>\n",
       "    </tr>\n",
       "  </tbody>\n",
       "</table>\n",
       "</div>"
      ],
      "text/plain": [
       "                                             filename  year month day  \\\n",
       "9   gs://pmykola-streaming-projects/spg-stocks/dat...  2022    12  23   \n",
       "10  gs://pmykola-streaming-projects/spg-stocks/dat...  2022    12  27   \n",
       "11  gs://pmykola-streaming-projects/spg-stocks/dat...  2022    12  28   \n",
       "12  gs://pmykola-streaming-projects/spg-stocks/dat...  2022    12  29   \n",
       "\n",
       "         date  \n",
       "9  2022-12-23  \n",
       "10 2022-12-27  \n",
       "11 2022-12-28  \n",
       "12 2022-12-29  "
      ]
     },
     "metadata": {},
     "output_type": "display_data"
    },
    {
     "name": "stdout",
     "output_type": "stream",
     "text": [
      "['gs://pmykola-streaming-projects/spg-stocks/data/auto_data_last_20221223_pull_time_12_23_16:10:5.csv', 'gs://pmykola-streaming-projects/spg-stocks/data/auto_data_last_20221227_pull_time_12_27_16:10:8.csv', 'gs://pmykola-streaming-projects/spg-stocks/data/auto_data_last_20221228_pull_time_12_28_16:10:5.csv', 'gs://pmykola-streaming-projects/spg-stocks/data/auto_data_last_20221229_pull_time_12_29_16:10:5.csv']\n",
      "time: 1.163454294204712 sec\n",
      "time: 4.846221685409546 sec\n",
      "time: 4.850165128707886 sec\n",
      "time: 4.857408761978149 sec\n",
      "time: 4.999105215072632 sec\n"
     ]
    },
    {
     "name": "stderr",
     "output_type": "stream",
     "text": [
      "/opt/conda/lib/python3.7/site-packages/pandas/core/frame.py:5047: SettingWithCopyWarning: \n",
      "A value is trying to be set on a copy of a slice from a DataFrame\n",
      "\n",
      "See the caveats in the documentation: https://pandas.pydata.org/pandas-docs/stable/user_guide/indexing.html#returning-a-view-versus-a-copy\n",
      "  errors=errors,\n"
     ]
    },
    {
     "name": "stdout",
     "output_type": "stream",
     "text": [
      "196 observations this day\n",
      "time: 6.147873878479004 sec\n",
      "Upload to Cloud Storage complete.\n"
     ]
    },
    {
     "name": "stderr",
     "output_type": "stream",
     "text": [
      "100%|██████████| 1/1 [00:00<00:00, 11881.88it/s]"
     ]
    },
    {
     "name": "stdout",
     "output_type": "stream",
     "text": [
      "response Success: spg-stocks/artifacts/performance-data/m1_performance_20221229_pull_time_1_26_20:33:34.csv upload complete. Total time: 15.022sec\n",
      "time: 13.32896614074707 sec\n"
     ]
    },
    {
     "name": "stderr",
     "output_type": "stream",
     "text": [
      "\n"
     ]
    },
    {
     "data": {
      "text/html": [
       "<div>\n",
       "<style scoped>\n",
       "    .dataframe tbody tr th:only-of-type {\n",
       "        vertical-align: middle;\n",
       "    }\n",
       "\n",
       "    .dataframe tbody tr th {\n",
       "        vertical-align: top;\n",
       "    }\n",
       "\n",
       "    .dataframe thead th {\n",
       "        text-align: right;\n",
       "    }\n",
       "</style>\n",
       "<table border=\"1\" class=\"dataframe\">\n",
       "  <thead>\n",
       "    <tr style=\"text-align: right;\">\n",
       "      <th></th>\n",
       "      <th>filename</th>\n",
       "      <th>year</th>\n",
       "      <th>month</th>\n",
       "      <th>day</th>\n",
       "      <th>date</th>\n",
       "    </tr>\n",
       "  </thead>\n",
       "  <tbody>\n",
       "    <tr>\n",
       "      <th>9</th>\n",
       "      <td>gs://pmykola-streaming-projects/spg-stocks/dat...</td>\n",
       "      <td>2022</td>\n",
       "      <td>12</td>\n",
       "      <td>23</td>\n",
       "      <td>2022-12-23</td>\n",
       "    </tr>\n",
       "    <tr>\n",
       "      <th>10</th>\n",
       "      <td>gs://pmykola-streaming-projects/spg-stocks/dat...</td>\n",
       "      <td>2022</td>\n",
       "      <td>12</td>\n",
       "      <td>27</td>\n",
       "      <td>2022-12-27</td>\n",
       "    </tr>\n",
       "    <tr>\n",
       "      <th>11</th>\n",
       "      <td>gs://pmykola-streaming-projects/spg-stocks/dat...</td>\n",
       "      <td>2022</td>\n",
       "      <td>12</td>\n",
       "      <td>28</td>\n",
       "      <td>2022-12-28</td>\n",
       "    </tr>\n",
       "    <tr>\n",
       "      <th>12</th>\n",
       "      <td>gs://pmykola-streaming-projects/spg-stocks/dat...</td>\n",
       "      <td>2022</td>\n",
       "      <td>12</td>\n",
       "      <td>29</td>\n",
       "      <td>2022-12-29</td>\n",
       "    </tr>\n",
       "  </tbody>\n",
       "</table>\n",
       "</div>"
      ],
      "text/plain": [
       "                                             filename  year month day  \\\n",
       "9   gs://pmykola-streaming-projects/spg-stocks/dat...  2022    12  23   \n",
       "10  gs://pmykola-streaming-projects/spg-stocks/dat...  2022    12  27   \n",
       "11  gs://pmykola-streaming-projects/spg-stocks/dat...  2022    12  28   \n",
       "12  gs://pmykola-streaming-projects/spg-stocks/dat...  2022    12  29   \n",
       "\n",
       "         date  \n",
       "9  2022-12-23  \n",
       "10 2022-12-27  \n",
       "11 2022-12-28  \n",
       "12 2022-12-29  "
      ]
     },
     "metadata": {},
     "output_type": "display_data"
    },
    {
     "name": "stdout",
     "output_type": "stream",
     "text": [
      "['gs://pmykola-streaming-projects/spg-stocks/data/auto_data_last_20221223_pull_time_12_23_16:10:5.csv', 'gs://pmykola-streaming-projects/spg-stocks/data/auto_data_last_20221227_pull_time_12_27_16:10:8.csv', 'gs://pmykola-streaming-projects/spg-stocks/data/auto_data_last_20221228_pull_time_12_28_16:10:5.csv', 'gs://pmykola-streaming-projects/spg-stocks/data/auto_data_last_20221229_pull_time_12_29_16:10:5.csv']\n",
      "time: 14.403741121292114 sec\n",
      "time: 17.80597448348999 sec\n",
      "time: 17.810023546218872 sec\n",
      "time: 17.81735873222351 sec\n",
      "time: 17.95961856842041 sec\n"
     ]
    },
    {
     "name": "stderr",
     "output_type": "stream",
     "text": [
      "/opt/conda/lib/python3.7/site-packages/pandas/core/frame.py:5047: SettingWithCopyWarning: \n",
      "A value is trying to be set on a copy of a slice from a DataFrame\n",
      "\n",
      "See the caveats in the documentation: https://pandas.pydata.org/pandas-docs/stable/user_guide/indexing.html#returning-a-view-versus-a-copy\n",
      "  errors=errors,\n"
     ]
    },
    {
     "name": "stdout",
     "output_type": "stream",
     "text": [
      "196 observations this day\n",
      "time: 19.06081795692444 sec\n",
      "Upload to Cloud Storage complete.\n"
     ]
    },
    {
     "name": "stderr",
     "output_type": "stream",
     "text": [
      "100%|██████████| 1/1 [00:00<00:00, 7182.03it/s]"
     ]
    },
    {
     "name": "stdout",
     "output_type": "stream",
     "text": [
      "response Success: spg-stocks/artifacts/performance-data/m1_performance_20221229_pull_time_1_26_20:33:34.csv upload complete. Total time: 26.851sec\n",
      "time: 25.158130645751953 sec\n"
     ]
    },
    {
     "name": "stderr",
     "output_type": "stream",
     "text": [
      "\n"
     ]
    },
    {
     "data": {
      "text/html": [
       "<div>\n",
       "<style scoped>\n",
       "    .dataframe tbody tr th:only-of-type {\n",
       "        vertical-align: middle;\n",
       "    }\n",
       "\n",
       "    .dataframe tbody tr th {\n",
       "        vertical-align: top;\n",
       "    }\n",
       "\n",
       "    .dataframe thead th {\n",
       "        text-align: right;\n",
       "    }\n",
       "</style>\n",
       "<table border=\"1\" class=\"dataframe\">\n",
       "  <thead>\n",
       "    <tr style=\"text-align: right;\">\n",
       "      <th></th>\n",
       "      <th>filename</th>\n",
       "      <th>year</th>\n",
       "      <th>month</th>\n",
       "      <th>day</th>\n",
       "      <th>date</th>\n",
       "    </tr>\n",
       "  </thead>\n",
       "  <tbody>\n",
       "    <tr>\n",
       "      <th>9</th>\n",
       "      <td>gs://pmykola-streaming-projects/spg-stocks/dat...</td>\n",
       "      <td>2022</td>\n",
       "      <td>12</td>\n",
       "      <td>23</td>\n",
       "      <td>2022-12-23</td>\n",
       "    </tr>\n",
       "    <tr>\n",
       "      <th>10</th>\n",
       "      <td>gs://pmykola-streaming-projects/spg-stocks/dat...</td>\n",
       "      <td>2022</td>\n",
       "      <td>12</td>\n",
       "      <td>27</td>\n",
       "      <td>2022-12-27</td>\n",
       "    </tr>\n",
       "    <tr>\n",
       "      <th>11</th>\n",
       "      <td>gs://pmykola-streaming-projects/spg-stocks/dat...</td>\n",
       "      <td>2022</td>\n",
       "      <td>12</td>\n",
       "      <td>28</td>\n",
       "      <td>2022-12-28</td>\n",
       "    </tr>\n",
       "    <tr>\n",
       "      <th>12</th>\n",
       "      <td>gs://pmykola-streaming-projects/spg-stocks/dat...</td>\n",
       "      <td>2022</td>\n",
       "      <td>12</td>\n",
       "      <td>29</td>\n",
       "      <td>2022-12-29</td>\n",
       "    </tr>\n",
       "  </tbody>\n",
       "</table>\n",
       "</div>"
      ],
      "text/plain": [
       "                                             filename  year month day  \\\n",
       "9   gs://pmykola-streaming-projects/spg-stocks/dat...  2022    12  23   \n",
       "10  gs://pmykola-streaming-projects/spg-stocks/dat...  2022    12  27   \n",
       "11  gs://pmykola-streaming-projects/spg-stocks/dat...  2022    12  28   \n",
       "12  gs://pmykola-streaming-projects/spg-stocks/dat...  2022    12  29   \n",
       "\n",
       "         date  \n",
       "9  2022-12-23  \n",
       "10 2022-12-27  \n",
       "11 2022-12-28  \n",
       "12 2022-12-29  "
      ]
     },
     "metadata": {},
     "output_type": "display_data"
    },
    {
     "name": "stdout",
     "output_type": "stream",
     "text": [
      "['gs://pmykola-streaming-projects/spg-stocks/data/auto_data_last_20221223_pull_time_12_23_16:10:5.csv', 'gs://pmykola-streaming-projects/spg-stocks/data/auto_data_last_20221227_pull_time_12_27_16:10:8.csv', 'gs://pmykola-streaming-projects/spg-stocks/data/auto_data_last_20221228_pull_time_12_28_16:10:5.csv', 'gs://pmykola-streaming-projects/spg-stocks/data/auto_data_last_20221229_pull_time_12_29_16:10:5.csv']\n",
      "time: 26.266039609909058 sec\n",
      "time: 30.556828022003174 sec\n",
      "time: 30.560773849487305 sec\n",
      "time: 30.568103790283203 sec\n",
      "time: 30.71148991584778 sec\n"
     ]
    },
    {
     "name": "stderr",
     "output_type": "stream",
     "text": [
      "/opt/conda/lib/python3.7/site-packages/pandas/core/frame.py:5047: SettingWithCopyWarning: \n",
      "A value is trying to be set on a copy of a slice from a DataFrame\n",
      "\n",
      "See the caveats in the documentation: https://pandas.pydata.org/pandas-docs/stable/user_guide/indexing.html#returning-a-view-versus-a-copy\n",
      "  errors=errors,\n"
     ]
    },
    {
     "name": "stdout",
     "output_type": "stream",
     "text": [
      "196 observations this day\n",
      "time: 30.972044706344604 sec\n",
      "Upload to Cloud Storage complete.\n"
     ]
    },
    {
     "name": "stderr",
     "output_type": "stream",
     "text": [
      "100%|██████████| 1/1 [00:00<00:00, 13617.87it/s]"
     ]
    },
    {
     "name": "stdout",
     "output_type": "stream",
     "text": [
      "response Success: spg-stocks/artifacts/performance-data/m1_performance_20221229_pull_time_1_26_20:33:34.csv upload complete. Total time: 37.988sec\n",
      "time: 36.29533338546753 sec\n"
     ]
    },
    {
     "name": "stderr",
     "output_type": "stream",
     "text": [
      "\n"
     ]
    },
    {
     "data": {
      "text/html": [
       "<div>\n",
       "<style scoped>\n",
       "    .dataframe tbody tr th:only-of-type {\n",
       "        vertical-align: middle;\n",
       "    }\n",
       "\n",
       "    .dataframe tbody tr th {\n",
       "        vertical-align: top;\n",
       "    }\n",
       "\n",
       "    .dataframe thead th {\n",
       "        text-align: right;\n",
       "    }\n",
       "</style>\n",
       "<table border=\"1\" class=\"dataframe\">\n",
       "  <thead>\n",
       "    <tr style=\"text-align: right;\">\n",
       "      <th></th>\n",
       "      <th>filename</th>\n",
       "      <th>year</th>\n",
       "      <th>month</th>\n",
       "      <th>day</th>\n",
       "      <th>date</th>\n",
       "    </tr>\n",
       "  </thead>\n",
       "  <tbody>\n",
       "    <tr>\n",
       "      <th>9</th>\n",
       "      <td>gs://pmykola-streaming-projects/spg-stocks/dat...</td>\n",
       "      <td>2022</td>\n",
       "      <td>12</td>\n",
       "      <td>23</td>\n",
       "      <td>2022-12-23</td>\n",
       "    </tr>\n",
       "    <tr>\n",
       "      <th>10</th>\n",
       "      <td>gs://pmykola-streaming-projects/spg-stocks/dat...</td>\n",
       "      <td>2022</td>\n",
       "      <td>12</td>\n",
       "      <td>27</td>\n",
       "      <td>2022-12-27</td>\n",
       "    </tr>\n",
       "    <tr>\n",
       "      <th>11</th>\n",
       "      <td>gs://pmykola-streaming-projects/spg-stocks/dat...</td>\n",
       "      <td>2022</td>\n",
       "      <td>12</td>\n",
       "      <td>28</td>\n",
       "      <td>2022-12-28</td>\n",
       "    </tr>\n",
       "    <tr>\n",
       "      <th>12</th>\n",
       "      <td>gs://pmykola-streaming-projects/spg-stocks/dat...</td>\n",
       "      <td>2022</td>\n",
       "      <td>12</td>\n",
       "      <td>29</td>\n",
       "      <td>2022-12-29</td>\n",
       "    </tr>\n",
       "  </tbody>\n",
       "</table>\n",
       "</div>"
      ],
      "text/plain": [
       "                                             filename  year month day  \\\n",
       "9   gs://pmykola-streaming-projects/spg-stocks/dat...  2022    12  23   \n",
       "10  gs://pmykola-streaming-projects/spg-stocks/dat...  2022    12  27   \n",
       "11  gs://pmykola-streaming-projects/spg-stocks/dat...  2022    12  28   \n",
       "12  gs://pmykola-streaming-projects/spg-stocks/dat...  2022    12  29   \n",
       "\n",
       "         date  \n",
       "9  2022-12-23  \n",
       "10 2022-12-27  \n",
       "11 2022-12-28  \n",
       "12 2022-12-29  "
      ]
     },
     "metadata": {},
     "output_type": "display_data"
    },
    {
     "name": "stdout",
     "output_type": "stream",
     "text": [
      "['gs://pmykola-streaming-projects/spg-stocks/data/auto_data_last_20221223_pull_time_12_23_16:10:5.csv', 'gs://pmykola-streaming-projects/spg-stocks/data/auto_data_last_20221227_pull_time_12_27_16:10:8.csv', 'gs://pmykola-streaming-projects/spg-stocks/data/auto_data_last_20221228_pull_time_12_28_16:10:5.csv', 'gs://pmykola-streaming-projects/spg-stocks/data/auto_data_last_20221229_pull_time_12_29_16:10:5.csv']\n",
      "time: 37.34874105453491 sec\n",
      "time: 40.703317403793335 sec\n",
      "time: 40.707648038864136 sec\n",
      "time: 40.71511435508728 sec\n",
      "time: 40.86138415336609 sec\n"
     ]
    },
    {
     "name": "stderr",
     "output_type": "stream",
     "text": [
      "/opt/conda/lib/python3.7/site-packages/pandas/core/frame.py:5047: SettingWithCopyWarning: \n",
      "A value is trying to be set on a copy of a slice from a DataFrame\n",
      "\n",
      "See the caveats in the documentation: https://pandas.pydata.org/pandas-docs/stable/user_guide/indexing.html#returning-a-view-versus-a-copy\n",
      "  errors=errors,\n"
     ]
    },
    {
     "name": "stdout",
     "output_type": "stream",
     "text": [
      "196 observations this day\n",
      "time: 41.487180948257446 sec\n",
      "Upload to Cloud Storage complete.\n"
     ]
    },
    {
     "name": "stderr",
     "output_type": "stream",
     "text": [
      "100%|██████████| 1/1 [00:00<00:00, 9939.11it/s]"
     ]
    },
    {
     "name": "stdout",
     "output_type": "stream",
     "text": [
      "response Success: spg-stocks/artifacts/performance-data/m1_performance_20221229_pull_time_1_26_20:33:34.csv upload complete. Total time: 49.910sec\n",
      "time: 48.21656656265259 sec\n"
     ]
    },
    {
     "name": "stderr",
     "output_type": "stream",
     "text": [
      "\n"
     ]
    },
    {
     "data": {
      "text/html": [
       "<div>\n",
       "<style scoped>\n",
       "    .dataframe tbody tr th:only-of-type {\n",
       "        vertical-align: middle;\n",
       "    }\n",
       "\n",
       "    .dataframe tbody tr th {\n",
       "        vertical-align: top;\n",
       "    }\n",
       "\n",
       "    .dataframe thead th {\n",
       "        text-align: right;\n",
       "    }\n",
       "</style>\n",
       "<table border=\"1\" class=\"dataframe\">\n",
       "  <thead>\n",
       "    <tr style=\"text-align: right;\">\n",
       "      <th></th>\n",
       "      <th>filename</th>\n",
       "      <th>year</th>\n",
       "      <th>month</th>\n",
       "      <th>day</th>\n",
       "      <th>date</th>\n",
       "    </tr>\n",
       "  </thead>\n",
       "  <tbody>\n",
       "    <tr>\n",
       "      <th>9</th>\n",
       "      <td>gs://pmykola-streaming-projects/spg-stocks/dat...</td>\n",
       "      <td>2022</td>\n",
       "      <td>12</td>\n",
       "      <td>23</td>\n",
       "      <td>2022-12-23</td>\n",
       "    </tr>\n",
       "    <tr>\n",
       "      <th>10</th>\n",
       "      <td>gs://pmykola-streaming-projects/spg-stocks/dat...</td>\n",
       "      <td>2022</td>\n",
       "      <td>12</td>\n",
       "      <td>27</td>\n",
       "      <td>2022-12-27</td>\n",
       "    </tr>\n",
       "    <tr>\n",
       "      <th>11</th>\n",
       "      <td>gs://pmykola-streaming-projects/spg-stocks/dat...</td>\n",
       "      <td>2022</td>\n",
       "      <td>12</td>\n",
       "      <td>28</td>\n",
       "      <td>2022-12-28</td>\n",
       "    </tr>\n",
       "    <tr>\n",
       "      <th>12</th>\n",
       "      <td>gs://pmykola-streaming-projects/spg-stocks/dat...</td>\n",
       "      <td>2022</td>\n",
       "      <td>12</td>\n",
       "      <td>29</td>\n",
       "      <td>2022-12-29</td>\n",
       "    </tr>\n",
       "  </tbody>\n",
       "</table>\n",
       "</div>"
      ],
      "text/plain": [
       "                                             filename  year month day  \\\n",
       "9   gs://pmykola-streaming-projects/spg-stocks/dat...  2022    12  23   \n",
       "10  gs://pmykola-streaming-projects/spg-stocks/dat...  2022    12  27   \n",
       "11  gs://pmykola-streaming-projects/spg-stocks/dat...  2022    12  28   \n",
       "12  gs://pmykola-streaming-projects/spg-stocks/dat...  2022    12  29   \n",
       "\n",
       "         date  \n",
       "9  2022-12-23  \n",
       "10 2022-12-27  \n",
       "11 2022-12-28  \n",
       "12 2022-12-29  "
      ]
     },
     "metadata": {},
     "output_type": "display_data"
    },
    {
     "name": "stdout",
     "output_type": "stream",
     "text": [
      "['gs://pmykola-streaming-projects/spg-stocks/data/auto_data_last_20221223_pull_time_12_23_16:10:5.csv', 'gs://pmykola-streaming-projects/spg-stocks/data/auto_data_last_20221227_pull_time_12_27_16:10:8.csv', 'gs://pmykola-streaming-projects/spg-stocks/data/auto_data_last_20221228_pull_time_12_28_16:10:5.csv', 'gs://pmykola-streaming-projects/spg-stocks/data/auto_data_last_20221229_pull_time_12_29_16:10:5.csv']\n",
      "time: 49.30753040313721 sec\n",
      "time: 53.14208364486694 sec\n",
      "time: 53.146385192871094 sec\n",
      "time: 53.15369939804077 sec\n",
      "time: 53.296746492385864 sec\n"
     ]
    },
    {
     "name": "stderr",
     "output_type": "stream",
     "text": [
      "/opt/conda/lib/python3.7/site-packages/pandas/core/frame.py:5047: SettingWithCopyWarning: \n",
      "A value is trying to be set on a copy of a slice from a DataFrame\n",
      "\n",
      "See the caveats in the documentation: https://pandas.pydata.org/pandas-docs/stable/user_guide/indexing.html#returning-a-view-versus-a-copy\n",
      "  errors=errors,\n"
     ]
    },
    {
     "name": "stdout",
     "output_type": "stream",
     "text": [
      "196 observations this day\n",
      "time: 53.55299687385559 sec\n",
      "Upload to Cloud Storage complete.\n"
     ]
    },
    {
     "name": "stderr",
     "output_type": "stream",
     "text": [
      "100%|██████████| 1/1 [00:00<00:00, 10205.12it/s]"
     ]
    },
    {
     "name": "stdout",
     "output_type": "stream",
     "text": [
      "response Success: spg-stocks/artifacts/performance-data/m1_performance_20221229_pull_time_1_26_20:33:34.csv upload complete. Total time: 61.368sec\n",
      "time: 59.6747510433197 sec\n"
     ]
    },
    {
     "name": "stderr",
     "output_type": "stream",
     "text": [
      "\n"
     ]
    },
    {
     "data": {
      "text/html": [
       "<div>\n",
       "<style scoped>\n",
       "    .dataframe tbody tr th:only-of-type {\n",
       "        vertical-align: middle;\n",
       "    }\n",
       "\n",
       "    .dataframe tbody tr th {\n",
       "        vertical-align: top;\n",
       "    }\n",
       "\n",
       "    .dataframe thead th {\n",
       "        text-align: right;\n",
       "    }\n",
       "</style>\n",
       "<table border=\"1\" class=\"dataframe\">\n",
       "  <thead>\n",
       "    <tr style=\"text-align: right;\">\n",
       "      <th></th>\n",
       "      <th>filename</th>\n",
       "      <th>year</th>\n",
       "      <th>month</th>\n",
       "      <th>day</th>\n",
       "      <th>date</th>\n",
       "    </tr>\n",
       "  </thead>\n",
       "  <tbody>\n",
       "    <tr>\n",
       "      <th>9</th>\n",
       "      <td>gs://pmykola-streaming-projects/spg-stocks/dat...</td>\n",
       "      <td>2022</td>\n",
       "      <td>12</td>\n",
       "      <td>23</td>\n",
       "      <td>2022-12-23</td>\n",
       "    </tr>\n",
       "    <tr>\n",
       "      <th>10</th>\n",
       "      <td>gs://pmykola-streaming-projects/spg-stocks/dat...</td>\n",
       "      <td>2022</td>\n",
       "      <td>12</td>\n",
       "      <td>27</td>\n",
       "      <td>2022-12-27</td>\n",
       "    </tr>\n",
       "    <tr>\n",
       "      <th>11</th>\n",
       "      <td>gs://pmykola-streaming-projects/spg-stocks/dat...</td>\n",
       "      <td>2022</td>\n",
       "      <td>12</td>\n",
       "      <td>28</td>\n",
       "      <td>2022-12-28</td>\n",
       "    </tr>\n",
       "    <tr>\n",
       "      <th>12</th>\n",
       "      <td>gs://pmykola-streaming-projects/spg-stocks/dat...</td>\n",
       "      <td>2022</td>\n",
       "      <td>12</td>\n",
       "      <td>29</td>\n",
       "      <td>2022-12-29</td>\n",
       "    </tr>\n",
       "  </tbody>\n",
       "</table>\n",
       "</div>"
      ],
      "text/plain": [
       "                                             filename  year month day  \\\n",
       "9   gs://pmykola-streaming-projects/spg-stocks/dat...  2022    12  23   \n",
       "10  gs://pmykola-streaming-projects/spg-stocks/dat...  2022    12  27   \n",
       "11  gs://pmykola-streaming-projects/spg-stocks/dat...  2022    12  28   \n",
       "12  gs://pmykola-streaming-projects/spg-stocks/dat...  2022    12  29   \n",
       "\n",
       "         date  \n",
       "9  2022-12-23  \n",
       "10 2022-12-27  \n",
       "11 2022-12-28  \n",
       "12 2022-12-29  "
      ]
     },
     "metadata": {},
     "output_type": "display_data"
    },
    {
     "name": "stdout",
     "output_type": "stream",
     "text": [
      "['gs://pmykola-streaming-projects/spg-stocks/data/auto_data_last_20221223_pull_time_12_23_16:10:5.csv', 'gs://pmykola-streaming-projects/spg-stocks/data/auto_data_last_20221227_pull_time_12_27_16:10:8.csv', 'gs://pmykola-streaming-projects/spg-stocks/data/auto_data_last_20221228_pull_time_12_28_16:10:5.csv', 'gs://pmykola-streaming-projects/spg-stocks/data/auto_data_last_20221229_pull_time_12_29_16:10:5.csv']\n",
      "time: 60.704543352127075 sec\n",
      "time: 63.622313022613525 sec\n",
      "time: 63.62647557258606 sec\n",
      "time: 63.63417935371399 sec\n",
      "time: 63.78007912635803 sec\n"
     ]
    },
    {
     "name": "stderr",
     "output_type": "stream",
     "text": [
      "/opt/conda/lib/python3.7/site-packages/pandas/core/frame.py:5047: SettingWithCopyWarning: \n",
      "A value is trying to be set on a copy of a slice from a DataFrame\n",
      "\n",
      "See the caveats in the documentation: https://pandas.pydata.org/pandas-docs/stable/user_guide/indexing.html#returning-a-view-versus-a-copy\n",
      "  errors=errors,\n"
     ]
    },
    {
     "name": "stdout",
     "output_type": "stream",
     "text": [
      "196 observations this day\n",
      "time: 64.05307936668396 sec\n",
      "Upload to Cloud Storage complete.\n"
     ]
    },
    {
     "name": "stderr",
     "output_type": "stream",
     "text": [
      "100%|██████████| 1/1 [00:00<00:00, 8192.00it/s]"
     ]
    },
    {
     "name": "stdout",
     "output_type": "stream",
     "text": [
      "response Success: spg-stocks/artifacts/performance-data/m1_performance_20221229_pull_time_1_26_20:33:34.csv upload complete. Total time: 71.133sec\n",
      "time: 69.44023418426514 sec\n"
     ]
    },
    {
     "name": "stderr",
     "output_type": "stream",
     "text": [
      "\n"
     ]
    },
    {
     "data": {
      "text/html": [
       "<div>\n",
       "<style scoped>\n",
       "    .dataframe tbody tr th:only-of-type {\n",
       "        vertical-align: middle;\n",
       "    }\n",
       "\n",
       "    .dataframe tbody tr th {\n",
       "        vertical-align: top;\n",
       "    }\n",
       "\n",
       "    .dataframe thead th {\n",
       "        text-align: right;\n",
       "    }\n",
       "</style>\n",
       "<table border=\"1\" class=\"dataframe\">\n",
       "  <thead>\n",
       "    <tr style=\"text-align: right;\">\n",
       "      <th></th>\n",
       "      <th>filename</th>\n",
       "      <th>year</th>\n",
       "      <th>month</th>\n",
       "      <th>day</th>\n",
       "      <th>date</th>\n",
       "    </tr>\n",
       "  </thead>\n",
       "  <tbody>\n",
       "    <tr>\n",
       "      <th>9</th>\n",
       "      <td>gs://pmykola-streaming-projects/spg-stocks/dat...</td>\n",
       "      <td>2022</td>\n",
       "      <td>12</td>\n",
       "      <td>23</td>\n",
       "      <td>2022-12-23</td>\n",
       "    </tr>\n",
       "    <tr>\n",
       "      <th>10</th>\n",
       "      <td>gs://pmykola-streaming-projects/spg-stocks/dat...</td>\n",
       "      <td>2022</td>\n",
       "      <td>12</td>\n",
       "      <td>27</td>\n",
       "      <td>2022-12-27</td>\n",
       "    </tr>\n",
       "    <tr>\n",
       "      <th>11</th>\n",
       "      <td>gs://pmykola-streaming-projects/spg-stocks/dat...</td>\n",
       "      <td>2022</td>\n",
       "      <td>12</td>\n",
       "      <td>28</td>\n",
       "      <td>2022-12-28</td>\n",
       "    </tr>\n",
       "    <tr>\n",
       "      <th>12</th>\n",
       "      <td>gs://pmykola-streaming-projects/spg-stocks/dat...</td>\n",
       "      <td>2022</td>\n",
       "      <td>12</td>\n",
       "      <td>29</td>\n",
       "      <td>2022-12-29</td>\n",
       "    </tr>\n",
       "  </tbody>\n",
       "</table>\n",
       "</div>"
      ],
      "text/plain": [
       "                                             filename  year month day  \\\n",
       "9   gs://pmykola-streaming-projects/spg-stocks/dat...  2022    12  23   \n",
       "10  gs://pmykola-streaming-projects/spg-stocks/dat...  2022    12  27   \n",
       "11  gs://pmykola-streaming-projects/spg-stocks/dat...  2022    12  28   \n",
       "12  gs://pmykola-streaming-projects/spg-stocks/dat...  2022    12  29   \n",
       "\n",
       "         date  \n",
       "9  2022-12-23  \n",
       "10 2022-12-27  \n",
       "11 2022-12-28  \n",
       "12 2022-12-29  "
      ]
     },
     "metadata": {},
     "output_type": "display_data"
    },
    {
     "name": "stdout",
     "output_type": "stream",
     "text": [
      "['gs://pmykola-streaming-projects/spg-stocks/data/auto_data_last_20221223_pull_time_12_23_16:10:5.csv', 'gs://pmykola-streaming-projects/spg-stocks/data/auto_data_last_20221227_pull_time_12_27_16:10:8.csv', 'gs://pmykola-streaming-projects/spg-stocks/data/auto_data_last_20221228_pull_time_12_28_16:10:5.csv', 'gs://pmykola-streaming-projects/spg-stocks/data/auto_data_last_20221229_pull_time_12_29_16:10:5.csv']\n",
      "time: 69.84893226623535 sec\n",
      "time: 73.13577222824097 sec\n",
      "time: 73.13970685005188 sec\n",
      "time: 73.14724397659302 sec\n",
      "time: 73.29071140289307 sec\n"
     ]
    },
    {
     "name": "stderr",
     "output_type": "stream",
     "text": [
      "/opt/conda/lib/python3.7/site-packages/pandas/core/frame.py:5047: SettingWithCopyWarning: \n",
      "A value is trying to be set on a copy of a slice from a DataFrame\n",
      "\n",
      "See the caveats in the documentation: https://pandas.pydata.org/pandas-docs/stable/user_guide/indexing.html#returning-a-view-versus-a-copy\n",
      "  errors=errors,\n"
     ]
    },
    {
     "name": "stdout",
     "output_type": "stream",
     "text": [
      "196 observations this day\n",
      "time: 73.73921346664429 sec\n",
      "Upload to Cloud Storage complete.\n"
     ]
    },
    {
     "name": "stderr",
     "output_type": "stream",
     "text": [
      "100%|██████████| 1/1 [00:00<00:00, 13315.25it/s]"
     ]
    },
    {
     "name": "stdout",
     "output_type": "stream",
     "text": [
      "response Success: spg-stocks/artifacts/performance-data/m1_performance_20221229_pull_time_1_26_20:33:34.csv upload complete. Total time: 81.316sec\n",
      "time: 79.62319922447205 sec\n"
     ]
    },
    {
     "name": "stderr",
     "output_type": "stream",
     "text": [
      "\n"
     ]
    },
    {
     "data": {
      "text/html": [
       "<div>\n",
       "<style scoped>\n",
       "    .dataframe tbody tr th:only-of-type {\n",
       "        vertical-align: middle;\n",
       "    }\n",
       "\n",
       "    .dataframe tbody tr th {\n",
       "        vertical-align: top;\n",
       "    }\n",
       "\n",
       "    .dataframe thead th {\n",
       "        text-align: right;\n",
       "    }\n",
       "</style>\n",
       "<table border=\"1\" class=\"dataframe\">\n",
       "  <thead>\n",
       "    <tr style=\"text-align: right;\">\n",
       "      <th></th>\n",
       "      <th>filename</th>\n",
       "      <th>year</th>\n",
       "      <th>month</th>\n",
       "      <th>day</th>\n",
       "      <th>date</th>\n",
       "    </tr>\n",
       "  </thead>\n",
       "  <tbody>\n",
       "    <tr>\n",
       "      <th>9</th>\n",
       "      <td>gs://pmykola-streaming-projects/spg-stocks/dat...</td>\n",
       "      <td>2022</td>\n",
       "      <td>12</td>\n",
       "      <td>23</td>\n",
       "      <td>2022-12-23</td>\n",
       "    </tr>\n",
       "    <tr>\n",
       "      <th>10</th>\n",
       "      <td>gs://pmykola-streaming-projects/spg-stocks/dat...</td>\n",
       "      <td>2022</td>\n",
       "      <td>12</td>\n",
       "      <td>27</td>\n",
       "      <td>2022-12-27</td>\n",
       "    </tr>\n",
       "    <tr>\n",
       "      <th>11</th>\n",
       "      <td>gs://pmykola-streaming-projects/spg-stocks/dat...</td>\n",
       "      <td>2022</td>\n",
       "      <td>12</td>\n",
       "      <td>28</td>\n",
       "      <td>2022-12-28</td>\n",
       "    </tr>\n",
       "    <tr>\n",
       "      <th>12</th>\n",
       "      <td>gs://pmykola-streaming-projects/spg-stocks/dat...</td>\n",
       "      <td>2022</td>\n",
       "      <td>12</td>\n",
       "      <td>29</td>\n",
       "      <td>2022-12-29</td>\n",
       "    </tr>\n",
       "  </tbody>\n",
       "</table>\n",
       "</div>"
      ],
      "text/plain": [
       "                                             filename  year month day  \\\n",
       "9   gs://pmykola-streaming-projects/spg-stocks/dat...  2022    12  23   \n",
       "10  gs://pmykola-streaming-projects/spg-stocks/dat...  2022    12  27   \n",
       "11  gs://pmykola-streaming-projects/spg-stocks/dat...  2022    12  28   \n",
       "12  gs://pmykola-streaming-projects/spg-stocks/dat...  2022    12  29   \n",
       "\n",
       "         date  \n",
       "9  2022-12-23  \n",
       "10 2022-12-27  \n",
       "11 2022-12-28  \n",
       "12 2022-12-29  "
      ]
     },
     "metadata": {},
     "output_type": "display_data"
    },
    {
     "name": "stdout",
     "output_type": "stream",
     "text": [
      "['gs://pmykola-streaming-projects/spg-stocks/data/auto_data_last_20221223_pull_time_12_23_16:10:5.csv', 'gs://pmykola-streaming-projects/spg-stocks/data/auto_data_last_20221227_pull_time_12_27_16:10:8.csv', 'gs://pmykola-streaming-projects/spg-stocks/data/auto_data_last_20221228_pull_time_12_28_16:10:5.csv', 'gs://pmykola-streaming-projects/spg-stocks/data/auto_data_last_20221229_pull_time_12_29_16:10:5.csv']\n",
      "time: 80.03522562980652 sec\n",
      "time: 81.78949689865112 sec\n",
      "time: 81.79391384124756 sec\n",
      "time: 81.8014464378357 sec\n",
      "time: 81.94688034057617 sec\n"
     ]
    },
    {
     "name": "stderr",
     "output_type": "stream",
     "text": [
      "/opt/conda/lib/python3.7/site-packages/pandas/core/frame.py:5047: SettingWithCopyWarning: \n",
      "A value is trying to be set on a copy of a slice from a DataFrame\n",
      "\n",
      "See the caveats in the documentation: https://pandas.pydata.org/pandas-docs/stable/user_guide/indexing.html#returning-a-view-versus-a-copy\n",
      "  errors=errors,\n"
     ]
    },
    {
     "name": "stdout",
     "output_type": "stream",
     "text": [
      "196 observations this day\n",
      "time: 82.40513229370117 sec\n",
      "Upload to Cloud Storage complete.\n"
     ]
    },
    {
     "name": "stderr",
     "output_type": "stream",
     "text": [
      "100%|██████████| 1/1 [00:00<00:00, 13797.05it/s]"
     ]
    },
    {
     "name": "stdout",
     "output_type": "stream",
     "text": [
      "response Success: spg-stocks/artifacts/performance-data/m1_performance_20221229_pull_time_1_26_20:33:34.csv upload complete. Total time: 90.746sec\n",
      "time: 89.05332326889038 sec\n"
     ]
    },
    {
     "name": "stderr",
     "output_type": "stream",
     "text": [
      "\n"
     ]
    },
    {
     "data": {
      "text/html": [
       "<div>\n",
       "<style scoped>\n",
       "    .dataframe tbody tr th:only-of-type {\n",
       "        vertical-align: middle;\n",
       "    }\n",
       "\n",
       "    .dataframe tbody tr th {\n",
       "        vertical-align: top;\n",
       "    }\n",
       "\n",
       "    .dataframe thead th {\n",
       "        text-align: right;\n",
       "    }\n",
       "</style>\n",
       "<table border=\"1\" class=\"dataframe\">\n",
       "  <thead>\n",
       "    <tr style=\"text-align: right;\">\n",
       "      <th></th>\n",
       "      <th>filename</th>\n",
       "      <th>year</th>\n",
       "      <th>month</th>\n",
       "      <th>day</th>\n",
       "      <th>date</th>\n",
       "    </tr>\n",
       "  </thead>\n",
       "  <tbody>\n",
       "    <tr>\n",
       "      <th>9</th>\n",
       "      <td>gs://pmykola-streaming-projects/spg-stocks/dat...</td>\n",
       "      <td>2022</td>\n",
       "      <td>12</td>\n",
       "      <td>23</td>\n",
       "      <td>2022-12-23</td>\n",
       "    </tr>\n",
       "    <tr>\n",
       "      <th>10</th>\n",
       "      <td>gs://pmykola-streaming-projects/spg-stocks/dat...</td>\n",
       "      <td>2022</td>\n",
       "      <td>12</td>\n",
       "      <td>27</td>\n",
       "      <td>2022-12-27</td>\n",
       "    </tr>\n",
       "    <tr>\n",
       "      <th>11</th>\n",
       "      <td>gs://pmykola-streaming-projects/spg-stocks/dat...</td>\n",
       "      <td>2022</td>\n",
       "      <td>12</td>\n",
       "      <td>28</td>\n",
       "      <td>2022-12-28</td>\n",
       "    </tr>\n",
       "    <tr>\n",
       "      <th>12</th>\n",
       "      <td>gs://pmykola-streaming-projects/spg-stocks/dat...</td>\n",
       "      <td>2022</td>\n",
       "      <td>12</td>\n",
       "      <td>29</td>\n",
       "      <td>2022-12-29</td>\n",
       "    </tr>\n",
       "  </tbody>\n",
       "</table>\n",
       "</div>"
      ],
      "text/plain": [
       "                                             filename  year month day  \\\n",
       "9   gs://pmykola-streaming-projects/spg-stocks/dat...  2022    12  23   \n",
       "10  gs://pmykola-streaming-projects/spg-stocks/dat...  2022    12  27   \n",
       "11  gs://pmykola-streaming-projects/spg-stocks/dat...  2022    12  28   \n",
       "12  gs://pmykola-streaming-projects/spg-stocks/dat...  2022    12  29   \n",
       "\n",
       "         date  \n",
       "9  2022-12-23  \n",
       "10 2022-12-27  \n",
       "11 2022-12-28  \n",
       "12 2022-12-29  "
      ]
     },
     "metadata": {},
     "output_type": "display_data"
    },
    {
     "name": "stdout",
     "output_type": "stream",
     "text": [
      "['gs://pmykola-streaming-projects/spg-stocks/data/auto_data_last_20221223_pull_time_12_23_16:10:5.csv', 'gs://pmykola-streaming-projects/spg-stocks/data/auto_data_last_20221227_pull_time_12_27_16:10:8.csv', 'gs://pmykola-streaming-projects/spg-stocks/data/auto_data_last_20221228_pull_time_12_28_16:10:5.csv', 'gs://pmykola-streaming-projects/spg-stocks/data/auto_data_last_20221229_pull_time_12_29_16:10:5.csv']\n",
      "time: 89.4686348438263 sec\n",
      "time: 91.07915234565735 sec\n",
      "time: 91.08305144309998 sec\n",
      "time: 91.09038925170898 sec\n",
      "time: 91.23383665084839 sec\n"
     ]
    },
    {
     "name": "stderr",
     "output_type": "stream",
     "text": [
      "/opt/conda/lib/python3.7/site-packages/pandas/core/frame.py:5047: SettingWithCopyWarning: \n",
      "A value is trying to be set on a copy of a slice from a DataFrame\n",
      "\n",
      "See the caveats in the documentation: https://pandas.pydata.org/pandas-docs/stable/user_guide/indexing.html#returning-a-view-versus-a-copy\n",
      "  errors=errors,\n"
     ]
    },
    {
     "name": "stdout",
     "output_type": "stream",
     "text": [
      "196 observations this day\n",
      "time: 91.48158383369446 sec\n",
      "Upload to Cloud Storage complete.\n"
     ]
    },
    {
     "name": "stderr",
     "output_type": "stream",
     "text": [
      "100%|██████████| 1/1 [00:00<00:00, 13573.80it/s]"
     ]
    },
    {
     "name": "stdout",
     "output_type": "stream",
     "text": [
      "response Success: spg-stocks/artifacts/performance-data/m1_performance_20221229_pull_time_1_26_20:33:34.csv upload complete. Total time: 98.259sec\n",
      "time: 96.56628394126892 sec\n"
     ]
    },
    {
     "name": "stderr",
     "output_type": "stream",
     "text": [
      "\n"
     ]
    },
    {
     "data": {
      "text/html": [
       "<div>\n",
       "<style scoped>\n",
       "    .dataframe tbody tr th:only-of-type {\n",
       "        vertical-align: middle;\n",
       "    }\n",
       "\n",
       "    .dataframe tbody tr th {\n",
       "        vertical-align: top;\n",
       "    }\n",
       "\n",
       "    .dataframe thead th {\n",
       "        text-align: right;\n",
       "    }\n",
       "</style>\n",
       "<table border=\"1\" class=\"dataframe\">\n",
       "  <thead>\n",
       "    <tr style=\"text-align: right;\">\n",
       "      <th></th>\n",
       "      <th>filename</th>\n",
       "      <th>year</th>\n",
       "      <th>month</th>\n",
       "      <th>day</th>\n",
       "      <th>date</th>\n",
       "    </tr>\n",
       "  </thead>\n",
       "  <tbody>\n",
       "    <tr>\n",
       "      <th>9</th>\n",
       "      <td>gs://pmykola-streaming-projects/spg-stocks/dat...</td>\n",
       "      <td>2022</td>\n",
       "      <td>12</td>\n",
       "      <td>23</td>\n",
       "      <td>2022-12-23</td>\n",
       "    </tr>\n",
       "    <tr>\n",
       "      <th>10</th>\n",
       "      <td>gs://pmykola-streaming-projects/spg-stocks/dat...</td>\n",
       "      <td>2022</td>\n",
       "      <td>12</td>\n",
       "      <td>27</td>\n",
       "      <td>2022-12-27</td>\n",
       "    </tr>\n",
       "    <tr>\n",
       "      <th>11</th>\n",
       "      <td>gs://pmykola-streaming-projects/spg-stocks/dat...</td>\n",
       "      <td>2022</td>\n",
       "      <td>12</td>\n",
       "      <td>28</td>\n",
       "      <td>2022-12-28</td>\n",
       "    </tr>\n",
       "    <tr>\n",
       "      <th>12</th>\n",
       "      <td>gs://pmykola-streaming-projects/spg-stocks/dat...</td>\n",
       "      <td>2022</td>\n",
       "      <td>12</td>\n",
       "      <td>29</td>\n",
       "      <td>2022-12-29</td>\n",
       "    </tr>\n",
       "  </tbody>\n",
       "</table>\n",
       "</div>"
      ],
      "text/plain": [
       "                                             filename  year month day  \\\n",
       "9   gs://pmykola-streaming-projects/spg-stocks/dat...  2022    12  23   \n",
       "10  gs://pmykola-streaming-projects/spg-stocks/dat...  2022    12  27   \n",
       "11  gs://pmykola-streaming-projects/spg-stocks/dat...  2022    12  28   \n",
       "12  gs://pmykola-streaming-projects/spg-stocks/dat...  2022    12  29   \n",
       "\n",
       "         date  \n",
       "9  2022-12-23  \n",
       "10 2022-12-27  \n",
       "11 2022-12-28  \n",
       "12 2022-12-29  "
      ]
     },
     "metadata": {},
     "output_type": "display_data"
    },
    {
     "name": "stdout",
     "output_type": "stream",
     "text": [
      "['gs://pmykola-streaming-projects/spg-stocks/data/auto_data_last_20221223_pull_time_12_23_16:10:5.csv', 'gs://pmykola-streaming-projects/spg-stocks/data/auto_data_last_20221227_pull_time_12_27_16:10:8.csv', 'gs://pmykola-streaming-projects/spg-stocks/data/auto_data_last_20221228_pull_time_12_28_16:10:5.csv', 'gs://pmykola-streaming-projects/spg-stocks/data/auto_data_last_20221229_pull_time_12_29_16:10:5.csv']\n",
      "time: 96.9731137752533 sec\n",
      "time: 98.58160090446472 sec\n",
      "time: 98.58552122116089 sec\n",
      "time: 98.59287929534912 sec\n",
      "time: 98.73500227928162 sec\n"
     ]
    },
    {
     "name": "stderr",
     "output_type": "stream",
     "text": [
      "/opt/conda/lib/python3.7/site-packages/pandas/core/frame.py:5047: SettingWithCopyWarning: \n",
      "A value is trying to be set on a copy of a slice from a DataFrame\n",
      "\n",
      "See the caveats in the documentation: https://pandas.pydata.org/pandas-docs/stable/user_guide/indexing.html#returning-a-view-versus-a-copy\n",
      "  errors=errors,\n"
     ]
    },
    {
     "name": "stdout",
     "output_type": "stream",
     "text": [
      "196 observations this day\n",
      "time: 100.02643966674805 sec\n",
      "Upload to Cloud Storage complete.\n"
     ]
    },
    {
     "name": "stderr",
     "output_type": "stream",
     "text": [
      "100%|██████████| 1/1 [00:00<00:00, 13486.51it/s]"
     ]
    },
    {
     "name": "stdout",
     "output_type": "stream",
     "text": [
      "response Success: spg-stocks/artifacts/performance-data/m1_performance_20221229_pull_time_1_26_20:33:34.csv upload complete. Total time: 108.11sec\n",
      "time: 106.42136788368225 sec\n"
     ]
    },
    {
     "name": "stderr",
     "output_type": "stream",
     "text": [
      "\n"
     ]
    },
    {
     "data": {
      "text/html": [
       "<div>\n",
       "<style scoped>\n",
       "    .dataframe tbody tr th:only-of-type {\n",
       "        vertical-align: middle;\n",
       "    }\n",
       "\n",
       "    .dataframe tbody tr th {\n",
       "        vertical-align: top;\n",
       "    }\n",
       "\n",
       "    .dataframe thead th {\n",
       "        text-align: right;\n",
       "    }\n",
       "</style>\n",
       "<table border=\"1\" class=\"dataframe\">\n",
       "  <thead>\n",
       "    <tr style=\"text-align: right;\">\n",
       "      <th></th>\n",
       "      <th>filename</th>\n",
       "      <th>year</th>\n",
       "      <th>month</th>\n",
       "      <th>day</th>\n",
       "      <th>date</th>\n",
       "    </tr>\n",
       "  </thead>\n",
       "  <tbody>\n",
       "    <tr>\n",
       "      <th>9</th>\n",
       "      <td>gs://pmykola-streaming-projects/spg-stocks/dat...</td>\n",
       "      <td>2022</td>\n",
       "      <td>12</td>\n",
       "      <td>23</td>\n",
       "      <td>2022-12-23</td>\n",
       "    </tr>\n",
       "    <tr>\n",
       "      <th>10</th>\n",
       "      <td>gs://pmykola-streaming-projects/spg-stocks/dat...</td>\n",
       "      <td>2022</td>\n",
       "      <td>12</td>\n",
       "      <td>27</td>\n",
       "      <td>2022-12-27</td>\n",
       "    </tr>\n",
       "    <tr>\n",
       "      <th>11</th>\n",
       "      <td>gs://pmykola-streaming-projects/spg-stocks/dat...</td>\n",
       "      <td>2022</td>\n",
       "      <td>12</td>\n",
       "      <td>28</td>\n",
       "      <td>2022-12-28</td>\n",
       "    </tr>\n",
       "    <tr>\n",
       "      <th>12</th>\n",
       "      <td>gs://pmykola-streaming-projects/spg-stocks/dat...</td>\n",
       "      <td>2022</td>\n",
       "      <td>12</td>\n",
       "      <td>29</td>\n",
       "      <td>2022-12-29</td>\n",
       "    </tr>\n",
       "  </tbody>\n",
       "</table>\n",
       "</div>"
      ],
      "text/plain": [
       "                                             filename  year month day  \\\n",
       "9   gs://pmykola-streaming-projects/spg-stocks/dat...  2022    12  23   \n",
       "10  gs://pmykola-streaming-projects/spg-stocks/dat...  2022    12  27   \n",
       "11  gs://pmykola-streaming-projects/spg-stocks/dat...  2022    12  28   \n",
       "12  gs://pmykola-streaming-projects/spg-stocks/dat...  2022    12  29   \n",
       "\n",
       "         date  \n",
       "9  2022-12-23  \n",
       "10 2022-12-27  \n",
       "11 2022-12-28  \n",
       "12 2022-12-29  "
      ]
     },
     "metadata": {},
     "output_type": "display_data"
    },
    {
     "name": "stdout",
     "output_type": "stream",
     "text": [
      "['gs://pmykola-streaming-projects/spg-stocks/data/auto_data_last_20221223_pull_time_12_23_16:10:5.csv', 'gs://pmykola-streaming-projects/spg-stocks/data/auto_data_last_20221227_pull_time_12_27_16:10:8.csv', 'gs://pmykola-streaming-projects/spg-stocks/data/auto_data_last_20221228_pull_time_12_28_16:10:5.csv', 'gs://pmykola-streaming-projects/spg-stocks/data/auto_data_last_20221229_pull_time_12_29_16:10:5.csv']\n",
      "time: 107.47051858901978 sec\n",
      "time: 112.10517811775208 sec\n",
      "time: 112.10915994644165 sec\n",
      "time: 112.11645746231079 sec\n",
      "time: 112.25830340385437 sec\n"
     ]
    },
    {
     "name": "stderr",
     "output_type": "stream",
     "text": [
      "/opt/conda/lib/python3.7/site-packages/pandas/core/frame.py:5047: SettingWithCopyWarning: \n",
      "A value is trying to be set on a copy of a slice from a DataFrame\n",
      "\n",
      "See the caveats in the documentation: https://pandas.pydata.org/pandas-docs/stable/user_guide/indexing.html#returning-a-view-versus-a-copy\n",
      "  errors=errors,\n"
     ]
    },
    {
     "name": "stdout",
     "output_type": "stream",
     "text": [
      "196 observations this day\n",
      "time: 112.60814356803894 sec\n",
      "Upload to Cloud Storage complete.\n"
     ]
    },
    {
     "name": "stderr",
     "output_type": "stream",
     "text": [
      "100%|██████████| 1/1 [00:00<00:00, 13751.82it/s]"
     ]
    },
    {
     "name": "stdout",
     "output_type": "stream",
     "text": [
      "response Success: spg-stocks/artifacts/performance-data/m1_performance_20221229_pull_time_1_26_20:33:34.csv upload complete. Total time: 119.58sec\n",
      "time: 117.88850593566895 sec\n"
     ]
    },
    {
     "name": "stderr",
     "output_type": "stream",
     "text": [
      "\n"
     ]
    },
    {
     "data": {
      "text/html": [
       "<div>\n",
       "<style scoped>\n",
       "    .dataframe tbody tr th:only-of-type {\n",
       "        vertical-align: middle;\n",
       "    }\n",
       "\n",
       "    .dataframe tbody tr th {\n",
       "        vertical-align: top;\n",
       "    }\n",
       "\n",
       "    .dataframe thead th {\n",
       "        text-align: right;\n",
       "    }\n",
       "</style>\n",
       "<table border=\"1\" class=\"dataframe\">\n",
       "  <thead>\n",
       "    <tr style=\"text-align: right;\">\n",
       "      <th></th>\n",
       "      <th>filename</th>\n",
       "      <th>year</th>\n",
       "      <th>month</th>\n",
       "      <th>day</th>\n",
       "      <th>date</th>\n",
       "    </tr>\n",
       "  </thead>\n",
       "  <tbody>\n",
       "    <tr>\n",
       "      <th>9</th>\n",
       "      <td>gs://pmykola-streaming-projects/spg-stocks/dat...</td>\n",
       "      <td>2022</td>\n",
       "      <td>12</td>\n",
       "      <td>23</td>\n",
       "      <td>2022-12-23</td>\n",
       "    </tr>\n",
       "    <tr>\n",
       "      <th>10</th>\n",
       "      <td>gs://pmykola-streaming-projects/spg-stocks/dat...</td>\n",
       "      <td>2022</td>\n",
       "      <td>12</td>\n",
       "      <td>27</td>\n",
       "      <td>2022-12-27</td>\n",
       "    </tr>\n",
       "    <tr>\n",
       "      <th>11</th>\n",
       "      <td>gs://pmykola-streaming-projects/spg-stocks/dat...</td>\n",
       "      <td>2022</td>\n",
       "      <td>12</td>\n",
       "      <td>28</td>\n",
       "      <td>2022-12-28</td>\n",
       "    </tr>\n",
       "    <tr>\n",
       "      <th>12</th>\n",
       "      <td>gs://pmykola-streaming-projects/spg-stocks/dat...</td>\n",
       "      <td>2022</td>\n",
       "      <td>12</td>\n",
       "      <td>29</td>\n",
       "      <td>2022-12-29</td>\n",
       "    </tr>\n",
       "  </tbody>\n",
       "</table>\n",
       "</div>"
      ],
      "text/plain": [
       "                                             filename  year month day  \\\n",
       "9   gs://pmykola-streaming-projects/spg-stocks/dat...  2022    12  23   \n",
       "10  gs://pmykola-streaming-projects/spg-stocks/dat...  2022    12  27   \n",
       "11  gs://pmykola-streaming-projects/spg-stocks/dat...  2022    12  28   \n",
       "12  gs://pmykola-streaming-projects/spg-stocks/dat...  2022    12  29   \n",
       "\n",
       "         date  \n",
       "9  2022-12-23  \n",
       "10 2022-12-27  \n",
       "11 2022-12-28  \n",
       "12 2022-12-29  "
      ]
     },
     "metadata": {},
     "output_type": "display_data"
    },
    {
     "name": "stdout",
     "output_type": "stream",
     "text": [
      "['gs://pmykola-streaming-projects/spg-stocks/data/auto_data_last_20221223_pull_time_12_23_16:10:5.csv', 'gs://pmykola-streaming-projects/spg-stocks/data/auto_data_last_20221227_pull_time_12_27_16:10:8.csv', 'gs://pmykola-streaming-projects/spg-stocks/data/auto_data_last_20221228_pull_time_12_28_16:10:5.csv', 'gs://pmykola-streaming-projects/spg-stocks/data/auto_data_last_20221229_pull_time_12_29_16:10:5.csv']\n",
      "time: 118.50327372550964 sec\n",
      "time: 120.4140796661377 sec\n",
      "time: 120.41812324523926 sec\n",
      "time: 120.42563557624817 sec\n",
      "time: 120.56841969490051 sec\n"
     ]
    },
    {
     "name": "stderr",
     "output_type": "stream",
     "text": [
      "/opt/conda/lib/python3.7/site-packages/pandas/core/frame.py:5047: SettingWithCopyWarning: \n",
      "A value is trying to be set on a copy of a slice from a DataFrame\n",
      "\n",
      "See the caveats in the documentation: https://pandas.pydata.org/pandas-docs/stable/user_guide/indexing.html#returning-a-view-versus-a-copy\n",
      "  errors=errors,\n"
     ]
    },
    {
     "name": "stdout",
     "output_type": "stream",
     "text": [
      "196 observations this day\n",
      "time: 121.19006633758545 sec\n",
      "Upload to Cloud Storage complete.\n"
     ]
    },
    {
     "name": "stderr",
     "output_type": "stream",
     "text": [
      "100%|██████████| 1/1 [00:00<00:00, 11618.57it/s]"
     ]
    },
    {
     "name": "stdout",
     "output_type": "stream",
     "text": [
      "response Success: spg-stocks/artifacts/performance-data/m1_performance_20221229_pull_time_1_26_20:33:34.csv upload complete. Total time: 129.58sec\n",
      "time: 127.891521692276 sec\n"
     ]
    },
    {
     "name": "stderr",
     "output_type": "stream",
     "text": [
      "\n"
     ]
    },
    {
     "data": {
      "text/html": [
       "<div>\n",
       "<style scoped>\n",
       "    .dataframe tbody tr th:only-of-type {\n",
       "        vertical-align: middle;\n",
       "    }\n",
       "\n",
       "    .dataframe tbody tr th {\n",
       "        vertical-align: top;\n",
       "    }\n",
       "\n",
       "    .dataframe thead th {\n",
       "        text-align: right;\n",
       "    }\n",
       "</style>\n",
       "<table border=\"1\" class=\"dataframe\">\n",
       "  <thead>\n",
       "    <tr style=\"text-align: right;\">\n",
       "      <th></th>\n",
       "      <th>filename</th>\n",
       "      <th>year</th>\n",
       "      <th>month</th>\n",
       "      <th>day</th>\n",
       "      <th>date</th>\n",
       "    </tr>\n",
       "  </thead>\n",
       "  <tbody>\n",
       "    <tr>\n",
       "      <th>9</th>\n",
       "      <td>gs://pmykola-streaming-projects/spg-stocks/dat...</td>\n",
       "      <td>2022</td>\n",
       "      <td>12</td>\n",
       "      <td>23</td>\n",
       "      <td>2022-12-23</td>\n",
       "    </tr>\n",
       "    <tr>\n",
       "      <th>10</th>\n",
       "      <td>gs://pmykola-streaming-projects/spg-stocks/dat...</td>\n",
       "      <td>2022</td>\n",
       "      <td>12</td>\n",
       "      <td>27</td>\n",
       "      <td>2022-12-27</td>\n",
       "    </tr>\n",
       "    <tr>\n",
       "      <th>11</th>\n",
       "      <td>gs://pmykola-streaming-projects/spg-stocks/dat...</td>\n",
       "      <td>2022</td>\n",
       "      <td>12</td>\n",
       "      <td>28</td>\n",
       "      <td>2022-12-28</td>\n",
       "    </tr>\n",
       "    <tr>\n",
       "      <th>12</th>\n",
       "      <td>gs://pmykola-streaming-projects/spg-stocks/dat...</td>\n",
       "      <td>2022</td>\n",
       "      <td>12</td>\n",
       "      <td>29</td>\n",
       "      <td>2022-12-29</td>\n",
       "    </tr>\n",
       "  </tbody>\n",
       "</table>\n",
       "</div>"
      ],
      "text/plain": [
       "                                             filename  year month day  \\\n",
       "9   gs://pmykola-streaming-projects/spg-stocks/dat...  2022    12  23   \n",
       "10  gs://pmykola-streaming-projects/spg-stocks/dat...  2022    12  27   \n",
       "11  gs://pmykola-streaming-projects/spg-stocks/dat...  2022    12  28   \n",
       "12  gs://pmykola-streaming-projects/spg-stocks/dat...  2022    12  29   \n",
       "\n",
       "         date  \n",
       "9  2022-12-23  \n",
       "10 2022-12-27  \n",
       "11 2022-12-28  \n",
       "12 2022-12-29  "
      ]
     },
     "metadata": {},
     "output_type": "display_data"
    },
    {
     "name": "stdout",
     "output_type": "stream",
     "text": [
      "['gs://pmykola-streaming-projects/spg-stocks/data/auto_data_last_20221223_pull_time_12_23_16:10:5.csv', 'gs://pmykola-streaming-projects/spg-stocks/data/auto_data_last_20221227_pull_time_12_27_16:10:8.csv', 'gs://pmykola-streaming-projects/spg-stocks/data/auto_data_last_20221228_pull_time_12_28_16:10:5.csv', 'gs://pmykola-streaming-projects/spg-stocks/data/auto_data_last_20221229_pull_time_12_29_16:10:5.csv']\n",
      "time: 128.2928066253662 sec\n",
      "time: 129.89472198486328 sec\n",
      "time: 129.89865350723267 sec\n",
      "time: 129.90591096878052 sec\n",
      "time: 130.0480296611786 sec\n"
     ]
    },
    {
     "name": "stderr",
     "output_type": "stream",
     "text": [
      "/opt/conda/lib/python3.7/site-packages/pandas/core/frame.py:5047: SettingWithCopyWarning: \n",
      "A value is trying to be set on a copy of a slice from a DataFrame\n",
      "\n",
      "See the caveats in the documentation: https://pandas.pydata.org/pandas-docs/stable/user_guide/indexing.html#returning-a-view-versus-a-copy\n",
      "  errors=errors,\n"
     ]
    },
    {
     "name": "stdout",
     "output_type": "stream",
     "text": [
      "196 observations this day\n",
      "time: 130.48604083061218 sec\n",
      "Upload to Cloud Storage complete.\n"
     ]
    },
    {
     "name": "stderr",
     "output_type": "stream",
     "text": [
      "100%|██████████| 1/1 [00:00<00:00, 13617.87it/s]"
     ]
    },
    {
     "name": "stdout",
     "output_type": "stream",
     "text": [
      "response Success: spg-stocks/artifacts/performance-data/m1_performance_20221229_pull_time_1_26_20:33:34.csv upload complete. Total time: 137.89sec\n",
      "time: 136.2032914161682 sec\n"
     ]
    },
    {
     "name": "stderr",
     "output_type": "stream",
     "text": [
      "\n"
     ]
    },
    {
     "data": {
      "text/html": [
       "<div>\n",
       "<style scoped>\n",
       "    .dataframe tbody tr th:only-of-type {\n",
       "        vertical-align: middle;\n",
       "    }\n",
       "\n",
       "    .dataframe tbody tr th {\n",
       "        vertical-align: top;\n",
       "    }\n",
       "\n",
       "    .dataframe thead th {\n",
       "        text-align: right;\n",
       "    }\n",
       "</style>\n",
       "<table border=\"1\" class=\"dataframe\">\n",
       "  <thead>\n",
       "    <tr style=\"text-align: right;\">\n",
       "      <th></th>\n",
       "      <th>filename</th>\n",
       "      <th>year</th>\n",
       "      <th>month</th>\n",
       "      <th>day</th>\n",
       "      <th>date</th>\n",
       "    </tr>\n",
       "  </thead>\n",
       "  <tbody>\n",
       "    <tr>\n",
       "      <th>9</th>\n",
       "      <td>gs://pmykola-streaming-projects/spg-stocks/dat...</td>\n",
       "      <td>2022</td>\n",
       "      <td>12</td>\n",
       "      <td>23</td>\n",
       "      <td>2022-12-23</td>\n",
       "    </tr>\n",
       "    <tr>\n",
       "      <th>10</th>\n",
       "      <td>gs://pmykola-streaming-projects/spg-stocks/dat...</td>\n",
       "      <td>2022</td>\n",
       "      <td>12</td>\n",
       "      <td>27</td>\n",
       "      <td>2022-12-27</td>\n",
       "    </tr>\n",
       "    <tr>\n",
       "      <th>11</th>\n",
       "      <td>gs://pmykola-streaming-projects/spg-stocks/dat...</td>\n",
       "      <td>2022</td>\n",
       "      <td>12</td>\n",
       "      <td>28</td>\n",
       "      <td>2022-12-28</td>\n",
       "    </tr>\n",
       "    <tr>\n",
       "      <th>12</th>\n",
       "      <td>gs://pmykola-streaming-projects/spg-stocks/dat...</td>\n",
       "      <td>2022</td>\n",
       "      <td>12</td>\n",
       "      <td>29</td>\n",
       "      <td>2022-12-29</td>\n",
       "    </tr>\n",
       "  </tbody>\n",
       "</table>\n",
       "</div>"
      ],
      "text/plain": [
       "                                             filename  year month day  \\\n",
       "9   gs://pmykola-streaming-projects/spg-stocks/dat...  2022    12  23   \n",
       "10  gs://pmykola-streaming-projects/spg-stocks/dat...  2022    12  27   \n",
       "11  gs://pmykola-streaming-projects/spg-stocks/dat...  2022    12  28   \n",
       "12  gs://pmykola-streaming-projects/spg-stocks/dat...  2022    12  29   \n",
       "\n",
       "         date  \n",
       "9  2022-12-23  \n",
       "10 2022-12-27  \n",
       "11 2022-12-28  \n",
       "12 2022-12-29  "
      ]
     },
     "metadata": {},
     "output_type": "display_data"
    },
    {
     "name": "stdout",
     "output_type": "stream",
     "text": [
      "['gs://pmykola-streaming-projects/spg-stocks/data/auto_data_last_20221223_pull_time_12_23_16:10:5.csv', 'gs://pmykola-streaming-projects/spg-stocks/data/auto_data_last_20221227_pull_time_12_27_16:10:8.csv', 'gs://pmykola-streaming-projects/spg-stocks/data/auto_data_last_20221228_pull_time_12_28_16:10:5.csv', 'gs://pmykola-streaming-projects/spg-stocks/data/auto_data_last_20221229_pull_time_12_29_16:10:5.csv']\n",
      "time: 136.79216837882996 sec\n",
      "time: 138.55517411231995 sec\n",
      "time: 138.55932307243347 sec\n",
      "time: 138.5668339729309 sec\n",
      "time: 138.71178674697876 sec\n"
     ]
    },
    {
     "name": "stderr",
     "output_type": "stream",
     "text": [
      "/opt/conda/lib/python3.7/site-packages/pandas/core/frame.py:5047: SettingWithCopyWarning: \n",
      "A value is trying to be set on a copy of a slice from a DataFrame\n",
      "\n",
      "See the caveats in the documentation: https://pandas.pydata.org/pandas-docs/stable/user_guide/indexing.html#returning-a-view-versus-a-copy\n",
      "  errors=errors,\n"
     ]
    },
    {
     "name": "stdout",
     "output_type": "stream",
     "text": [
      "196 observations this day\n",
      "time: 138.9634087085724 sec\n",
      "Upload to Cloud Storage complete.\n"
     ]
    },
    {
     "name": "stderr",
     "output_type": "stream",
     "text": [
      "100%|██████████| 1/1 [00:00<00:00, 9157.87it/s]"
     ]
    },
    {
     "name": "stdout",
     "output_type": "stream",
     "text": [
      "response Success: spg-stocks/artifacts/performance-data/m1_performance_20221229_pull_time_1_26_20:33:34.csv upload complete. Total time: 146.52sec\n",
      "time: 144.83156442642212 sec\n"
     ]
    },
    {
     "name": "stderr",
     "output_type": "stream",
     "text": [
      "\n"
     ]
    },
    {
     "data": {
      "text/html": [
       "<div>\n",
       "<style scoped>\n",
       "    .dataframe tbody tr th:only-of-type {\n",
       "        vertical-align: middle;\n",
       "    }\n",
       "\n",
       "    .dataframe tbody tr th {\n",
       "        vertical-align: top;\n",
       "    }\n",
       "\n",
       "    .dataframe thead th {\n",
       "        text-align: right;\n",
       "    }\n",
       "</style>\n",
       "<table border=\"1\" class=\"dataframe\">\n",
       "  <thead>\n",
       "    <tr style=\"text-align: right;\">\n",
       "      <th></th>\n",
       "      <th>filename</th>\n",
       "      <th>year</th>\n",
       "      <th>month</th>\n",
       "      <th>day</th>\n",
       "      <th>date</th>\n",
       "    </tr>\n",
       "  </thead>\n",
       "  <tbody>\n",
       "    <tr>\n",
       "      <th>9</th>\n",
       "      <td>gs://pmykola-streaming-projects/spg-stocks/dat...</td>\n",
       "      <td>2022</td>\n",
       "      <td>12</td>\n",
       "      <td>23</td>\n",
       "      <td>2022-12-23</td>\n",
       "    </tr>\n",
       "    <tr>\n",
       "      <th>10</th>\n",
       "      <td>gs://pmykola-streaming-projects/spg-stocks/dat...</td>\n",
       "      <td>2022</td>\n",
       "      <td>12</td>\n",
       "      <td>27</td>\n",
       "      <td>2022-12-27</td>\n",
       "    </tr>\n",
       "    <tr>\n",
       "      <th>11</th>\n",
       "      <td>gs://pmykola-streaming-projects/spg-stocks/dat...</td>\n",
       "      <td>2022</td>\n",
       "      <td>12</td>\n",
       "      <td>28</td>\n",
       "      <td>2022-12-28</td>\n",
       "    </tr>\n",
       "    <tr>\n",
       "      <th>12</th>\n",
       "      <td>gs://pmykola-streaming-projects/spg-stocks/dat...</td>\n",
       "      <td>2022</td>\n",
       "      <td>12</td>\n",
       "      <td>29</td>\n",
       "      <td>2022-12-29</td>\n",
       "    </tr>\n",
       "  </tbody>\n",
       "</table>\n",
       "</div>"
      ],
      "text/plain": [
       "                                             filename  year month day  \\\n",
       "9   gs://pmykola-streaming-projects/spg-stocks/dat...  2022    12  23   \n",
       "10  gs://pmykola-streaming-projects/spg-stocks/dat...  2022    12  27   \n",
       "11  gs://pmykola-streaming-projects/spg-stocks/dat...  2022    12  28   \n",
       "12  gs://pmykola-streaming-projects/spg-stocks/dat...  2022    12  29   \n",
       "\n",
       "         date  \n",
       "9  2022-12-23  \n",
       "10 2022-12-27  \n",
       "11 2022-12-28  \n",
       "12 2022-12-29  "
      ]
     },
     "metadata": {},
     "output_type": "display_data"
    },
    {
     "name": "stdout",
     "output_type": "stream",
     "text": [
      "['gs://pmykola-streaming-projects/spg-stocks/data/auto_data_last_20221223_pull_time_12_23_16:10:5.csv', 'gs://pmykola-streaming-projects/spg-stocks/data/auto_data_last_20221227_pull_time_12_27_16:10:8.csv', 'gs://pmykola-streaming-projects/spg-stocks/data/auto_data_last_20221228_pull_time_12_28_16:10:5.csv', 'gs://pmykola-streaming-projects/spg-stocks/data/auto_data_last_20221229_pull_time_12_29_16:10:5.csv']\n",
      "time: 145.24320578575134 sec\n",
      "time: 146.89196252822876 sec\n",
      "time: 146.8958671092987 sec\n",
      "time: 146.9032163619995 sec\n",
      "time: 147.04745221138 sec\n"
     ]
    },
    {
     "name": "stderr",
     "output_type": "stream",
     "text": [
      "/opt/conda/lib/python3.7/site-packages/pandas/core/frame.py:5047: SettingWithCopyWarning: \n",
      "A value is trying to be set on a copy of a slice from a DataFrame\n",
      "\n",
      "See the caveats in the documentation: https://pandas.pydata.org/pandas-docs/stable/user_guide/indexing.html#returning-a-view-versus-a-copy\n",
      "  errors=errors,\n"
     ]
    },
    {
     "name": "stdout",
     "output_type": "stream",
     "text": [
      "196 observations this day\n",
      "time: 147.30375337600708 sec\n",
      "Upload to Cloud Storage complete.\n"
     ]
    },
    {
     "name": "stderr",
     "output_type": "stream",
     "text": [
      "100%|██████████| 1/1 [00:00<00:00, 12865.96it/s]"
     ]
    },
    {
     "name": "stdout",
     "output_type": "stream",
     "text": [
      "response Success: spg-stocks/artifacts/performance-data/m1_performance_20221229_pull_time_1_26_20:33:34.csv upload complete. Total time: 154.59sec\n",
      "time: 152.90408039093018 sec\n"
     ]
    },
    {
     "name": "stderr",
     "output_type": "stream",
     "text": [
      "\n"
     ]
    },
    {
     "data": {
      "text/html": [
       "<div>\n",
       "<style scoped>\n",
       "    .dataframe tbody tr th:only-of-type {\n",
       "        vertical-align: middle;\n",
       "    }\n",
       "\n",
       "    .dataframe tbody tr th {\n",
       "        vertical-align: top;\n",
       "    }\n",
       "\n",
       "    .dataframe thead th {\n",
       "        text-align: right;\n",
       "    }\n",
       "</style>\n",
       "<table border=\"1\" class=\"dataframe\">\n",
       "  <thead>\n",
       "    <tr style=\"text-align: right;\">\n",
       "      <th></th>\n",
       "      <th>filename</th>\n",
       "      <th>year</th>\n",
       "      <th>month</th>\n",
       "      <th>day</th>\n",
       "      <th>date</th>\n",
       "    </tr>\n",
       "  </thead>\n",
       "  <tbody>\n",
       "    <tr>\n",
       "      <th>9</th>\n",
       "      <td>gs://pmykola-streaming-projects/spg-stocks/dat...</td>\n",
       "      <td>2022</td>\n",
       "      <td>12</td>\n",
       "      <td>23</td>\n",
       "      <td>2022-12-23</td>\n",
       "    </tr>\n",
       "    <tr>\n",
       "      <th>10</th>\n",
       "      <td>gs://pmykola-streaming-projects/spg-stocks/dat...</td>\n",
       "      <td>2022</td>\n",
       "      <td>12</td>\n",
       "      <td>27</td>\n",
       "      <td>2022-12-27</td>\n",
       "    </tr>\n",
       "    <tr>\n",
       "      <th>11</th>\n",
       "      <td>gs://pmykola-streaming-projects/spg-stocks/dat...</td>\n",
       "      <td>2022</td>\n",
       "      <td>12</td>\n",
       "      <td>28</td>\n",
       "      <td>2022-12-28</td>\n",
       "    </tr>\n",
       "    <tr>\n",
       "      <th>12</th>\n",
       "      <td>gs://pmykola-streaming-projects/spg-stocks/dat...</td>\n",
       "      <td>2022</td>\n",
       "      <td>12</td>\n",
       "      <td>29</td>\n",
       "      <td>2022-12-29</td>\n",
       "    </tr>\n",
       "  </tbody>\n",
       "</table>\n",
       "</div>"
      ],
      "text/plain": [
       "                                             filename  year month day  \\\n",
       "9   gs://pmykola-streaming-projects/spg-stocks/dat...  2022    12  23   \n",
       "10  gs://pmykola-streaming-projects/spg-stocks/dat...  2022    12  27   \n",
       "11  gs://pmykola-streaming-projects/spg-stocks/dat...  2022    12  28   \n",
       "12  gs://pmykola-streaming-projects/spg-stocks/dat...  2022    12  29   \n",
       "\n",
       "         date  \n",
       "9  2022-12-23  \n",
       "10 2022-12-27  \n",
       "11 2022-12-28  \n",
       "12 2022-12-29  "
      ]
     },
     "metadata": {},
     "output_type": "display_data"
    },
    {
     "name": "stdout",
     "output_type": "stream",
     "text": [
      "['gs://pmykola-streaming-projects/spg-stocks/data/auto_data_last_20221223_pull_time_12_23_16:10:5.csv', 'gs://pmykola-streaming-projects/spg-stocks/data/auto_data_last_20221227_pull_time_12_27_16:10:8.csv', 'gs://pmykola-streaming-projects/spg-stocks/data/auto_data_last_20221228_pull_time_12_28_16:10:5.csv', 'gs://pmykola-streaming-projects/spg-stocks/data/auto_data_last_20221229_pull_time_12_29_16:10:5.csv']\n",
      "time: 153.3208305835724 sec\n",
      "time: 154.93100833892822 sec\n",
      "time: 154.93502068519592 sec\n",
      "time: 154.94246888160706 sec\n",
      "time: 155.08475136756897 sec\n"
     ]
    },
    {
     "name": "stderr",
     "output_type": "stream",
     "text": [
      "/opt/conda/lib/python3.7/site-packages/pandas/core/frame.py:5047: SettingWithCopyWarning: \n",
      "A value is trying to be set on a copy of a slice from a DataFrame\n",
      "\n",
      "See the caveats in the documentation: https://pandas.pydata.org/pandas-docs/stable/user_guide/indexing.html#returning-a-view-versus-a-copy\n",
      "  errors=errors,\n"
     ]
    },
    {
     "name": "stdout",
     "output_type": "stream",
     "text": [
      "196 observations this day\n",
      "time: 155.3353807926178 sec\n",
      "Upload to Cloud Storage complete.\n"
     ]
    },
    {
     "name": "stderr",
     "output_type": "stream",
     "text": [
      "100%|██████████| 1/1 [00:00<00:00, 12228.29it/s]"
     ]
    },
    {
     "name": "stdout",
     "output_type": "stream",
     "text": [
      "response Success: spg-stocks/artifacts/performance-data/m1_performance_20221229_pull_time_1_26_20:33:34.csv upload complete. Total time: 162.05sec\n",
      "time: 160.35945415496826 sec\n"
     ]
    },
    {
     "name": "stderr",
     "output_type": "stream",
     "text": [
      "\n"
     ]
    },
    {
     "data": {
      "text/html": [
       "<div>\n",
       "<style scoped>\n",
       "    .dataframe tbody tr th:only-of-type {\n",
       "        vertical-align: middle;\n",
       "    }\n",
       "\n",
       "    .dataframe tbody tr th {\n",
       "        vertical-align: top;\n",
       "    }\n",
       "\n",
       "    .dataframe thead th {\n",
       "        text-align: right;\n",
       "    }\n",
       "</style>\n",
       "<table border=\"1\" class=\"dataframe\">\n",
       "  <thead>\n",
       "    <tr style=\"text-align: right;\">\n",
       "      <th></th>\n",
       "      <th>filename</th>\n",
       "      <th>year</th>\n",
       "      <th>month</th>\n",
       "      <th>day</th>\n",
       "      <th>date</th>\n",
       "    </tr>\n",
       "  </thead>\n",
       "  <tbody>\n",
       "    <tr>\n",
       "      <th>9</th>\n",
       "      <td>gs://pmykola-streaming-projects/spg-stocks/dat...</td>\n",
       "      <td>2022</td>\n",
       "      <td>12</td>\n",
       "      <td>23</td>\n",
       "      <td>2022-12-23</td>\n",
       "    </tr>\n",
       "    <tr>\n",
       "      <th>10</th>\n",
       "      <td>gs://pmykola-streaming-projects/spg-stocks/dat...</td>\n",
       "      <td>2022</td>\n",
       "      <td>12</td>\n",
       "      <td>27</td>\n",
       "      <td>2022-12-27</td>\n",
       "    </tr>\n",
       "    <tr>\n",
       "      <th>11</th>\n",
       "      <td>gs://pmykola-streaming-projects/spg-stocks/dat...</td>\n",
       "      <td>2022</td>\n",
       "      <td>12</td>\n",
       "      <td>28</td>\n",
       "      <td>2022-12-28</td>\n",
       "    </tr>\n",
       "    <tr>\n",
       "      <th>12</th>\n",
       "      <td>gs://pmykola-streaming-projects/spg-stocks/dat...</td>\n",
       "      <td>2022</td>\n",
       "      <td>12</td>\n",
       "      <td>29</td>\n",
       "      <td>2022-12-29</td>\n",
       "    </tr>\n",
       "  </tbody>\n",
       "</table>\n",
       "</div>"
      ],
      "text/plain": [
       "                                             filename  year month day  \\\n",
       "9   gs://pmykola-streaming-projects/spg-stocks/dat...  2022    12  23   \n",
       "10  gs://pmykola-streaming-projects/spg-stocks/dat...  2022    12  27   \n",
       "11  gs://pmykola-streaming-projects/spg-stocks/dat...  2022    12  28   \n",
       "12  gs://pmykola-streaming-projects/spg-stocks/dat...  2022    12  29   \n",
       "\n",
       "         date  \n",
       "9  2022-12-23  \n",
       "10 2022-12-27  \n",
       "11 2022-12-28  \n",
       "12 2022-12-29  "
      ]
     },
     "metadata": {},
     "output_type": "display_data"
    },
    {
     "name": "stdout",
     "output_type": "stream",
     "text": [
      "['gs://pmykola-streaming-projects/spg-stocks/data/auto_data_last_20221223_pull_time_12_23_16:10:5.csv', 'gs://pmykola-streaming-projects/spg-stocks/data/auto_data_last_20221227_pull_time_12_27_16:10:8.csv', 'gs://pmykola-streaming-projects/spg-stocks/data/auto_data_last_20221228_pull_time_12_28_16:10:5.csv', 'gs://pmykola-streaming-projects/spg-stocks/data/auto_data_last_20221229_pull_time_12_29_16:10:5.csv']\n",
      "time: 160.76287579536438 sec\n",
      "time: 162.3554174900055 sec\n",
      "time: 162.3593680858612 sec\n",
      "time: 162.36677289009094 sec\n",
      "time: 162.5093696117401 sec\n"
     ]
    },
    {
     "name": "stderr",
     "output_type": "stream",
     "text": [
      "/opt/conda/lib/python3.7/site-packages/pandas/core/frame.py:5047: SettingWithCopyWarning: \n",
      "A value is trying to be set on a copy of a slice from a DataFrame\n",
      "\n",
      "See the caveats in the documentation: https://pandas.pydata.org/pandas-docs/stable/user_guide/indexing.html#returning-a-view-versus-a-copy\n",
      "  errors=errors,\n"
     ]
    },
    {
     "name": "stdout",
     "output_type": "stream",
     "text": [
      "196 observations this day\n",
      "time: 162.7683253288269 sec\n",
      "Upload to Cloud Storage complete.\n"
     ]
    },
    {
     "name": "stderr",
     "output_type": "stream",
     "text": [
      "100%|██████████| 1/1 [00:00<00:00, 13662.23it/s]"
     ]
    },
    {
     "name": "stdout",
     "output_type": "stream",
     "text": [
      "response Success: spg-stocks/artifacts/performance-data/m1_performance_20221229_pull_time_1_26_20:33:34.csv upload complete. Total time: 171.61sec\n",
      "time: 169.91936349868774 sec\n"
     ]
    },
    {
     "name": "stderr",
     "output_type": "stream",
     "text": [
      "\n"
     ]
    },
    {
     "data": {
      "text/html": [
       "<div>\n",
       "<style scoped>\n",
       "    .dataframe tbody tr th:only-of-type {\n",
       "        vertical-align: middle;\n",
       "    }\n",
       "\n",
       "    .dataframe tbody tr th {\n",
       "        vertical-align: top;\n",
       "    }\n",
       "\n",
       "    .dataframe thead th {\n",
       "        text-align: right;\n",
       "    }\n",
       "</style>\n",
       "<table border=\"1\" class=\"dataframe\">\n",
       "  <thead>\n",
       "    <tr style=\"text-align: right;\">\n",
       "      <th></th>\n",
       "      <th>filename</th>\n",
       "      <th>year</th>\n",
       "      <th>month</th>\n",
       "      <th>day</th>\n",
       "      <th>date</th>\n",
       "    </tr>\n",
       "  </thead>\n",
       "  <tbody>\n",
       "    <tr>\n",
       "      <th>9</th>\n",
       "      <td>gs://pmykola-streaming-projects/spg-stocks/dat...</td>\n",
       "      <td>2022</td>\n",
       "      <td>12</td>\n",
       "      <td>23</td>\n",
       "      <td>2022-12-23</td>\n",
       "    </tr>\n",
       "    <tr>\n",
       "      <th>10</th>\n",
       "      <td>gs://pmykola-streaming-projects/spg-stocks/dat...</td>\n",
       "      <td>2022</td>\n",
       "      <td>12</td>\n",
       "      <td>27</td>\n",
       "      <td>2022-12-27</td>\n",
       "    </tr>\n",
       "    <tr>\n",
       "      <th>11</th>\n",
       "      <td>gs://pmykola-streaming-projects/spg-stocks/dat...</td>\n",
       "      <td>2022</td>\n",
       "      <td>12</td>\n",
       "      <td>28</td>\n",
       "      <td>2022-12-28</td>\n",
       "    </tr>\n",
       "    <tr>\n",
       "      <th>12</th>\n",
       "      <td>gs://pmykola-streaming-projects/spg-stocks/dat...</td>\n",
       "      <td>2022</td>\n",
       "      <td>12</td>\n",
       "      <td>29</td>\n",
       "      <td>2022-12-29</td>\n",
       "    </tr>\n",
       "  </tbody>\n",
       "</table>\n",
       "</div>"
      ],
      "text/plain": [
       "                                             filename  year month day  \\\n",
       "9   gs://pmykola-streaming-projects/spg-stocks/dat...  2022    12  23   \n",
       "10  gs://pmykola-streaming-projects/spg-stocks/dat...  2022    12  27   \n",
       "11  gs://pmykola-streaming-projects/spg-stocks/dat...  2022    12  28   \n",
       "12  gs://pmykola-streaming-projects/spg-stocks/dat...  2022    12  29   \n",
       "\n",
       "         date  \n",
       "9  2022-12-23  \n",
       "10 2022-12-27  \n",
       "11 2022-12-28  \n",
       "12 2022-12-29  "
      ]
     },
     "metadata": {},
     "output_type": "display_data"
    },
    {
     "name": "stdout",
     "output_type": "stream",
     "text": [
      "['gs://pmykola-streaming-projects/spg-stocks/data/auto_data_last_20221223_pull_time_12_23_16:10:5.csv', 'gs://pmykola-streaming-projects/spg-stocks/data/auto_data_last_20221227_pull_time_12_27_16:10:8.csv', 'gs://pmykola-streaming-projects/spg-stocks/data/auto_data_last_20221228_pull_time_12_28_16:10:5.csv', 'gs://pmykola-streaming-projects/spg-stocks/data/auto_data_last_20221229_pull_time_12_29_16:10:5.csv']\n",
      "time: 170.3193187713623 sec\n",
      "time: 171.94593405723572 sec\n",
      "time: 171.94985055923462 sec\n",
      "time: 171.95716619491577 sec\n",
      "time: 172.09982633590698 sec\n"
     ]
    },
    {
     "name": "stderr",
     "output_type": "stream",
     "text": [
      "/opt/conda/lib/python3.7/site-packages/pandas/core/frame.py:5047: SettingWithCopyWarning: \n",
      "A value is trying to be set on a copy of a slice from a DataFrame\n",
      "\n",
      "See the caveats in the documentation: https://pandas.pydata.org/pandas-docs/stable/user_guide/indexing.html#returning-a-view-versus-a-copy\n",
      "  errors=errors,\n"
     ]
    },
    {
     "name": "stdout",
     "output_type": "stream",
     "text": [
      "196 observations this day\n",
      "time: 172.35346341133118 sec\n",
      "Upload to Cloud Storage complete.\n"
     ]
    },
    {
     "name": "stderr",
     "output_type": "stream",
     "text": [
      "100%|██████████| 1/1 [00:00<00:00, 14217.98it/s]"
     ]
    },
    {
     "name": "stdout",
     "output_type": "stream",
     "text": [
      "response Success: spg-stocks/artifacts/performance-data/m1_performance_20221229_pull_time_1_26_20:33:34.csv upload complete. Total time: 180.17sec\n",
      "time: 178.48146271705627 sec\n"
     ]
    },
    {
     "name": "stderr",
     "output_type": "stream",
     "text": [
      "\n"
     ]
    },
    {
     "data": {
      "text/html": [
       "<div>\n",
       "<style scoped>\n",
       "    .dataframe tbody tr th:only-of-type {\n",
       "        vertical-align: middle;\n",
       "    }\n",
       "\n",
       "    .dataframe tbody tr th {\n",
       "        vertical-align: top;\n",
       "    }\n",
       "\n",
       "    .dataframe thead th {\n",
       "        text-align: right;\n",
       "    }\n",
       "</style>\n",
       "<table border=\"1\" class=\"dataframe\">\n",
       "  <thead>\n",
       "    <tr style=\"text-align: right;\">\n",
       "      <th></th>\n",
       "      <th>filename</th>\n",
       "      <th>year</th>\n",
       "      <th>month</th>\n",
       "      <th>day</th>\n",
       "      <th>date</th>\n",
       "    </tr>\n",
       "  </thead>\n",
       "  <tbody>\n",
       "    <tr>\n",
       "      <th>9</th>\n",
       "      <td>gs://pmykola-streaming-projects/spg-stocks/dat...</td>\n",
       "      <td>2022</td>\n",
       "      <td>12</td>\n",
       "      <td>23</td>\n",
       "      <td>2022-12-23</td>\n",
       "    </tr>\n",
       "    <tr>\n",
       "      <th>10</th>\n",
       "      <td>gs://pmykola-streaming-projects/spg-stocks/dat...</td>\n",
       "      <td>2022</td>\n",
       "      <td>12</td>\n",
       "      <td>27</td>\n",
       "      <td>2022-12-27</td>\n",
       "    </tr>\n",
       "    <tr>\n",
       "      <th>11</th>\n",
       "      <td>gs://pmykola-streaming-projects/spg-stocks/dat...</td>\n",
       "      <td>2022</td>\n",
       "      <td>12</td>\n",
       "      <td>28</td>\n",
       "      <td>2022-12-28</td>\n",
       "    </tr>\n",
       "    <tr>\n",
       "      <th>12</th>\n",
       "      <td>gs://pmykola-streaming-projects/spg-stocks/dat...</td>\n",
       "      <td>2022</td>\n",
       "      <td>12</td>\n",
       "      <td>29</td>\n",
       "      <td>2022-12-29</td>\n",
       "    </tr>\n",
       "  </tbody>\n",
       "</table>\n",
       "</div>"
      ],
      "text/plain": [
       "                                             filename  year month day  \\\n",
       "9   gs://pmykola-streaming-projects/spg-stocks/dat...  2022    12  23   \n",
       "10  gs://pmykola-streaming-projects/spg-stocks/dat...  2022    12  27   \n",
       "11  gs://pmykola-streaming-projects/spg-stocks/dat...  2022    12  28   \n",
       "12  gs://pmykola-streaming-projects/spg-stocks/dat...  2022    12  29   \n",
       "\n",
       "         date  \n",
       "9  2022-12-23  \n",
       "10 2022-12-27  \n",
       "11 2022-12-28  \n",
       "12 2022-12-29  "
      ]
     },
     "metadata": {},
     "output_type": "display_data"
    },
    {
     "name": "stdout",
     "output_type": "stream",
     "text": [
      "['gs://pmykola-streaming-projects/spg-stocks/data/auto_data_last_20221223_pull_time_12_23_16:10:5.csv', 'gs://pmykola-streaming-projects/spg-stocks/data/auto_data_last_20221227_pull_time_12_27_16:10:8.csv', 'gs://pmykola-streaming-projects/spg-stocks/data/auto_data_last_20221228_pull_time_12_28_16:10:5.csv', 'gs://pmykola-streaming-projects/spg-stocks/data/auto_data_last_20221229_pull_time_12_29_16:10:5.csv']\n",
      "time: 178.90177297592163 sec\n",
      "time: 180.5036976337433 sec\n",
      "time: 180.50791215896606 sec\n",
      "time: 180.5154001712799 sec\n",
      "time: 180.66181707382202 sec\n"
     ]
    },
    {
     "name": "stderr",
     "output_type": "stream",
     "text": [
      "/opt/conda/lib/python3.7/site-packages/pandas/core/frame.py:5047: SettingWithCopyWarning: \n",
      "A value is trying to be set on a copy of a slice from a DataFrame\n",
      "\n",
      "See the caveats in the documentation: https://pandas.pydata.org/pandas-docs/stable/user_guide/indexing.html#returning-a-view-versus-a-copy\n",
      "  errors=errors,\n"
     ]
    },
    {
     "name": "stdout",
     "output_type": "stream",
     "text": [
      "196 observations this day\n",
      "time: 181.11123919487 sec\n",
      "Upload to Cloud Storage complete.\n"
     ]
    },
    {
     "name": "stderr",
     "output_type": "stream",
     "text": [
      "100%|██████████| 1/1 [00:00<00:00, 14364.05it/s]"
     ]
    },
    {
     "name": "stdout",
     "output_type": "stream",
     "text": [
      "response Success: spg-stocks/artifacts/performance-data/m1_performance_20221229_pull_time_1_26_20:33:34.csv upload complete. Total time: 190.48sec\n",
      "time: 188.7914276123047 sec\n"
     ]
    },
    {
     "name": "stderr",
     "output_type": "stream",
     "text": [
      "\n"
     ]
    }
   ],
   "source": [
    "# this part implements for loop to do perfeval for each date in range\n",
    "print(dates)\n",
    "\n",
    "for last_day in dates[2:]:\n",
    "    \n",
    "    \n",
    "\n",
    "    # last_day = dates[1]\n",
    "\n",
    "    mask = [x <= last_day for x in list(tempdf.date)]\n",
    "    tempdf = tempdf[mask]\n",
    "    tempdf = tempdf.tail(4)\n",
    "    display(tempdf)\n",
    "\n",
    "    datafiles = list(tempdf.filename)\n",
    "    print(datafiles)\n",
    "    df = pd.read_csv(datafiles[0])\n",
    "    print(f'time: {time.time()-time2} sec')\n",
    "\n",
    "    df_new = pd.DataFrame(columns = df.columns)\n",
    "    for file in datafiles:\n",
    "        temp_df = pd.read_csv(file)\n",
    "        df_new = pd.concat([df_new, temp_df], axis=0)\n",
    "    print(f'time: {time.time()-time2} sec')\n",
    "\n",
    "    # remove duplicates\n",
    "    df_new.reset_index(inplace=True, drop=True)\n",
    "    df_new.drop_duplicates(inplace=True)\n",
    "    df_new.Datetime = pd.to_datetime(df_new.Datetime)\n",
    "    df_new.sort_values(by='Datetime')\n",
    "    print(f'time: {time.time()-time2} sec')\n",
    "\n",
    "    df = df_new\n",
    "    df.Datetime = pd.to_datetime(df.Datetime)\n",
    "    df.drop_duplicates(inplace=True)\n",
    "    df.sort_values(by='Datetime')\n",
    "\n",
    "    df['time'] = df.Datetime.dt.time\n",
    "    df['date'] = df.Datetime.dt.date\n",
    "\n",
    "    df = df.fillna(method='ffill')\n",
    "    dayclose = df[df.time==datetime.time(15, 58, 0)]\n",
    "    dayopen = df[df.time==datetime.time(9, 30, 0)]\n",
    "    dayopen.reset_index(drop=True, inplace=True)\n",
    "    dayclose.reset_index(drop=True, inplace=True)\n",
    "    dayclose.sort_values(by='date')\n",
    "    print(f'time: {time.time()-time2} sec')\n",
    "\n",
    "    ### now i wanna do feature engineering for all assets \n",
    "\n",
    "    asset_list = ['Spx', 'Nasdaq', 'Russel', 'EMXC', 'EEMA', 'EEM', 'VTHR']\n",
    "\n",
    "    for asset in asset_list:\n",
    "\n",
    "        df[asset + '_ret'] = 100*(df[asset]/df[asset].shift(1)-1)\n",
    "        df['s_' + asset + '_ret_1prd'] = (100*(df[asset]/df[asset].shift(1)-1)).shift(1)\n",
    "        df['s_' + asset + '_ret_2prd'] = (100*(df[asset]/df[asset].shift(2)-1)).shift(1)\n",
    "        df['s_' + asset + '_ret_4prd'] = (100*(df[asset]/df[asset].shift(4)-1)).shift(1)\n",
    "        # display(df.shape, df.head(5))\n",
    "\n",
    "        df.loc[df.time < datetime.time(9, 32, 0), 's_' + asset + '_1prd'] = np.nan\n",
    "        df.loc[df.time < datetime.time(9, 33, 0), 's_' + asset + '_2prd'] = np.nan\n",
    "        df.loc[df.time < datetime.time(9, 35, 0), 's_' + asset + '_4prd'] = np.nan\n",
    "\n",
    "        dayopen.rename(columns={asset:asset+'_open'}, inplace=True)\n",
    "        # dayopen.head()\n",
    "        dayclose.rename(columns={asset:asset+'_close'}, inplace=True)\n",
    "        dayclose_l1 = dayclose.copy()\n",
    "        dayclose_l2 = dayclose.copy()\n",
    "        dayclose_l1[asset+'_close_l1'] = dayclose_l1[asset+'_close'].shift(1)\n",
    "        dayclose_l2[asset+'_close_l2'] = dayclose_l2[asset+'_close'].shift(2)\n",
    "\n",
    "        df = pd.merge(df, dayopen[['date', asset + '_open']], on=['date'], how='left')\n",
    "        df = pd.merge(df, dayclose_l1[['date', asset + '_close_l1']], on=['date'], how='left')\n",
    "        df = pd.merge(df, dayclose_l2[['date', asset + '_close_l2']], on=['date'], how='left')\n",
    "\n",
    "        df['s_' + asset + '_ret_open'] = (100*(df[asset]/df[asset + '_open']-1)).shift(1)\n",
    "        df['s_' + asset + '_ret_close1'] = (100*(df[asset]/df[asset + '_close_l1']-1)).shift(1)\n",
    "        df['s_' + asset + '_ret_close2'] = (100*(df[asset]/df[asset + '_close_l2']-1)).shift(1)\n",
    "\n",
    "        cols_todrop = [x for x in list(df.columns) if asset in x and 'ret' not in x]\n",
    "        df.drop(columns = cols_todrop, inplace=True)\n",
    "    print(f'time: {time.time()-time2} sec')\n",
    "\n",
    "    ### do prediction ###\n",
    "\n",
    "    storage_client = storage.Client()\n",
    "    bucket_name='pmykola-streaming-projects'\n",
    "    model_path='spg-stocks/artifacts/en_model.pkl'\n",
    "\n",
    "    bucket = storage_client.get_bucket(bucket_name)\n",
    "    blob = bucket.blob(model_path)\n",
    "    model_file = BytesIO()\n",
    "    blob.download_to_file(model_file)\n",
    "    trained_model=joblib.load(model_file)\n",
    "\n",
    "    # df.date.max()\n",
    "    this_day = df.loc[df.date == df.date.max()]\n",
    "    print(f'{this_day.shape[0]} observations this day')\n",
    "    X = this_day.copy()\n",
    "    X.drop(columns = ['Datetime',\n",
    "                  'time', \n",
    "                  'date', \n",
    "                  'Spx_ret', \n",
    "                  'Nasdaq_ret', \n",
    "                  'Russel_ret', \n",
    "                  'EEMA_ret', \n",
    "                  'EEM_ret', \n",
    "                  'EMXC_ret', \n",
    "                  'VXUS_ret', \n",
    "                  'VTHR_ret'], \n",
    "                  inplace=True,\n",
    "                  errors = 'ignore')\n",
    "\n",
    "    if(X.count().sum() < X.shape[1]):\n",
    "        print(f'''There are {X.shape[1] - X.count().sum()} missing values. \n",
    "              There will be an error''')\n",
    "\n",
    "    y = this_day.VTHR_ret\n",
    "    y_hat = trained_model.predict(X)\n",
    "\n",
    "    model_rmse = mean_squared_error(y, y_hat)\n",
    "    constant_rmse = mean_squared_error(y, np.zeros(len(y)))\n",
    "\n",
    "    performance = pd.DataFrame([[100*(r2_score(y, y_hat)), model_rmse, constant_rmse, 100*(1-model_rmse/constant_rmse)]], \n",
    "                          columns = ['R2', 'model_rmse', 'constant_rmse', 'rmse_improvement'])\n",
    "    performance['date'] = df.date.max()\n",
    "    print(f'time: {time.time()-time2} sec')\n",
    "\n",
    "    file_name = 'spg-stocks/artifacts/performance-data/' + \\\n",
    "    'm1_performance_' + \\\n",
    "    str(df.date.max().year) + \\\n",
    "    str(df.date.max().month) + \\\n",
    "    str(df.date.max().day) + \\\n",
    "    '_pull_time_' + \\\n",
    "    now_time + \\\n",
    "    '.csv'\n",
    "\n",
    "    storage_client = storage.Client()\n",
    "    bucket_name = 'pmykola-streaming-projects'\n",
    "    BUCKET = storage_client.get_bucket(bucket_name)\n",
    "\n",
    "    blob = BUCKET.blob(file_name)\n",
    "    blob.upload_from_string(performance.to_csv(), 'text/csv')\n",
    "    print('Upload to Cloud Storage complete.')\n",
    "\n",
    "    project_id = 'valid-heuristic-369117'\n",
    "    bucket_path = 'gs://pmykola-streaming-projects/spg-stocks/artifacts/performance-data/'\n",
    "    table_id = 'spg_stocks.daily_performance'\n",
    "\n",
    "    performance.rename(columns={'date':'ddate'}, inplace=True)\n",
    "    pandas_gbq.to_gbq(performance, table_id, project_id=project_id, if_exists='append')\n",
    "\n",
    "    result = ('Success: ' + file_name + ' upload complete. ' + \n",
    "    'Total time: ' + str(time.time()-time0)[:6] + 'sec')\n",
    "    print('response', result)\n",
    "    print(f'time: {time.time()-time2} sec')\n",
    "    \n",
    "    "
   ]
  },
  {
   "cell_type": "code",
   "execution_count": 156,
   "id": "93d1911b-75a8-42b1-98b2-baeb9824439c",
   "metadata": {},
   "outputs": [
    {
     "data": {
      "text/plain": [
       "Timestamp('2023-01-26 00:00:00')"
      ]
     },
     "execution_count": 156,
     "metadata": {},
     "output_type": "execute_result"
    }
   ],
   "source": [
    "last_day"
   ]
  },
  {
   "cell_type": "code",
   "execution_count": null,
   "id": "18348b99-c4b8-4bb0-935d-2aca0003aa16",
   "metadata": {},
   "outputs": [],
   "source": []
  }
 ],
 "metadata": {
  "environment": {
   "kernel": "python3",
   "name": "common-cu110.m103",
   "type": "gcloud",
   "uri": "gcr.io/deeplearning-platform-release/base-cu110:m103"
  },
  "kernelspec": {
   "display_name": "Python 3",
   "language": "python",
   "name": "python3"
  },
  "language_info": {
   "codemirror_mode": {
    "name": "ipython",
    "version": 3
   },
   "file_extension": ".py",
   "mimetype": "text/x-python",
   "name": "python",
   "nbconvert_exporter": "python",
   "pygments_lexer": "ipython3",
   "version": "3.7.12"
  }
 },
 "nbformat": 4,
 "nbformat_minor": 5
}
